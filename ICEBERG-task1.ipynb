{
 "cells": [
  {
   "cell_type": "code",
   "execution_count": 850,
   "metadata": {
    "collapsed": false
   },
   "outputs": [],
   "source": [
    "import numpy as np\n",
    "import pandas as pd\n",
    "import matplotlib.pyplot as plt\n",
    "import scipy.stats as sts\n",
    "import sklearn\n",
    "import math\n",
    "import seaborn as sb\n",
    "import xgboost as xgb\n",
    "from bisect import bisect_left\n",
    "from sklearn.metrics import accuracy_score\n",
    "from IPython.display import display, Math, Latex\n",
    "from matplotlib.legend_handler import HandlerLine2D\n",
    "from collections import Counter\n",
    "from sklearn import datasets, linear_model, cross_validation, datasets, grid_search,  metrics, preprocessing\n",
    "from sklearn.svm import SVC\n",
    "from sklearn.cross_validation import cross_val_score\n",
    "from sklearn import ensemble\n",
    "from sklearn.cross_validation import train_test_split\n",
    "from sklearn.metrics import classification_report\n",
    "%matplotlib inline"
   ]
  },
  {
   "cell_type": "markdown",
   "metadata": {},
   "source": [
    "Прежде, чем выбирать и тренировать модели, я решил поискать, что известно по этой теме:\n",
    "<br>https://www.ruor.uottawa.ca/bitstream/10393/31553/3/Weissbock_Joshua_2014_thesis.pdf\n",
    "<br>http://web.uvic.ca/~afyshe/dm_projs/nhl_final_report.pdf\n",
    "<br>http://thesportjournal.org/article/goal-based-metrics-better-than-shot-based-metrics-at-predicting-hockey-success/"
   ]
  },
  {
   "cell_type": "markdown",
   "metadata": {},
   "source": [
    "В целом, как я понял, модели основанные на подсчёте голов работают намного лучше, чем модели, основанные на подсчёте бросков по воротам.\n",
    "<br>В файле очень стрёмные данные, возможно, я их обрабатываю не совсем эффективно, но мне ещё не приходилось тратить столько время на предобработку до обучения моделей :)"
   ]
  },
  {
   "cell_type": "code",
   "execution_count": 2,
   "metadata": {
    "collapsed": false
   },
   "outputs": [
    {
     "name": "stderr",
     "output_type": "stream",
     "text": [
      "/home/rtriangle/anaconda2/lib/python2.7/site-packages/IPython/core/interactiveshell.py:2717: DtypeWarning: Columns (1,57) have mixed types. Specify dtype option on import or set low_memory=False.\n",
      "  interactivity=interactivity, compiler=compiler, result=result)\n"
     ]
    }
   ],
   "source": [
    "data2013_2014 = pd.read_csv(\"data2013-2014.csv\")"
   ]
  },
  {
   "cell_type": "code",
   "execution_count": 3,
   "metadata": {
    "collapsed": false,
    "scrolled": true
   },
   "outputs": [
    {
     "name": "stderr",
     "output_type": "stream",
     "text": [
      "/home/rtriangle/anaconda2/lib/python2.7/site-packages/numpy/lib/function_base.py:3834: RuntimeWarning: Invalid value encountered in percentile\n",
      "  RuntimeWarning)\n"
     ]
    },
    {
     "data": {
      "text/html": [
       "<div>\n",
       "<table border=\"1\" class=\"dataframe\">\n",
       "  <thead>\n",
       "    <tr style=\"text-align: right;\">\n",
       "      <th></th>\n",
       "      <th>Unnamed: 0</th>\n",
       "      <th>Duration</th>\n",
       "      <th>Game.ID</th>\n",
       "      <th>Seconds</th>\n",
       "      <th>Home.Skaters</th>\n",
       "      <th>Away.Skaters</th>\n",
       "      <th>Home.Score</th>\n",
       "      <th>Away.Score</th>\n",
       "      <th>Score.Cat</th>\n",
       "      <th>Event.Length</th>\n",
       "      <th>...</th>\n",
       "      <th>fweight1</th>\n",
       "      <th>sweight1</th>\n",
       "      <th>gweight1</th>\n",
       "      <th>cweight2</th>\n",
       "      <th>fweight2</th>\n",
       "      <th>sweight2</th>\n",
       "      <th>gweight2</th>\n",
       "      <th>is.Rebound</th>\n",
       "      <th>is.Rush</th>\n",
       "      <th>xG</th>\n",
       "    </tr>\n",
       "  </thead>\n",
       "  <tbody>\n",
       "    <tr>\n",
       "      <th>count</th>\n",
       "      <td>2.526505e+06</td>\n",
       "      <td>2.108858e+06</td>\n",
       "      <td>2.526447e+06</td>\n",
       "      <td>2.526505e+06</td>\n",
       "      <td>2.526505e+06</td>\n",
       "      <td>2.526505e+06</td>\n",
       "      <td>2.526505e+06</td>\n",
       "      <td>2.526505e+06</td>\n",
       "      <td>2.526505e+06</td>\n",
       "      <td>2.526505e+06</td>\n",
       "      <td>...</td>\n",
       "      <td>2.526505e+06</td>\n",
       "      <td>2.526505e+06</td>\n",
       "      <td>2.526505e+06</td>\n",
       "      <td>2.526505e+06</td>\n",
       "      <td>2.526505e+06</td>\n",
       "      <td>2.526505e+06</td>\n",
       "      <td>2.526505e+06</td>\n",
       "      <td>2.526505e+06</td>\n",
       "      <td>2.526505e+06</td>\n",
       "      <td>112062.000000</td>\n",
       "    </tr>\n",
       "    <tr>\n",
       "      <th>mean</th>\n",
       "      <td>1.263253e+06</td>\n",
       "      <td>5.402609e+01</td>\n",
       "      <td>2.136209e+04</td>\n",
       "      <td>1.824997e+03</td>\n",
       "      <td>4.794811e+00</td>\n",
       "      <td>4.795009e+00</td>\n",
       "      <td>1.338297e+00</td>\n",
       "      <td>1.193619e+00</td>\n",
       "      <td>1.339206e-01</td>\n",
       "      <td>1.921711e+00</td>\n",
       "      <td>...</td>\n",
       "      <td>1.053428e+00</td>\n",
       "      <td>1.048019e+00</td>\n",
       "      <td>1.048531e+00</td>\n",
       "      <td>1.007583e+00</td>\n",
       "      <td>1.005990e+00</td>\n",
       "      <td>1.005763e+00</td>\n",
       "      <td>1.002349e+00</td>\n",
       "      <td>2.442109e-03</td>\n",
       "      <td>2.843850e-03</td>\n",
       "      <td>0.063799</td>\n",
       "    </tr>\n",
       "    <tr>\n",
       "      <th>std</th>\n",
       "      <td>7.293393e+05</td>\n",
       "      <td>9.878570e+01</td>\n",
       "      <td>2.592268e+03</td>\n",
       "      <td>1.080966e+03</td>\n",
       "      <td>7.438128e-01</td>\n",
       "      <td>7.241270e-01</td>\n",
       "      <td>1.369353e+00</td>\n",
       "      <td>1.286519e+00</td>\n",
       "      <td>1.374058e+00</td>\n",
       "      <td>5.043676e+00</td>\n",
       "      <td>...</td>\n",
       "      <td>2.665875e-01</td>\n",
       "      <td>2.468885e-01</td>\n",
       "      <td>2.424413e-01</td>\n",
       "      <td>8.744871e-02</td>\n",
       "      <td>7.730224e-02</td>\n",
       "      <td>7.578931e-02</td>\n",
       "      <td>4.758263e-02</td>\n",
       "      <td>4.935733e-02</td>\n",
       "      <td>5.325188e-02</td>\n",
       "      <td>0.066184</td>\n",
       "    </tr>\n",
       "    <tr>\n",
       "      <th>min</th>\n",
       "      <td>1.000000e+00</td>\n",
       "      <td>-1.200000e+03</td>\n",
       "      <td>2.000100e+04</td>\n",
       "      <td>-1.000000e-02</td>\n",
       "      <td>0.000000e+00</td>\n",
       "      <td>0.000000e+00</td>\n",
       "      <td>0.000000e+00</td>\n",
       "      <td>0.000000e+00</td>\n",
       "      <td>-3.000000e+00</td>\n",
       "      <td>-1.000000e-03</td>\n",
       "      <td>...</td>\n",
       "      <td>6.247371e-01</td>\n",
       "      <td>6.328879e-01</td>\n",
       "      <td>6.514085e-01</td>\n",
       "      <td>8.370780e-01</td>\n",
       "      <td>8.505145e-01</td>\n",
       "      <td>8.488780e-01</td>\n",
       "      <td>9.337780e-01</td>\n",
       "      <td>0.000000e+00</td>\n",
       "      <td>0.000000e+00</td>\n",
       "      <td>0.003730</td>\n",
       "    </tr>\n",
       "    <tr>\n",
       "      <th>25%</th>\n",
       "      <td>6.316270e+05</td>\n",
       "      <td>NaN</td>\n",
       "      <td>NaN</td>\n",
       "      <td>8.910010e+02</td>\n",
       "      <td>5.000000e+00</td>\n",
       "      <td>5.000000e+00</td>\n",
       "      <td>0.000000e+00</td>\n",
       "      <td>0.000000e+00</td>\n",
       "      <td>-1.000000e+00</td>\n",
       "      <td>0.000000e+00</td>\n",
       "      <td>...</td>\n",
       "      <td>9.012834e-01</td>\n",
       "      <td>9.046361e-01</td>\n",
       "      <td>9.273743e-01</td>\n",
       "      <td>9.616500e-01</td>\n",
       "      <td>9.602225e-01</td>\n",
       "      <td>9.635553e-01</td>\n",
       "      <td>9.453376e-01</td>\n",
       "      <td>0.000000e+00</td>\n",
       "      <td>0.000000e+00</td>\n",
       "      <td>NaN</td>\n",
       "    </tr>\n",
       "    <tr>\n",
       "      <th>50%</th>\n",
       "      <td>1.263253e+06</td>\n",
       "      <td>NaN</td>\n",
       "      <td>NaN</td>\n",
       "      <td>1.815001e+03</td>\n",
       "      <td>5.000000e+00</td>\n",
       "      <td>5.000000e+00</td>\n",
       "      <td>1.000000e+00</td>\n",
       "      <td>1.000000e+00</td>\n",
       "      <td>0.000000e+00</td>\n",
       "      <td>0.000000e+00</td>\n",
       "      <td>...</td>\n",
       "      <td>1.000000e+00</td>\n",
       "      <td>1.000000e+00</td>\n",
       "      <td>1.000000e+00</td>\n",
       "      <td>1.000000e+00</td>\n",
       "      <td>1.000000e+00</td>\n",
       "      <td>1.000000e+00</td>\n",
       "      <td>1.000000e+00</td>\n",
       "      <td>0.000000e+00</td>\n",
       "      <td>0.000000e+00</td>\n",
       "      <td>NaN</td>\n",
       "    </tr>\n",
       "    <tr>\n",
       "      <th>75%</th>\n",
       "      <td>1.894879e+06</td>\n",
       "      <td>NaN</td>\n",
       "      <td>NaN</td>\n",
       "      <td>2.745999e+03</td>\n",
       "      <td>5.000000e+00</td>\n",
       "      <td>5.000000e+00</td>\n",
       "      <td>2.000000e+00</td>\n",
       "      <td>2.000000e+00</td>\n",
       "      <td>1.000000e+00</td>\n",
       "      <td>9.000000e-03</td>\n",
       "      <td>...</td>\n",
       "      <td>1.123001e+00</td>\n",
       "      <td>1.117839e+00</td>\n",
       "      <td>1.084967e+00</td>\n",
       "      <td>1.041536e+00</td>\n",
       "      <td>1.043215e+00</td>\n",
       "      <td>1.039310e+00</td>\n",
       "      <td>1.061372e+00</td>\n",
       "      <td>0.000000e+00</td>\n",
       "      <td>0.000000e+00</td>\n",
       "      <td>NaN</td>\n",
       "    </tr>\n",
       "    <tr>\n",
       "      <th>max</th>\n",
       "      <td>2.526505e+06</td>\n",
       "      <td>1.200000e+03</td>\n",
       "      <td>3.041500e+04</td>\n",
       "      <td>6.026000e+03</td>\n",
       "      <td>6.000000e+00</td>\n",
       "      <td>6.000000e+00</td>\n",
       "      <td>9.000000e+00</td>\n",
       "      <td>8.000000e+00</td>\n",
       "      <td>3.000000e+00</td>\n",
       "      <td>8.099000e+01</td>\n",
       "      <td>...</td>\n",
       "      <td>2.504215e+00</td>\n",
       "      <td>2.381285e+00</td>\n",
       "      <td>2.151163e+00</td>\n",
       "      <td>1.241668e+00</td>\n",
       "      <td>1.213237e+00</td>\n",
       "      <td>1.216583e+00</td>\n",
       "      <td>1.076332e+00</td>\n",
       "      <td>1.000000e+00</td>\n",
       "      <td>1.000000e+00</td>\n",
       "      <td>0.535407</td>\n",
       "    </tr>\n",
       "  </tbody>\n",
       "</table>\n",
       "<p>8 rows × 29 columns</p>\n",
       "</div>"
      ],
      "text/plain": [
       "         Unnamed: 0      Duration       Game.ID       Seconds  Home.Skaters  \\\n",
       "count  2.526505e+06  2.108858e+06  2.526447e+06  2.526505e+06  2.526505e+06   \n",
       "mean   1.263253e+06  5.402609e+01  2.136209e+04  1.824997e+03  4.794811e+00   \n",
       "std    7.293393e+05  9.878570e+01  2.592268e+03  1.080966e+03  7.438128e-01   \n",
       "min    1.000000e+00 -1.200000e+03  2.000100e+04 -1.000000e-02  0.000000e+00   \n",
       "25%    6.316270e+05           NaN           NaN  8.910010e+02  5.000000e+00   \n",
       "50%    1.263253e+06           NaN           NaN  1.815001e+03  5.000000e+00   \n",
       "75%    1.894879e+06           NaN           NaN  2.745999e+03  5.000000e+00   \n",
       "max    2.526505e+06  1.200000e+03  3.041500e+04  6.026000e+03  6.000000e+00   \n",
       "\n",
       "       Away.Skaters    Home.Score    Away.Score     Score.Cat  Event.Length  \\\n",
       "count  2.526505e+06  2.526505e+06  2.526505e+06  2.526505e+06  2.526505e+06   \n",
       "mean   4.795009e+00  1.338297e+00  1.193619e+00  1.339206e-01  1.921711e+00   \n",
       "std    7.241270e-01  1.369353e+00  1.286519e+00  1.374058e+00  5.043676e+00   \n",
       "min    0.000000e+00  0.000000e+00  0.000000e+00 -3.000000e+00 -1.000000e-03   \n",
       "25%    5.000000e+00  0.000000e+00  0.000000e+00 -1.000000e+00  0.000000e+00   \n",
       "50%    5.000000e+00  1.000000e+00  1.000000e+00  0.000000e+00  0.000000e+00   \n",
       "75%    5.000000e+00  2.000000e+00  2.000000e+00  1.000000e+00  9.000000e-03   \n",
       "max    6.000000e+00  9.000000e+00  8.000000e+00  3.000000e+00  8.099000e+01   \n",
       "\n",
       "           ...            fweight1      sweight1      gweight1      cweight2  \\\n",
       "count      ...        2.526505e+06  2.526505e+06  2.526505e+06  2.526505e+06   \n",
       "mean       ...        1.053428e+00  1.048019e+00  1.048531e+00  1.007583e+00   \n",
       "std        ...        2.665875e-01  2.468885e-01  2.424413e-01  8.744871e-02   \n",
       "min        ...        6.247371e-01  6.328879e-01  6.514085e-01  8.370780e-01   \n",
       "25%        ...        9.012834e-01  9.046361e-01  9.273743e-01  9.616500e-01   \n",
       "50%        ...        1.000000e+00  1.000000e+00  1.000000e+00  1.000000e+00   \n",
       "75%        ...        1.123001e+00  1.117839e+00  1.084967e+00  1.041536e+00   \n",
       "max        ...        2.504215e+00  2.381285e+00  2.151163e+00  1.241668e+00   \n",
       "\n",
       "           fweight2      sweight2      gweight2    is.Rebound       is.Rush  \\\n",
       "count  2.526505e+06  2.526505e+06  2.526505e+06  2.526505e+06  2.526505e+06   \n",
       "mean   1.005990e+00  1.005763e+00  1.002349e+00  2.442109e-03  2.843850e-03   \n",
       "std    7.730224e-02  7.578931e-02  4.758263e-02  4.935733e-02  5.325188e-02   \n",
       "min    8.505145e-01  8.488780e-01  9.337780e-01  0.000000e+00  0.000000e+00   \n",
       "25%    9.602225e-01  9.635553e-01  9.453376e-01  0.000000e+00  0.000000e+00   \n",
       "50%    1.000000e+00  1.000000e+00  1.000000e+00  0.000000e+00  0.000000e+00   \n",
       "75%    1.043215e+00  1.039310e+00  1.061372e+00  0.000000e+00  0.000000e+00   \n",
       "max    1.213237e+00  1.216583e+00  1.076332e+00  1.000000e+00  1.000000e+00   \n",
       "\n",
       "                  xG  \n",
       "count  112062.000000  \n",
       "mean        0.063799  \n",
       "std         0.066184  \n",
       "min         0.003730  \n",
       "25%              NaN  \n",
       "50%              NaN  \n",
       "75%              NaN  \n",
       "max         0.535407  \n",
       "\n",
       "[8 rows x 29 columns]"
      ]
     },
     "execution_count": 3,
     "metadata": {},
     "output_type": "execute_result"
    }
   ],
   "source": [
    "data2013_2014.describe()"
   ]
  },
  {
   "cell_type": "code",
   "execution_count": 5,
   "metadata": {
    "collapsed": false
   },
   "outputs": [
    {
     "data": {
      "text/plain": [
       "Index([u'Unnamed: 0', u'Period', u'Event', u'Description', u'Duration',\n",
       "       u'Date', u'Game.ID', u'ev.team', u'p1', u'p2', u'p3', u'ev.zone',\n",
       "       u'Detail', u'Seconds', u'a1.num', u'a1.pos', u'a2.num', u'a2.pos',\n",
       "       u'a3.num', u'a3.pos', u'a4.num', u'a4.pos', u'a5.num', u'a5.pos',\n",
       "       u'a6.num', u'a6.pos', u'h1.num', u'h1.pos', u'h2.num', u'h2.pos',\n",
       "       u'h3.num', u'h3.pos', u'h4.num', u'h4.pos', u'h5.num', u'h5.pos',\n",
       "       u'h6.num', u'h6.pos', u'Away.Team', u'Home.Team', u'Away.Goalie',\n",
       "       u'Home.Goalie', u'Home.Skaters', u'Away.Skaters', u'Home.Score',\n",
       "       u'Away.Score', u'Strength.State', u'Score.State', u'Score.Cat',\n",
       "       u'Event.Length', u'URL', u'Highlight', u'XC', u'YC', u'Season',\n",
       "       u'Season.Type', u'Home.Zone', u'Newcode', u'Round.Seconds', u'Distance',\n",
       "       u'Angle', u'cweight1', u'fweight1', u'sweight1', u'gweight1',\n",
       "       u'cweight2', u'fweight2', u'sweight2', u'gweight2', u'is.Rebound',\n",
       "       u'is.Rush', u'xG'],\n",
       "      dtype='object')"
      ]
     },
     "execution_count": 5,
     "metadata": {},
     "output_type": "execute_result"
    }
   ],
   "source": [
    "data2013_2014.columns"
   ]
  },
  {
   "cell_type": "markdown",
   "metadata": {},
   "source": [
    "Я решил выделить признаки, несущие наибольшее количество информации для моей задачи, с помощью них можно будет сгенерировать также много новых фич."
   ]
  },
  {
   "cell_type": "code",
   "execution_count": 6,
   "metadata": {
    "collapsed": false,
    "scrolled": true
   },
   "outputs": [],
   "source": [
    "data2013_2014_useful = data2013_2014[[\"Period\", \"Game.ID\", \"Away.Team\", \"Home.Team\", \n",
    "                                      \"Home.Score\", \"Away.Score\", \"Season\", \"Season.Type\", \n",
    "                                      \"Strength.State\", \"Score.State\"]]"
   ]
  },
  {
   "cell_type": "code",
   "execution_count": 7,
   "metadata": {
    "collapsed": false
   },
   "outputs": [
    {
     "name": "stdout",
     "output_type": "stream",
     "text": [
      "(2526505, 10)\n",
      "Counter({20132014: 2526505})\n"
     ]
    }
   ],
   "source": [
    "print data2013_2014_useful.shape\n",
    "print Counter(np.array(data2013_2014_useful[\"Season\"]))"
   ]
  },
  {
   "cell_type": "code",
   "execution_count": 8,
   "metadata": {
    "collapsed": false
   },
   "outputs": [
    {
     "name": "stdout",
     "output_type": "stream",
     "text": [
      "(2526505, 10)\n",
      "Counter({'Regular': 2330144, 'Playoffs': 196361})\n"
     ]
    }
   ],
   "source": [
    "print data2013_2014_useful.shape\n",
    "print Counter(np.array(data2013_2014_useful[\"Season.Type\"]))"
   ]
  },
  {
   "cell_type": "markdown",
   "metadata": {},
   "source": [
    "Таким образом, можем удалить колонку \"Season\", а из \"Season.Type\" сделать в будущем новый признак isRegular и isPlayOff"
   ]
  },
  {
   "cell_type": "code",
   "execution_count": 9,
   "metadata": {
    "collapsed": false
   },
   "outputs": [
    {
     "name": "stdout",
     "output_type": "stream",
     "text": [
      "Counter({'1': 572493, '3': 556499, '2': 532299, 1: 284185, 3: 270162, 2: 263560, 'OT': 28376, 4: 7995, '4': 6900, '5': 2544, 5: 1460, 6: 30, nan: 2})\n"
     ]
    }
   ],
   "source": [
    "print Counter(data2013_2014_useful[\"Period\"])"
   ]
  },
  {
   "cell_type": "markdown",
   "metadata": {},
   "source": [
    "Правила об овертаймах в нхл меняются чуть ли не каждый год, но, в любом случае, давайте считать, что 1, 2, 3 - это основные периоды, а всё остальное - это 4ый период, то есть, овертайм."
   ]
  },
  {
   "cell_type": "code",
   "execution_count": 10,
   "metadata": {
    "collapsed": false
   },
   "outputs": [],
   "source": [
    "di = {'1': 1, '2': 2, '3': 3, '4': 4, '5': 4, '6': 4, 'OT': 4, 5: 4, 6: 4, np.nan: 4}"
   ]
  },
  {
   "cell_type": "code",
   "execution_count": 11,
   "metadata": {
    "collapsed": false
   },
   "outputs": [],
   "source": [
    "data2013_2014_useful = data2013_2014_useful.replace({\"Period\": di})"
   ]
  },
  {
   "cell_type": "code",
   "execution_count": 12,
   "metadata": {
    "collapsed": false
   },
   "outputs": [
    {
     "name": "stdout",
     "output_type": "stream",
     "text": [
      "Counter({1: 856678, 3: 826661, 2: 795859, 4: 47307})\n",
      "Counter({20132014: 2526505})\n"
     ]
    }
   ],
   "source": [
    "print Counter(data2013_2014_useful[\"Period\"])\n",
    "print Counter(data2013_2014_useful[\"Season\"])"
   ]
  },
  {
   "cell_type": "markdown",
   "metadata": {},
   "source": [
    "Cезон тоже можно удалить, потому что он не несёт никакой информации"
   ]
  },
  {
   "cell_type": "code",
   "execution_count": 13,
   "metadata": {
    "collapsed": false
   },
   "outputs": [],
   "source": [
    "del data2013_2014_useful[\"Season\"]"
   ]
  },
  {
   "cell_type": "markdown",
   "metadata": {},
   "source": [
    "Также видим, что Home.Score и Away.Score содержат ту же информацию, что и Score.State, поэтому удалим Score.State"
   ]
  },
  {
   "cell_type": "code",
   "execution_count": 14,
   "metadata": {
    "collapsed": true
   },
   "outputs": [],
   "source": [
    "del data2013_2014_useful[\"Score.State\"]"
   ]
  },
  {
   "cell_type": "markdown",
   "metadata": {},
   "source": [
    "Добавим признак isRegular, который будет = 1, если это регулярный чемпионат и -1, если это плей-офф. \n",
    "<br> На мой взгляд, это лучше, чем добавить 2 признака isRegular и isPlayoff, с 1 и 0 в соответствующих ячейках, так как тогда эти 2 признака будут сильно коррелировать и веса будут большими, если мы будем использовать модели без регуляризаторов."
   ]
  },
  {
   "cell_type": "code",
   "execution_count": 15,
   "metadata": {
    "collapsed": false
   },
   "outputs": [],
   "source": [
    "data2013_2014_useful['isRegular'] = np.where(data2013_2014_useful['Season.Type']=='Regular', 1, -1)\n",
    "del data2013_2014_useful['Season.Type']"
   ]
  },
  {
   "cell_type": "code",
   "execution_count": 16,
   "metadata": {
    "collapsed": false
   },
   "outputs": [
    {
     "data": {
      "text/html": [
       "<div>\n",
       "<table border=\"1\" class=\"dataframe\">\n",
       "  <thead>\n",
       "    <tr style=\"text-align: right;\">\n",
       "      <th></th>\n",
       "      <th>Period</th>\n",
       "      <th>Game.ID</th>\n",
       "      <th>Away.Team</th>\n",
       "      <th>Home.Team</th>\n",
       "      <th>Home.Score</th>\n",
       "      <th>Away.Score</th>\n",
       "      <th>Strength.State</th>\n",
       "      <th>isRegular</th>\n",
       "    </tr>\n",
       "  </thead>\n",
       "  <tbody>\n",
       "    <tr>\n",
       "      <th>0</th>\n",
       "      <td>1</td>\n",
       "      <td>20001.0</td>\n",
       "      <td>TOR</td>\n",
       "      <td>MTL</td>\n",
       "      <td>0</td>\n",
       "      <td>0</td>\n",
       "      <td>5v5</td>\n",
       "      <td>1</td>\n",
       "    </tr>\n",
       "    <tr>\n",
       "      <th>1</th>\n",
       "      <td>1</td>\n",
       "      <td>20001.0</td>\n",
       "      <td>TOR</td>\n",
       "      <td>MTL</td>\n",
       "      <td>0</td>\n",
       "      <td>0</td>\n",
       "      <td>5v5</td>\n",
       "      <td>1</td>\n",
       "    </tr>\n",
       "    <tr>\n",
       "      <th>2</th>\n",
       "      <td>1</td>\n",
       "      <td>20001.0</td>\n",
       "      <td>TOR</td>\n",
       "      <td>MTL</td>\n",
       "      <td>0</td>\n",
       "      <td>0</td>\n",
       "      <td>5v5</td>\n",
       "      <td>1</td>\n",
       "    </tr>\n",
       "    <tr>\n",
       "      <th>3</th>\n",
       "      <td>1</td>\n",
       "      <td>20001.0</td>\n",
       "      <td>TOR</td>\n",
       "      <td>MTL</td>\n",
       "      <td>0</td>\n",
       "      <td>0</td>\n",
       "      <td>5v5</td>\n",
       "      <td>1</td>\n",
       "    </tr>\n",
       "    <tr>\n",
       "      <th>4</th>\n",
       "      <td>1</td>\n",
       "      <td>20001.0</td>\n",
       "      <td>TOR</td>\n",
       "      <td>MTL</td>\n",
       "      <td>0</td>\n",
       "      <td>0</td>\n",
       "      <td>5v5</td>\n",
       "      <td>1</td>\n",
       "    </tr>\n",
       "  </tbody>\n",
       "</table>\n",
       "</div>"
      ],
      "text/plain": [
       "   Period  Game.ID Away.Team Home.Team  Home.Score  Away.Score Strength.State  \\\n",
       "0       1  20001.0       TOR       MTL           0           0            5v5   \n",
       "1       1  20001.0       TOR       MTL           0           0            5v5   \n",
       "2       1  20001.0       TOR       MTL           0           0            5v5   \n",
       "3       1  20001.0       TOR       MTL           0           0            5v5   \n",
       "4       1  20001.0       TOR       MTL           0           0            5v5   \n",
       "\n",
       "   isRegular  \n",
       "0          1  \n",
       "1          1  \n",
       "2          1  \n",
       "3          1  \n",
       "4          1  "
      ]
     },
     "execution_count": 16,
     "metadata": {},
     "output_type": "execute_result"
    }
   ],
   "source": [
    "data2013_2014_useful.head()"
   ]
  },
  {
   "cell_type": "code",
   "execution_count": 17,
   "metadata": {
    "collapsed": false
   },
   "outputs": [],
   "source": [
    "x = np.array(data2013_2014_useful[\"Strength.State\"])\n",
    "x1 = map(lambda y: (y.split('v')[0]), x)\n",
    "x2 = map(lambda y: (y.split('v')[1]), x)"
   ]
  },
  {
   "cell_type": "code",
   "execution_count": 18,
   "metadata": {
    "collapsed": false
   },
   "outputs": [
    {
     "name": "stdout",
     "output_type": "stream",
     "text": [
      "Counter({'5': 2166283, '4': 275918, 'E': 74032, '3': 6099, '0': 4055, '2': 63, '1': 55})\n",
      "Counter({'5': 2151834, '4': 289256, 'E': 74032, '3': 7693, '0': 3651, '1': 24, '2': 15})\n"
     ]
    }
   ],
   "source": [
    "print Counter(x1)\n",
    "print Counter(x2)"
   ]
  },
  {
   "cell_type": "markdown",
   "metadata": {},
   "source": [
    "Я не знаю, что значит E в Strength.State, возможно, это equal, но в первых строчках видно, что в случае равных составов всё равно пишут XvX. Этих данных не так уж много по сравнению с числами, поэтому в будущем можем выкинуть строчки, где есть E"
   ]
  },
  {
   "cell_type": "code",
   "execution_count": 19,
   "metadata": {
    "collapsed": false
   },
   "outputs": [],
   "source": [
    "x1 = map(lambda x: float(x) if x != 'E' else 'E', x1)\n",
    "x2 = map(lambda x: float(x) if x != 'E' else 'E', x2)"
   ]
  },
  {
   "cell_type": "code",
   "execution_count": 20,
   "metadata": {
    "collapsed": false,
    "scrolled": true
   },
   "outputs": [
    {
     "name": "stdout",
     "output_type": "stream",
     "text": [
      "Counter({5.0: 2166283, 4.0: 275918, 'E': 74032, 3.0: 6099, 0.0: 4055, 2.0: 63, 1.0: 55})\n",
      "Counter({5.0: 2151834, 4.0: 289256, 'E': 74032, 3.0: 7693, 0.0: 3651, 1.0: 24, 2.0: 15})\n"
     ]
    }
   ],
   "source": [
    "print Counter(x1)\n",
    "print Counter(x2)"
   ]
  },
  {
   "cell_type": "code",
   "execution_count": 21,
   "metadata": {
    "collapsed": false
   },
   "outputs": [],
   "source": [
    "data2013_2014_useful[\"Away.Team.Strength\"] = np.array(x1)\n",
    "data2013_2014_useful[\"Home.Team.Strength\"] = np.array(x2)"
   ]
  },
  {
   "cell_type": "code",
   "execution_count": 22,
   "metadata": {
    "collapsed": false
   },
   "outputs": [],
   "source": [
    "del data2013_2014_useful[\"Strength.State\"]"
   ]
  },
  {
   "cell_type": "code",
   "execution_count": 23,
   "metadata": {
    "collapsed": false
   },
   "outputs": [
    {
     "data": {
      "text/plain": [
       "(2526505, 9)"
      ]
     },
     "execution_count": 23,
     "metadata": {},
     "output_type": "execute_result"
    }
   ],
   "source": [
    "data2013_2014_useful.shape"
   ]
  },
  {
   "cell_type": "code",
   "execution_count": 24,
   "metadata": {
    "collapsed": false
   },
   "outputs": [],
   "source": [
    "data2013_2014_useful = data2013_2014_useful[data2013_2014_useful[\"Away.Team.Strength\"] != 'E']\n",
    "data2013_2014_useful = data2013_2014_useful[data2013_2014_useful[\"Home.Team.Strength\"] != 'E']"
   ]
  },
  {
   "cell_type": "code",
   "execution_count": 25,
   "metadata": {
    "collapsed": false
   },
   "outputs": [
    {
     "data": {
      "text/plain": [
       "(2452473, 9)"
      ]
     },
     "execution_count": 25,
     "metadata": {},
     "output_type": "execute_result"
    }
   ],
   "source": [
    "data2013_2014_useful.shape"
   ]
  },
  {
   "cell_type": "markdown",
   "metadata": {},
   "source": [
    "Добавим информацию об удалениях, чтобы потом можно было считать количество удалений в периоде/матче и тд"
   ]
  },
  {
   "cell_type": "code",
   "execution_count": 26,
   "metadata": {
    "collapsed": false
   },
   "outputs": [],
   "source": [
    "x1 = list(data2013_2014_useful[\"Away.Team.Strength\"])\n",
    "x2 = list(data2013_2014_useful[\"Home.Team.Strength\"])"
   ]
  },
  {
   "cell_type": "code",
   "execution_count": 27,
   "metadata": {
    "collapsed": false
   },
   "outputs": [],
   "source": [
    "x1 = map(lambda x: float(x), x1)\n",
    "x2 = map(lambda x: float(x), x2)"
   ]
  },
  {
   "cell_type": "code",
   "execution_count": 28,
   "metadata": {
    "collapsed": false
   },
   "outputs": [
    {
     "name": "stdout",
     "output_type": "stream",
     "text": [
      "17497.0\n",
      "18427.0\n"
     ]
    }
   ],
   "source": [
    "x1_penalty = [float(max(x1[i] - x1[i+1], 0)) for i in range(len(x1)-1)] \n",
    "x2_penalty = [float(max(x2[i] - x2[i+1], 0)) for i in range(len(x2)-1)]\n",
    "print np.sum(x1_penalty)\n",
    "print np.sum(x2_penalty)"
   ]
  },
  {
   "cell_type": "code",
   "execution_count": 29,
   "metadata": {
    "collapsed": false
   },
   "outputs": [
    {
     "data": {
      "text/plain": [
       "2452472"
      ]
     },
     "execution_count": 29,
     "metadata": {},
     "output_type": "execute_result"
    }
   ],
   "source": [
    "len(x1_penalty)"
   ]
  },
  {
   "cell_type": "code",
   "execution_count": 30,
   "metadata": {
    "collapsed": true
   },
   "outputs": [],
   "source": [
    "x1_penalty = x1_penalty + [0]\n",
    "x2_penalty = x2_penalty + [0]"
   ]
  },
  {
   "cell_type": "markdown",
   "metadata": {},
   "source": [
    "Так как уменьшили размерность на 1"
   ]
  },
  {
   "cell_type": "code",
   "execution_count": 31,
   "metadata": {
    "collapsed": false
   },
   "outputs": [],
   "source": [
    "data2013_2014_useful[\"Away.Penalty\"] = np.array(x1_penalty)\n",
    "data2013_2014_useful[\"Home.Penalty\"] = np.array(x2_penalty)"
   ]
  },
  {
   "cell_type": "markdown",
   "metadata": {},
   "source": [
    "Посмотрим на названия всех команд:"
   ]
  },
  {
   "cell_type": "code",
   "execution_count": 32,
   "metadata": {
    "collapsed": false
   },
   "outputs": [
    {
     "name": "stdout",
     "output_type": "stream",
     "text": [
      "['N.J', 'MIN', 'TOR', 'WSH', 'BOS', 'DET', 'NYI', 'FLA', 'L.A', 'COL', 'NSH', 'DAL', 'CGY', 'NYR', 'CAR', 'WPG', 'BUF', 'VAN', 'STL', 'CHI', 'T.B', 'S.J', 'MTL', 'PHI', 'ANA', 'CBJ', 'PIT', 'EDM', 'ARI', 'OTT']\n"
     ]
    }
   ],
   "source": [
    "teams = list(set(np.array(data2013_2014_useful[\"Away.Team\"])))\n",
    "print teams"
   ]
  },
  {
   "cell_type": "code",
   "execution_count": 33,
   "metadata": {
    "collapsed": false
   },
   "outputs": [
    {
     "data": {
      "text/html": [
       "<div>\n",
       "<table border=\"1\" class=\"dataframe\">\n",
       "  <thead>\n",
       "    <tr style=\"text-align: right;\">\n",
       "      <th></th>\n",
       "      <th>Period</th>\n",
       "      <th>Game.ID</th>\n",
       "      <th>Away.Team</th>\n",
       "      <th>Home.Team</th>\n",
       "      <th>Home.Score</th>\n",
       "      <th>Away.Score</th>\n",
       "      <th>isRegular</th>\n",
       "      <th>Away.Team.Strength</th>\n",
       "      <th>Home.Team.Strength</th>\n",
       "      <th>Away.Penalty</th>\n",
       "      <th>Home.Penalty</th>\n",
       "    </tr>\n",
       "  </thead>\n",
       "  <tbody>\n",
       "    <tr>\n",
       "      <th>0</th>\n",
       "      <td>1</td>\n",
       "      <td>20001.0</td>\n",
       "      <td>TOR</td>\n",
       "      <td>MTL</td>\n",
       "      <td>0</td>\n",
       "      <td>0</td>\n",
       "      <td>1</td>\n",
       "      <td>5.0</td>\n",
       "      <td>5.0</td>\n",
       "      <td>0.0</td>\n",
       "      <td>0.0</td>\n",
       "    </tr>\n",
       "    <tr>\n",
       "      <th>1</th>\n",
       "      <td>1</td>\n",
       "      <td>20001.0</td>\n",
       "      <td>TOR</td>\n",
       "      <td>MTL</td>\n",
       "      <td>0</td>\n",
       "      <td>0</td>\n",
       "      <td>1</td>\n",
       "      <td>5.0</td>\n",
       "      <td>5.0</td>\n",
       "      <td>0.0</td>\n",
       "      <td>0.0</td>\n",
       "    </tr>\n",
       "    <tr>\n",
       "      <th>2</th>\n",
       "      <td>1</td>\n",
       "      <td>20001.0</td>\n",
       "      <td>TOR</td>\n",
       "      <td>MTL</td>\n",
       "      <td>0</td>\n",
       "      <td>0</td>\n",
       "      <td>1</td>\n",
       "      <td>5.0</td>\n",
       "      <td>5.0</td>\n",
       "      <td>0.0</td>\n",
       "      <td>0.0</td>\n",
       "    </tr>\n",
       "    <tr>\n",
       "      <th>3</th>\n",
       "      <td>1</td>\n",
       "      <td>20001.0</td>\n",
       "      <td>TOR</td>\n",
       "      <td>MTL</td>\n",
       "      <td>0</td>\n",
       "      <td>0</td>\n",
       "      <td>1</td>\n",
       "      <td>5.0</td>\n",
       "      <td>5.0</td>\n",
       "      <td>0.0</td>\n",
       "      <td>0.0</td>\n",
       "    </tr>\n",
       "    <tr>\n",
       "      <th>4</th>\n",
       "      <td>1</td>\n",
       "      <td>20001.0</td>\n",
       "      <td>TOR</td>\n",
       "      <td>MTL</td>\n",
       "      <td>0</td>\n",
       "      <td>0</td>\n",
       "      <td>1</td>\n",
       "      <td>5.0</td>\n",
       "      <td>5.0</td>\n",
       "      <td>0.0</td>\n",
       "      <td>0.0</td>\n",
       "    </tr>\n",
       "  </tbody>\n",
       "</table>\n",
       "</div>"
      ],
      "text/plain": [
       "   Period  Game.ID Away.Team Home.Team  Home.Score  Away.Score  isRegular  \\\n",
       "0       1  20001.0       TOR       MTL           0           0          1   \n",
       "1       1  20001.0       TOR       MTL           0           0          1   \n",
       "2       1  20001.0       TOR       MTL           0           0          1   \n",
       "3       1  20001.0       TOR       MTL           0           0          1   \n",
       "4       1  20001.0       TOR       MTL           0           0          1   \n",
       "\n",
       "  Away.Team.Strength Home.Team.Strength  Away.Penalty  Home.Penalty  \n",
       "0                5.0                5.0           0.0           0.0  \n",
       "1                5.0                5.0           0.0           0.0  \n",
       "2                5.0                5.0           0.0           0.0  \n",
       "3                5.0                5.0           0.0           0.0  \n",
       "4                5.0                5.0           0.0           0.0  "
      ]
     },
     "execution_count": 33,
     "metadata": {},
     "output_type": "execute_result"
    }
   ],
   "source": [
    "data2013_2014_useful.head()"
   ]
  },
  {
   "cell_type": "code",
   "execution_count": 34,
   "metadata": {
    "collapsed": false
   },
   "outputs": [
    {
     "data": {
      "text/plain": [
       "(2452473, 11)"
      ]
     },
     "execution_count": 34,
     "metadata": {},
     "output_type": "execute_result"
    }
   ],
   "source": [
    "data2013_2014_useful.shape"
   ]
  },
  {
   "cell_type": "markdown",
   "metadata": {},
   "source": [
    "Я заметил, что есть nan в Game.ID, тяжело будет работать с такими данными, удалим их"
   ]
  },
  {
   "cell_type": "code",
   "execution_count": 35,
   "metadata": {
    "collapsed": false
   },
   "outputs": [],
   "source": [
    "data2013_2014_useful = data2013_2014_useful[np.isfinite(data2013_2014_useful[\"Game.ID\"])]"
   ]
  },
  {
   "cell_type": "code",
   "execution_count": 85,
   "metadata": {
    "collapsed": false
   },
   "outputs": [
    {
     "data": {
      "text/plain": [
       "(2452416, 11)"
      ]
     },
     "execution_count": 85,
     "metadata": {},
     "output_type": "execute_result"
    }
   ],
   "source": [
    "data2013_2014_useful.shape"
   ]
  },
  {
   "cell_type": "code",
   "execution_count": 86,
   "metadata": {
    "collapsed": false
   },
   "outputs": [],
   "source": [
    "keys_of_data_Home = data2013_2014_useful.groupby(['Home.Team', 'Game.ID']).groups.keys()\n",
    "keys_of_data_Away = data2013_2014_useful.groupby(['Away.Team', 'Game.ID']).groups.keys()"
   ]
  },
  {
   "cell_type": "code",
   "execution_count": 87,
   "metadata": {
    "collapsed": false,
    "scrolled": true
   },
   "outputs": [],
   "source": [
    "keys_of_data_Home.sort()\n",
    "keys_of_data_Away.sort()"
   ]
  },
  {
   "cell_type": "code",
   "execution_count": 124,
   "metadata": {
    "collapsed": true
   },
   "outputs": [],
   "source": [
    "gamesid_for_team = dict()\n",
    "for team in teams:\n",
    "    gamesid_for_team[team] = list()"
   ]
  },
  {
   "cell_type": "code",
   "execution_count": 125,
   "metadata": {
    "collapsed": false
   },
   "outputs": [],
   "source": [
    "for line in keys_of_data_Home:\n",
    "    gamesid_for_team[line[0]].append(line[1])\n",
    "for line in keys_of_data_Away:\n",
    "    gamesid_for_team[line[0]].append(line[1])"
   ]
  },
  {
   "cell_type": "markdown",
   "metadata": {},
   "source": [
    "Получили полезный набор Games.ID для каждой команды"
   ]
  },
  {
   "cell_type": "code",
   "execution_count": 41,
   "metadata": {
    "collapsed": true
   },
   "outputs": [],
   "source": [
    "game_ids = data2013_2014_useful.groupby(['Game.ID']).groups.keys()\n",
    "game_ids.sort()"
   ]
  },
  {
   "cell_type": "code",
   "execution_count": 42,
   "metadata": {
    "collapsed": true
   },
   "outputs": [],
   "source": [
    "data2013_2014_useful['Away.Team.Strength'] = data2013_2014_useful['Away.Team.Strength'].astype('float64')\n",
    "data2013_2014_useful['Home.Team.Strength'] = data2013_2014_useful['Home.Team.Strength'].astype('float64')"
   ]
  },
  {
   "cell_type": "code",
   "execution_count": 43,
   "metadata": {
    "collapsed": false
   },
   "outputs": [],
   "source": [
    "data2013_2014_useful_grouped_Games = data2013_2014_useful.groupby(['Game.ID']).max()\n",
    "data2013_2014_useful_grouped_Games_sum = data2013_2014_useful.groupby(['Game.ID']).sum()\n",
    "data2013_2014_useful_grouped_Games_mean = data2013_2014_useful.groupby(['Game.ID']).mean()"
   ]
  },
  {
   "cell_type": "code",
   "execution_count": 44,
   "metadata": {
    "collapsed": false
   },
   "outputs": [],
   "source": [
    "data2013_2014_useful_grouped_Games[\"Away.Penalty\"] = data2013_2014_useful_grouped_Games_sum[\"Away.Penalty\"]\n",
    "data2013_2014_useful_grouped_Games[\"Home.Penalty\"] = data2013_2014_useful_grouped_Games_sum[\"Home.Penalty\"]\n",
    "data2013_2014_useful_grouped_Games[\"Home.Team.Strength\"] = data2013_2014_useful_grouped_Games_mean[\"Home.Team.Strength\"]\n",
    "data2013_2014_useful_grouped_Games[\"Away.Team.Strength\"] = data2013_2014_useful_grouped_Games_mean[\"Away.Team.Strength\"]"
   ]
  },
  {
   "cell_type": "code",
   "execution_count": 45,
   "metadata": {
    "collapsed": false,
    "scrolled": true
   },
   "outputs": [
    {
     "data": {
      "text/html": [
       "<div>\n",
       "<table border=\"1\" class=\"dataframe\">\n",
       "  <thead>\n",
       "    <tr style=\"text-align: right;\">\n",
       "      <th></th>\n",
       "      <th>Period</th>\n",
       "      <th>Away.Team</th>\n",
       "      <th>Home.Team</th>\n",
       "      <th>Home.Score</th>\n",
       "      <th>Away.Score</th>\n",
       "      <th>isRegular</th>\n",
       "      <th>Away.Team.Strength</th>\n",
       "      <th>Home.Team.Strength</th>\n",
       "      <th>Away.Penalty</th>\n",
       "      <th>Home.Penalty</th>\n",
       "    </tr>\n",
       "    <tr>\n",
       "      <th>Game.ID</th>\n",
       "      <th></th>\n",
       "      <th></th>\n",
       "      <th></th>\n",
       "      <th></th>\n",
       "      <th></th>\n",
       "      <th></th>\n",
       "      <th></th>\n",
       "      <th></th>\n",
       "      <th></th>\n",
       "      <th></th>\n",
       "    </tr>\n",
       "  </thead>\n",
       "  <tbody>\n",
       "    <tr>\n",
       "      <th>20001.0</th>\n",
       "      <td>3</td>\n",
       "      <td>TOR</td>\n",
       "      <td>MTL</td>\n",
       "      <td>3</td>\n",
       "      <td>4</td>\n",
       "      <td>1</td>\n",
       "      <td>4.769272</td>\n",
       "      <td>4.857143</td>\n",
       "      <td>27.0</td>\n",
       "      <td>23.0</td>\n",
       "    </tr>\n",
       "    <tr>\n",
       "      <th>20002.0</th>\n",
       "      <td>3</td>\n",
       "      <td>WSH</td>\n",
       "      <td>CHI</td>\n",
       "      <td>6</td>\n",
       "      <td>4</td>\n",
       "      <td>1</td>\n",
       "      <td>4.859194</td>\n",
       "      <td>4.877416</td>\n",
       "      <td>16.0</td>\n",
       "      <td>18.0</td>\n",
       "    </tr>\n",
       "    <tr>\n",
       "      <th>20003.0</th>\n",
       "      <td>3</td>\n",
       "      <td>WPG</td>\n",
       "      <td>EDM</td>\n",
       "      <td>4</td>\n",
       "      <td>5</td>\n",
       "      <td>1</td>\n",
       "      <td>4.837090</td>\n",
       "      <td>4.876025</td>\n",
       "      <td>19.0</td>\n",
       "      <td>14.0</td>\n",
       "    </tr>\n",
       "    <tr>\n",
       "      <th>20004.0</th>\n",
       "      <td>3</td>\n",
       "      <td>TOR</td>\n",
       "      <td>PHI</td>\n",
       "      <td>1</td>\n",
       "      <td>3</td>\n",
       "      <td>1</td>\n",
       "      <td>4.917208</td>\n",
       "      <td>4.813312</td>\n",
       "      <td>17.0</td>\n",
       "      <td>23.0</td>\n",
       "    </tr>\n",
       "    <tr>\n",
       "      <th>20005.0</th>\n",
       "      <td>3</td>\n",
       "      <td>BUF</td>\n",
       "      <td>DET</td>\n",
       "      <td>2</td>\n",
       "      <td>1</td>\n",
       "      <td>1</td>\n",
       "      <td>4.804692</td>\n",
       "      <td>4.875713</td>\n",
       "      <td>29.0</td>\n",
       "      <td>9.0</td>\n",
       "    </tr>\n",
       "  </tbody>\n",
       "</table>\n",
       "</div>"
      ],
      "text/plain": [
       "         Period Away.Team Home.Team  Home.Score  Away.Score  isRegular  \\\n",
       "Game.ID                                                                  \n",
       "20001.0       3       TOR       MTL           3           4          1   \n",
       "20002.0       3       WSH       CHI           6           4          1   \n",
       "20003.0       3       WPG       EDM           4           5          1   \n",
       "20004.0       3       TOR       PHI           1           3          1   \n",
       "20005.0       3       BUF       DET           2           1          1   \n",
       "\n",
       "         Away.Team.Strength  Home.Team.Strength  Away.Penalty  Home.Penalty  \n",
       "Game.ID                                                                      \n",
       "20001.0            4.769272            4.857143          27.0          23.0  \n",
       "20002.0            4.859194            4.877416          16.0          18.0  \n",
       "20003.0            4.837090            4.876025          19.0          14.0  \n",
       "20004.0            4.917208            4.813312          17.0          23.0  \n",
       "20005.0            4.804692            4.875713          29.0           9.0  "
      ]
     },
     "execution_count": 45,
     "metadata": {},
     "output_type": "execute_result"
    }
   ],
   "source": [
    "data2013_2014_useful_grouped_Games.head()"
   ]
  },
  {
   "cell_type": "code",
   "execution_count": 46,
   "metadata": {
    "collapsed": false
   },
   "outputs": [
    {
     "data": {
      "image/png": "[encoded data removed]",
      "text/plain": [
       "<matplotlib.figure.Figure at 0x7f79982adb50>"
      ]
     },
     "metadata": {},
     "output_type": "display_data"
    }
   ],
   "source": [
    "corr = data2013_2014_useful_grouped_Games.corr()\n",
    "f, ax = plt.subplots(figsize=(10, 9))\n",
    "sb.heatmap(corr, vmax=.8, square=True)\n",
    "plt.show()"
   ]
  },
  {
   "cell_type": "markdown",
   "metadata": {},
   "source": [
    "Видим, что Penalty кореллирует с периодом, это можно объяснить тем, что в овертаймах команды играют 4v4.\n",
    "Также Penalty кореллирует с Team.Strength, что тоже понятно из того, что оба признака описывают количество штрафов за игру. Home.Team.Strength и Away.Team.Strength коррелируют тоже из-за овертаймов. Если будут проблемы, то в будущем удалим сильно кореллирующие)"
   ]
  },
  {
   "cell_type": "markdown",
   "metadata": {},
   "source": [
    "Давайте ещё немного посмотрим на данные :)"
   ]
  },
  {
   "cell_type": "code",
   "execution_count": 47,
   "metadata": {
    "collapsed": false
   },
   "outputs": [
    {
     "data": {
      "image/png": "[encoded data removed]",
      "text/plain": [
       "<matplotlib.figure.Figure at 0x7f79908b8c90>"
      ]
     },
     "metadata": {},
     "output_type": "display_data"
    }
   ],
   "source": [
    "f, (ax1, ax2) = plt.subplots(2)\n",
    "f.set_figheight(8)\n",
    "f.set_figwidth(8)\n",
    "sb.countplot(data2013_2014_useful_grouped_Games[\"Home.Score\"], ax=ax1, color=\"orange\")\n",
    "sb.countplot(data2013_2014_useful_grouped_Games[\"Away.Score\"], ax=ax2, color=\"green\")\n",
    "plt.show()"
   ]
  },
  {
   "cell_type": "markdown",
   "metadata": {},
   "source": [
    "Достаточно логично, что команды в среднем дома играют лучше и забивают больше."
   ]
  },
  {
   "cell_type": "markdown",
   "metadata": {},
   "source": [
    "Теперь будем создавать матрицу, на которой будем тренировать модели.\n",
    "Будем выбирать id матча, который хотим предсказать, затем искать 5 матчей до этого у каждой из 2-х играющих сейчас команд, а затем добавлять различные статистики в наш датафрейм."
   ]
  },
  {
   "cell_type": "code",
   "execution_count": 48,
   "metadata": {
    "collapsed": false
   },
   "outputs": [
    {
     "name": "stdout",
     "output_type": "stream",
     "text": [
      "[[3 'TOR' 'MTL' ..., 4.857142857142857 27.0 23.0]\n",
      " [3 'WSH' 'CHI' ..., 4.8774157923799 16.0 18.0]\n",
      " [3 'WPG' 'EDM' ..., 4.876024590163935 19.0 14.0]\n",
      " ..., \n",
      " [3 'L.A' 'NYR' ..., 4.7753424657534245 10.0 19.0]\n",
      " [3 'L.A' 'NYR' ..., 4.913715710723192 3.0 23.0]\n",
      " [4 'NYR' 'L.A' ..., 4.9367127496159755 25.0 23.0]]\n",
      "(1323, 10)\n",
      "(1323,)\n"
     ]
    }
   ],
   "source": [
    "data2013_2014_useful_grouped_Games_matrix = data2013_2014_useful_grouped_Games.as_matrix()\n",
    "game_ids = np.array(game_ids)\n",
    "print data2013_2014_useful_grouped_Games_matrix\n",
    "print data2013_2014_useful_grouped_Games.shape\n",
    "print game_ids.shape"
   ]
  },
  {
   "cell_type": "code",
   "execution_count": 79,
   "metadata": {
    "collapsed": false
   },
   "outputs": [
    {
     "data": {
      "text/html": [
       "<div>\n",
       "<table border=\"1\" class=\"dataframe\">\n",
       "  <thead>\n",
       "    <tr style=\"text-align: right;\">\n",
       "      <th></th>\n",
       "      <th>Period</th>\n",
       "      <th>Away.Team</th>\n",
       "      <th>Home.Team</th>\n",
       "      <th>Home.Score</th>\n",
       "      <th>Away.Score</th>\n",
       "      <th>isRegular</th>\n",
       "      <th>Away.Team.Strength</th>\n",
       "      <th>Home.Team.Strength</th>\n",
       "      <th>Away.Penalty</th>\n",
       "      <th>Home.Penalty</th>\n",
       "    </tr>\n",
       "    <tr>\n",
       "      <th>Game.ID</th>\n",
       "      <th></th>\n",
       "      <th></th>\n",
       "      <th></th>\n",
       "      <th></th>\n",
       "      <th></th>\n",
       "      <th></th>\n",
       "      <th></th>\n",
       "      <th></th>\n",
       "      <th></th>\n",
       "      <th></th>\n",
       "    </tr>\n",
       "  </thead>\n",
       "  <tbody>\n",
       "    <tr>\n",
       "      <th>20001.0</th>\n",
       "      <td>3</td>\n",
       "      <td>TOR</td>\n",
       "      <td>MTL</td>\n",
       "      <td>3</td>\n",
       "      <td>4</td>\n",
       "      <td>1</td>\n",
       "      <td>4.769272</td>\n",
       "      <td>4.857143</td>\n",
       "      <td>27.0</td>\n",
       "      <td>23.0</td>\n",
       "    </tr>\n",
       "    <tr>\n",
       "      <th>20002.0</th>\n",
       "      <td>3</td>\n",
       "      <td>WSH</td>\n",
       "      <td>CHI</td>\n",
       "      <td>6</td>\n",
       "      <td>4</td>\n",
       "      <td>1</td>\n",
       "      <td>4.859194</td>\n",
       "      <td>4.877416</td>\n",
       "      <td>16.0</td>\n",
       "      <td>18.0</td>\n",
       "    </tr>\n",
       "    <tr>\n",
       "      <th>20003.0</th>\n",
       "      <td>3</td>\n",
       "      <td>WPG</td>\n",
       "      <td>EDM</td>\n",
       "      <td>4</td>\n",
       "      <td>5</td>\n",
       "      <td>1</td>\n",
       "      <td>4.837090</td>\n",
       "      <td>4.876025</td>\n",
       "      <td>19.0</td>\n",
       "      <td>14.0</td>\n",
       "    </tr>\n",
       "    <tr>\n",
       "      <th>20004.0</th>\n",
       "      <td>3</td>\n",
       "      <td>TOR</td>\n",
       "      <td>PHI</td>\n",
       "      <td>1</td>\n",
       "      <td>3</td>\n",
       "      <td>1</td>\n",
       "      <td>4.917208</td>\n",
       "      <td>4.813312</td>\n",
       "      <td>17.0</td>\n",
       "      <td>23.0</td>\n",
       "    </tr>\n",
       "    <tr>\n",
       "      <th>20005.0</th>\n",
       "      <td>3</td>\n",
       "      <td>BUF</td>\n",
       "      <td>DET</td>\n",
       "      <td>2</td>\n",
       "      <td>1</td>\n",
       "      <td>1</td>\n",
       "      <td>4.804692</td>\n",
       "      <td>4.875713</td>\n",
       "      <td>29.0</td>\n",
       "      <td>9.0</td>\n",
       "    </tr>\n",
       "  </tbody>\n",
       "</table>\n",
       "</div>"
      ],
      "text/plain": [
       "         Period Away.Team Home.Team  Home.Score  Away.Score  isRegular  \\\n",
       "Game.ID                                                                  \n",
       "20001.0       3       TOR       MTL           3           4          1   \n",
       "20002.0       3       WSH       CHI           6           4          1   \n",
       "20003.0       3       WPG       EDM           4           5          1   \n",
       "20004.0       3       TOR       PHI           1           3          1   \n",
       "20005.0       3       BUF       DET           2           1          1   \n",
       "\n",
       "         Away.Team.Strength  Home.Team.Strength  Away.Penalty  Home.Penalty  \n",
       "Game.ID                                                                      \n",
       "20001.0            4.769272            4.857143          27.0          23.0  \n",
       "20002.0            4.859194            4.877416          16.0          18.0  \n",
       "20003.0            4.837090            4.876025          19.0          14.0  \n",
       "20004.0            4.917208            4.813312          17.0          23.0  \n",
       "20005.0            4.804692            4.875713          29.0           9.0  "
      ]
     },
     "execution_count": 79,
     "metadata": {},
     "output_type": "execute_result"
    }
   ],
   "source": [
    "data2013_2014_useful_grouped_Games.head()"
   ]
  },
  {
   "cell_type": "markdown",
   "metadata": {},
   "source": [
    "Создавая новую матрицу, будем брать разные признаки в случаях, если команда играла дома и в гостях."
   ]
  },
  {
   "cell_type": "markdown",
   "metadata": {},
   "source": [
    "При добавлении новых признаков, можно всего лишь поменять 2 маски и 2 индекса:)"
   ]
  },
  {
   "cell_type": "code",
   "execution_count": 208,
   "metadata": {
    "collapsed": false
   },
   "outputs": [],
   "source": [
    "home_mask = np.array([0, 3, 5, 7, 9])\n",
    "away_mask = np.array([0, 4, 5, 6, 8])"
   ]
  },
  {
   "cell_type": "code",
   "execution_count": 162,
   "metadata": {
    "collapsed": true
   },
   "outputs": [],
   "source": [
    "ind_of_home_score = 3\n",
    "ind_of_away_score = 4"
   ]
  },
  {
   "cell_type": "code",
   "execution_count": 226,
   "metadata": {
    "collapsed": false
   },
   "outputs": [],
   "source": [
    "dataframe_for_predictions5 = []"
   ]
  },
  {
   "cell_type": "code",
   "execution_count": 164,
   "metadata": {
    "collapsed": false
   },
   "outputs": [],
   "source": [
    "for key in gamesid_for_team.keys():\n",
    "    gamesid_for_team[key].sort()"
   ]
  },
  {
   "cell_type": "markdown",
   "metadata": {},
   "source": [
    "Создадим словарь, где для каждого id будем получать номер строки в data2013_2014_useful_grouped_Games_matrix с таким Game.ID"
   ]
  },
  {
   "cell_type": "code",
   "execution_count": 165,
   "metadata": {
    "collapsed": false
   },
   "outputs": [],
   "source": [
    "place_of_game_with_id = dict()\n",
    "for i in range(len(game_ids)):\n",
    "    place_of_game_with_id[game_ids[i]] = i"
   ]
  },
  {
   "cell_type": "markdown",
   "metadata": {},
   "source": [
    "Будем проходить по всем играм каждой команды, понимать, с кем она играла в матче с таким id, собирать статистику о 5 прошлых матчах этой команды и 5 прошлых матчах её текущего противника в игре с id."
   ]
  },
  {
   "cell_type": "code",
   "execution_count": 227,
   "metadata": {
    "collapsed": false
   },
   "outputs": [],
   "source": [
    "for number_of_game, gameid in enumerate(game_ids):\n",
    "    \n",
    "    first_team = data2013_2014_useful_grouped_Games_matrix[number_of_game][1]\n",
    "    second_team = data2013_2014_useful_grouped_Games_matrix[number_of_game][2]\n",
    "    pointer_first = bisect_left(gamesid_for_team[first_team], gameid)\n",
    "    pointer_second = bisect_left(gamesid_for_team[second_team], gameid)\n",
    "    \n",
    "    if (pointer_first > 5 and pointer_second > 5):\n",
    "        new_line = []\n",
    "        first_statistic = []\n",
    "        second_statistic = []\n",
    "        first_scores = []\n",
    "        second_scores = []\n",
    "        for i in range(pointer_first-5, pointer_first):\n",
    "            first_game_id = gamesid_for_team[first_team][i]\n",
    "            first_line = data2013_2014_useful_grouped_Games_matrix[place_of_game_with_id[first_game_id]]\n",
    "            if (first_team == first_line[2]):\n",
    "                first_statistic.append(list(first_line.take(home_mask)))\n",
    "                first_scores.append(first_line.take(ind_of_home_score))\n",
    "            else:\n",
    "                first_statistic.append(list(first_line.take(away_mask)))\n",
    "                first_scores.append(first_line.take(ind_of_away_score))\n",
    "        for j in range(pointer_second-5, pointer_second):\n",
    "            second_game_id = gamesid_for_team[second_team][j]\n",
    "            second_line = data2013_2014_useful_grouped_Games_matrix[place_of_game_with_id[second_game_id]]\n",
    "            if (second_team == second_line[2]):\n",
    "                second_statistic.append(list(second_line.take(home_mask)))\n",
    "                second_scores.append(second_line.take(ind_of_home_score))\n",
    "            else:\n",
    "                second_statistic.append(list(second_line.take(away_mask)))\n",
    "                second_scores.append(second_line.take(ind_of_away_score))\n",
    "                \n",
    "        #print first_statistic\n",
    "        #print second_statistic\n",
    "        #print first_scores\n",
    "        #print second_scores\n",
    "        first_statistic = np.array(first_statistic)\n",
    "        second_statistic = np.array(second_statistic)\n",
    "        \n",
    "        first_statistic_mean = first_statistic.mean(axis=0)\n",
    "        second_statistic_mean = second_statistic.mean(axis=0)\n",
    "        first_statistic_max = first_statistic.max(axis=0)\n",
    "        second_statistic_max = second_statistic.max(axis=0)\n",
    "        first_statistic_min = first_statistic.min(axis=0)\n",
    "        second_statistic_min = second_statistic.min(axis=0)\n",
    "        \n",
    "        res = np.append(first_statistic_mean, [first_statistic_max, first_statistic_min,\n",
    "                                               second_statistic_mean, second_statistic_max, \n",
    "                                               second_statistic_min])\n",
    "        \n",
    "        res = np.append(res, np.array([data2013_2014_useful_grouped_Games_matrix[number_of_game][3] \\\n",
    "                                       - data2013_2014_useful_grouped_Games_matrix[number_of_game][4]]))\n",
    "        dataframe_for_predictions5.append(list(res))\n",
    "        #print res.shape\n",
    "        #print res\n",
    "        #break"
   ]
  },
  {
   "cell_type": "code",
   "execution_count": 229,
   "metadata": {
    "collapsed": true
   },
   "outputs": [],
   "source": [
    "dataframe_for_predictions5 = np.array(dataframe_for_predictions5)"
   ]
  },
  {
   "cell_type": "code",
   "execution_count": 232,
   "metadata": {
    "collapsed": false
   },
   "outputs": [
    {
     "data": {
      "text/plain": [
       "(1226, 31)"
      ]
     },
     "execution_count": 232,
     "metadata": {},
     "output_type": "execute_result"
    }
   ],
   "source": [
    "dataframe_for_predictions5.shape"
   ]
  },
  {
   "cell_type": "code",
   "execution_count": 428,
   "metadata": {
    "collapsed": false
   },
   "outputs": [
    {
     "data": {
      "text/plain": [
       "array([[  3.2       ,   2.8       ,   1.        , ...,   4.74830547,\n",
       "          5.        ,   3.        ],\n",
       "       [  3.4       ,   3.2       ,   1.        , ...,   4.80898238,\n",
       "         10.        ,  -1.        ],\n",
       "       [  3.4       ,   2.6       ,   1.        , ...,   4.74247312,\n",
       "          7.        ,  -3.        ],\n",
       "       ..., \n",
       "       [  3.8       ,   4.        ,  -1.        , ...,   4.81323756,\n",
       "         13.        ,  -3.        ],\n",
       "       [  3.6       ,   3.8       ,  -1.        , ...,   4.77534247,\n",
       "         13.        ,   1.        ],\n",
       "       [  3.4       ,   1.8       ,  -1.        , ...,   4.86489014,\n",
       "          3.        ,   1.        ]])"
      ]
     },
     "execution_count": 428,
     "metadata": {},
     "output_type": "execute_result"
    }
   ],
   "source": [
    "dataframe_for_predictions5"
   ]
  },
  {
   "cell_type": "markdown",
   "metadata": {},
   "source": [
    "Давайте рассматривать различные регрессоры и подбирать для них оптимальные гиперпараметры."
   ]
  },
  {
   "cell_type": "code",
   "execution_count": 830,
   "metadata": {
    "collapsed": false
   },
   "outputs": [
    {
     "name": "stdout",
     "output_type": "stream",
     "text": [
      "(1226, 30)\n",
      "(1226,)\n",
      "(226,)\n",
      "(1000,)\n"
     ]
    }
   ],
   "source": [
    "X = dataframe_for_predictions5[:, 0:30]\n",
    "X = preprocessing.normalize(X)\n",
    "y = dataframe_for_predictions5[:, 30:31]\n",
    "y = np.array(map(lambda x: x[0], y))\n",
    "y_test = np.array(y[1000:1226])\n",
    "y_train = np.array(y[0:1000])\n",
    "X_test = np.array(X[1000:1226])\n",
    "X_train = np.array(X[0:1000])\n",
    "print X.shape\n",
    "print y.shape\n",
    "print y_test.shape\n",
    "print y_train.shape"
   ]
  },
  {
   "cell_type": "code",
   "execution_count": 831,
   "metadata": {
    "collapsed": true
   },
   "outputs": [],
   "source": [
    "def my_transformer(data):\n",
    "    return [int(0.5 + np.sign(d) / 2.) for d in data]"
   ]
  },
  {
   "cell_type": "code",
   "execution_count": 972,
   "metadata": {
    "collapsed": true
   },
   "outputs": [],
   "source": [
    "y_test_bin = my_transformer(y_test)\n",
    "y_train_bin = my_transformer(y_train)"
   ]
  },
  {
   "cell_type": "code",
   "execution_count": 973,
   "metadata": {
    "collapsed": false
   },
   "outputs": [
    {
     "name": "stdout",
     "output_type": "stream",
     "text": [
      "[0, 0, 0, 1, 1, 1, 0, 1, 0, 1]\n",
      "[1, 1, 0, 1, 1, 1, 0, 0, 0, 1]\n"
     ]
    }
   ],
   "source": [
    "print y_test_bin[:10]\n",
    "print y_train_bin[:10]"
   ]
  },
  {
   "cell_type": "code",
   "execution_count": 939,
   "metadata": {
    "collapsed": false
   },
   "outputs": [
    {
     "name": "stdout",
     "output_type": "stream",
     "text": [
      "[ 3. -1. -3. ..., -3.  1.  1.]\n",
      "[1, 0, 0, 0, 1, 0, 1, 1, 0, 0]\n",
      "[[ 0.06517161  0.05702516  0.02036613 ...,  0.02036613  0.0967046\n",
      "   0.10183064]\n",
      " [ 0.06177386  0.0581401   0.01816878 ...,  0.01816878  0.08737336\n",
      "   0.18168783]\n",
      " [ 0.09376647  0.07170377  0.02757837 ...,  0.02757837  0.13078969\n",
      "   0.19304861]\n",
      " ..., \n",
      " [ 0.09008066  0.09482175 -0.02370544 ..., -0.02370544  0.1140999\n",
      "   0.30817069]\n",
      " [ 0.08681165  0.09163452 -0.02411435 ..., -0.02411435  0.11515427\n",
      "   0.31348651]\n",
      " [ 0.07847547  0.04154584 -0.02308102 ..., -0.02308102  0.11228663\n",
      "   0.06924306]]\n"
     ]
    }
   ],
   "source": [
    "print y\n",
    "print X"
   ]
  },
  {
   "cell_type": "code",
   "execution_count": 989,
   "metadata": {
    "collapsed": false
   },
   "outputs": [
    {
     "data": {
      "text/plain": [
       "0.53619021739130424"
      ]
     },
     "execution_count": 989,
     "metadata": {},
     "output_type": "execute_result"
    }
   ],
   "source": [
    "accur = list()\n",
    "for i in range(1000):\n",
    "    X_train, X_test, y_train, y_test = train_test_split(X, y, test_size=0.30)\n",
    "    lassoreg = sklearn.linear_model.LassoLars(alpha=0.4)\n",
    "    lassoreg.fit(X_train, y_train)\n",
    "    res = lassoreg.predict(X_test)\n",
    "    accur.append(metrics.accuracy_score(my_transformer(res), my_transformer(y_test)))\n",
    "np.mean(accur)"
   ]
  },
  {
   "cell_type": "code",
   "execution_count": 978,
   "metadata": {
    "collapsed": false
   },
   "outputs": [
    {
     "data": {
      "text/plain": [
       "0.52456521739130435"
      ]
     },
     "execution_count": 978,
     "metadata": {},
     "output_type": "execute_result"
    }
   ],
   "source": [
    "accur = list()\n",
    "for i in range(100):\n",
    "    X_train, X_test, y_train, y_test = train_test_split(X, y, test_size=0.30)\n",
    "    ridgereg = sklearn.linear_model.Ridge(alpha=0.5)\n",
    "    ridgereg.fit(X_train, y_train)\n",
    "    res = ridgereg.predict(X_test)\n",
    "    accur.append(metrics.accuracy_score(my_transformer(res), my_transformer(y_test)))\n",
    "np.mean(accur)"
   ]
  },
  {
   "cell_type": "code",
   "execution_count": 979,
   "metadata": {
    "collapsed": false
   },
   "outputs": [
    {
     "data": {
      "text/plain": [
       "0.52650814332247553"
      ]
     },
     "execution_count": 979,
     "metadata": {},
     "output_type": "execute_result"
    }
   ],
   "source": [
    "accur = list()\n",
    "for i in range(1000):\n",
    "    X_train, X_test, y_train, y_test = train_test_split(X, y, test_size=0.25)\n",
    "    xgboostreg = xgb.XGBRegressor(n_estimators=50)\n",
    "    ridgereg.fit(X_train, y_train)\n",
    "    res = ridgereg.predict(X_test)\n",
    "    accur.append(metrics.accuracy_score(my_transformer(res), my_transformer(y_test)))\n",
    "np.mean(accur)"
   ]
  },
  {
   "cell_type": "code",
   "execution_count": 864,
   "metadata": {
    "collapsed": false
   },
   "outputs": [
    {
     "data": {
      "text/plain": [
       "0.52290375203915174"
      ]
     },
     "execution_count": 864,
     "metadata": {},
     "output_type": "execute_result"
    }
   ],
   "source": [
    "accur = list()\n",
    "for i in range(1000):\n",
    "    X_train, X_test, y_train, y_test = train_test_split(X, y, test_size=0.20)\n",
    "    svc_reg = SVC(degree=2)\n",
    "    ridgereg.fit(X_train, y_train)\n",
    "    res = ridgereg.predict(X_test)\n",
    "    accur.append(metrics.accuracy_score(my_transformer(res), my_transformer(y_test)))\n",
    "np.mean(accur)"
   ]
  },
  {
   "cell_type": "code",
   "execution_count": 866,
   "metadata": {
    "collapsed": true
   },
   "outputs": [],
   "source": [
    "from sklearn import pipeline, preprocessing, feature_extraction\n",
    "from heamy.dataset import Dataset\n",
    "from heamy.estimator import Regressor, Classifier\n",
    "from heamy.pipeline import ModelsPipeline"
   ]
  },
  {
   "cell_type": "code",
   "execution_count": 1000,
   "metadata": {
    "collapsed": false
   },
   "outputs": [
    {
     "data": {
      "text/plain": [
       "0.52387622149837132"
      ]
     },
     "execution_count": 1000,
     "metadata": {},
     "output_type": "execute_result"
    }
   ],
   "source": [
    "accur = list()\n",
    "for i in range(100):\n",
    "    X_train, X_test, y_train, y_test = train_test_split(X, y, test_size=0.25)\n",
    "    dataset1 = Dataset(X_train[:, :], y_train, X_test[:, :])\n",
    "    \n",
    "    lassoreg = Regressor(dataset=dataset1, \n",
    "                         estimator=sklearn.linear_model.LassoLars,\n",
    "                         name='rf')\n",
    "    \n",
    "    xgbreg = Regressor(dataset=dataset1, \n",
    "                         estimator=xgb.XGBRegressor,\n",
    "                         name='xgbreg')\n",
    "    \n",
    "    meta_pipeline = ModelsPipeline(lassoreg, xgbreg)\n",
    "    stack_ds = meta_pipeline.blend(proportion=0.2,seed=111)\n",
    "    stacker = Regressor(dataset=stack_ds, estimator=sklearn.linear_model.LinearRegression)\n",
    "    results = stacker.predict()\n",
    "    accur.append(metrics.accuracy_score(my_transformer(results), my_transformer(y_test)))\n",
    "np.mean(accur)"
   ]
  },
  {
   "cell_type": "code",
   "execution_count": 960,
   "metadata": {
    "collapsed": false
   },
   "outputs": [
    {
     "data": {
      "text/plain": [
       "0.53423097826086952"
      ]
     },
     "execution_count": 960,
     "metadata": {},
     "output_type": "execute_result"
    }
   ],
   "source": [
    "accur = list()\n",
    "for i in range(1000):\n",
    "    X_train, X_test, y_train, y_test = train_test_split(X, y_bin, test_size=0.25)\n",
    "    lassoreg = linear_model.LogisticRegression(penalty='l1')\n",
    "    lassoreg.fit(X_train, y_train)\n",
    "    res = lassoreg.predict(X_test)\n",
    "    accur.append(metrics.accuracy_score(res, y_test))\n",
    "np.mean(accur)"
   ]
  },
  {
   "cell_type": "code",
   "execution_count": 970,
   "metadata": {
    "collapsed": false
   },
   "outputs": [
    {
     "data": {
      "text/plain": [
       "0.53087947882736164"
      ]
     },
     "execution_count": 970,
     "metadata": {},
     "output_type": "execute_result"
    }
   ],
   "source": [
    "accur = list()\n",
    "for i in range(100):\n",
    "    X_train, X_test, y_train, y_test = train_test_split(X, y_bin, test_size=0.25)\n",
    "    xgbcl = xgb.XGBClassifier()\n",
    "    xgbcl.fit(X_train, y_train)\n",
    "    res = xgbcl.predict(X_test)\n",
    "    accur.append(metrics.accuracy_score(res, y_test))\n",
    "np.mean(accur)"
   ]
  },
  {
   "cell_type": "code",
   "execution_count": 1026,
   "metadata": {
    "collapsed": false
   },
   "outputs": [
    {
     "data": {
      "text/plain": [
       "['warm_start',\n",
       " 'C',\n",
       " 'n_jobs',\n",
       " 'verbose',\n",
       " 'intercept_scaling',\n",
       " 'fit_intercept',\n",
       " 'max_iter',\n",
       " 'penalty',\n",
       " 'multi_class',\n",
       " 'random_state',\n",
       " 'dual',\n",
       " 'tol',\n",
       " 'solver',\n",
       " 'class_weight']"
      ]
     },
     "execution_count": 1026,
     "metadata": {},
     "output_type": "execute_result"
    }
   ],
   "source": [
    "logreg = sklearn.linear_model.LogisticRegression()\n",
    "logreg.get_params().keys()"
   ]
  },
  {
   "cell_type": "code",
   "execution_count": 1057,
   "metadata": {
    "collapsed": true
   },
   "outputs": [],
   "source": [
    "parameters_grid = {\n",
    "    'max_iter' : np.array([10,25, 50, 100, 150, 200, 250]),\n",
    "    'penalty' : np.array(['l1', 'l2']),\n",
    "    'C': np.array([0.005, 0.01, 0.1, 0.2, 0.5, 0.8])\n",
    "}"
   ]
  },
  {
   "cell_type": "code",
   "execution_count": 1065,
   "metadata": {
    "collapsed": false
   },
   "outputs": [],
   "source": [
    "cv = cross_validation.StratifiedShuffleSplit(y_train_bin, n_iter = 50, test_size = 0.2)"
   ]
  },
  {
   "cell_type": "code",
   "execution_count": 1066,
   "metadata": {
    "collapsed": false
   },
   "outputs": [],
   "source": [
    "grid_cv = grid_search.GridSearchCV(logreg, parameters_grid, scoring = 'accuracy', cv = cv)"
   ]
  },
  {
   "cell_type": "code",
   "execution_count": 1067,
   "metadata": {
    "collapsed": false
   },
   "outputs": [
    {
     "name": "stdout",
     "output_type": "stream",
     "text": [
      "CPU times: user 1.98 s, sys: 32 ms, total: 2.01 s\n",
      "Wall time: 1.01 s\n"
     ]
    },
    {
     "data": {
      "text/plain": [
       "GridSearchCV(cv=sklearn.cross_validation.StratifiedKFold(labels=[1 1 ..., 1 0], n_folds=3, shuffle=False, random_state=None),\n",
       "       error_score='raise',\n",
       "       estimator=LogisticRegression(C=1.0, class_weight=None, dual=False, fit_intercept=True,\n",
       "          intercept_scaling=1, max_iter=100, multi_class='ovr', n_jobs=1,\n",
       "          penalty='l2', random_state=None, solver='liblinear', tol=0.0001,\n",
       "          verbose=0, warm_start=False),\n",
       "       fit_params={}, iid=True, n_jobs=1,\n",
       "       param_grid={'penalty': array(['l1', 'l2'],\n",
       "      dtype='|S2'), 'C': array([ 0.005,  0.01 ,  0.1  ,  0.2  ,  0.5  ,  0.8  ]), 'max_iter': array([ 10,  25,  50, 100, 150, 200, 250])},\n",
       "       pre_dispatch='2*n_jobs', refit=True, scoring='accuracy', verbose=0)"
      ]
     },
     "execution_count": 1067,
     "metadata": {},
     "output_type": "execute_result"
    }
   ],
   "source": [
    "%%time\n",
    "grid_cv.fit(X_train, y_train_bin)"
   ]
  },
  {
   "cell_type": "code",
   "execution_count": 1068,
   "metadata": {
    "collapsed": false
   },
   "outputs": [
    {
     "name": "stdout",
     "output_type": "stream",
     "text": [
      "{'penalty': 'l2', 'C': 0.20000000000000001, 'max_iter': 10}\n",
      "LogisticRegression(C=0.20000000000000001, class_weight=None, dual=False,\n",
      "          fit_intercept=True, intercept_scaling=1, max_iter=10,\n",
      "          multi_class='ovr', n_jobs=1, penalty='l2', random_state=None,\n",
      "          solver='liblinear', tol=0.0001, verbose=0, warm_start=False)\n"
     ]
    }
   ],
   "source": [
    "print grid_cv.best_params_\n",
    "print grid_cv.best_estimator_"
   ]
  },
  {
   "cell_type": "code",
   "execution_count": 1069,
   "metadata": {
    "collapsed": false
   },
   "outputs": [
    {
     "name": "stdout",
     "output_type": "stream",
     "text": [
      "0.536452665941\n",
      "{'penalty': 'l2', 'C': 0.20000000000000001, 'max_iter': 10}\n"
     ]
    }
   ],
   "source": [
    "print grid_cv.best_score_\n",
    "print grid_cv.best_params_"
   ]
  },
  {
   "cell_type": "code",
   "execution_count": null,
   "metadata": {
    "collapsed": true
   },
   "outputs": [],
   "source": []
  }
 ],
 "metadata": {
  "anaconda-cloud": {},
  "kernelspec": {
   "display_name": "Python [conda root]",
   "language": "python",
   "name": "conda-root-py"
  },
  "language_info": {
   "codemirror_mode": {
    "name": "ipython",
    "version": 2
   },
   "file_extension": ".py",
   "mimetype": "text/x-python",
   "name": "python",
   "nbconvert_exporter": "python",
   "pygments_lexer": "ipython2",
   "version": "2.7.12"
  }
 },
 "nbformat": 4,
 "nbformat_minor": 1
}
