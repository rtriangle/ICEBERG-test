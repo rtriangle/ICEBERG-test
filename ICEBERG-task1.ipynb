{
 "cells": [
  {
   "cell_type": "code",
   "execution_count": 1,
   "metadata": {
    "collapsed": false
   },
   "outputs": [],
   "source": [
    "import numpy as np\n",
    "import pandas as pd\n",
    "import matplotlib.pyplot as plt\n",
    "import scipy.stats as sts\n",
    "import sklearn\n",
    "import math\n",
    "import seaborn as sb\n",
    "import xgboost as xgb\n",
    "from bisect import bisect_left\n",
    "from sklearn.metrics import accuracy_score\n",
    "from IPython.display import display, Math, Latex\n",
    "from matplotlib.legend_handler import HandlerLine2D\n",
    "from collections import Counter\n",
    "from sklearn import datasets, linear_model, cross_validation, datasets, grid_search,metrics, preprocessing, ensemble\n",
    "from sklearn.svm import SVC\n",
    "from sklearn.cross_validation import cross_val_score\n",
    "from sklearn.cross_validation import train_test_split\n",
    "from sklearn.metrics import classification_report\n",
    "%matplotlib inline"
   ]
  },
  {
   "cell_type": "markdown",
   "metadata": {},
   "source": [
    "Прежде, чем выбирать и тренировать модели, я решил поискать, что известно по этой теме:\n",
    "<br>https://www.ruor.uottawa.ca/bitstream/10393/31553/3/Weissbock_Joshua_2014_thesis.pdf\n",
    "<br>http://web.uvic.ca/~afyshe/dm_projs/nhl_final_report.pdf\n",
    "<br>http://thesportjournal.org/article/goal-based-metrics-better-than-shot-based-metrics-at-predicting-hockey-success/"
   ]
  },
  {
   "cell_type": "markdown",
   "metadata": {},
   "source": [
    "В целом, как я понял, модели основанные на подсчёте голов работают намного лучше, чем модели, основанные на подсчёте бросков по воротам.\n",
    "<br>В файле очень стрёмные данные, возможно, я их обрабатываю не совсем эффективно, но мне ещё не приходилось тратить столько время на предобработку до обучения моделей :)"
   ]
  },
  {
   "cell_type": "code",
   "execution_count": 2,
   "metadata": {
    "collapsed": false
   },
   "outputs": [
    {
     "name": "stderr",
     "output_type": "stream",
     "text": [
      "/home/rtriangle/anaconda2/lib/python2.7/site-packages/IPython/core/interactiveshell.py:2717: DtypeWarning: Columns (1) have mixed types. Specify dtype option on import or set low_memory=False.\n",
      "  interactivity=interactivity, compiler=compiler, result=result)\n"
     ]
    }
   ],
   "source": [
    "data2014_2015 = pd.read_csv(\"data2014-2015.csv\")"
   ]
  },
  {
   "cell_type": "code",
   "execution_count": 3,
   "metadata": {
    "collapsed": false
   },
   "outputs": [
    {
     "name": "stderr",
     "output_type": "stream",
     "text": [
      "/home/rtriangle/anaconda2/lib/python2.7/site-packages/IPython/core/interactiveshell.py:2717: DtypeWarning: Columns (1,57) have mixed types. Specify dtype option on import or set low_memory=False.\n",
      "  interactivity=interactivity, compiler=compiler, result=result)\n"
     ]
    }
   ],
   "source": [
    "data2013_2014 = pd.read_csv(\"data2013-2014.csv\")"
   ]
  },
  {
   "cell_type": "code",
   "execution_count": 4,
   "metadata": {
    "collapsed": false
   },
   "outputs": [],
   "source": [
    "data2012_2013 = pd.read_csv(\"data2012-2013.csv\")"
   ]
  },
  {
   "cell_type": "code",
   "execution_count": 5,
   "metadata": {
    "collapsed": false
   },
   "outputs": [
    {
     "name": "stderr",
     "output_type": "stream",
     "text": [
      "/home/rtriangle/anaconda2/lib/python2.7/site-packages/numpy/lib/function_base.py:3834: RuntimeWarning: Invalid value encountered in percentile\n",
      "  RuntimeWarning)\n"
     ]
    },
    {
     "data": {
      "text/html": [
       "<div>\n",
       "<table border=\"1\" class=\"dataframe\">\n",
       "  <thead>\n",
       "    <tr style=\"text-align: right;\">\n",
       "      <th></th>\n",
       "      <th>Unnamed: 0</th>\n",
       "      <th>Duration</th>\n",
       "      <th>Game.ID</th>\n",
       "      <th>Seconds</th>\n",
       "      <th>Home.Skaters</th>\n",
       "      <th>Away.Skaters</th>\n",
       "      <th>Home.Score</th>\n",
       "      <th>Away.Score</th>\n",
       "      <th>Score.Cat</th>\n",
       "      <th>Event.Length</th>\n",
       "      <th>...</th>\n",
       "      <th>fweight1</th>\n",
       "      <th>sweight1</th>\n",
       "      <th>gweight1</th>\n",
       "      <th>cweight2</th>\n",
       "      <th>fweight2</th>\n",
       "      <th>sweight2</th>\n",
       "      <th>gweight2</th>\n",
       "      <th>is.Rebound</th>\n",
       "      <th>is.Rush</th>\n",
       "      <th>xG</th>\n",
       "    </tr>\n",
       "  </thead>\n",
       "  <tbody>\n",
       "    <tr>\n",
       "      <th>count</th>\n",
       "      <td>2.543801e+06</td>\n",
       "      <td>2.120722e+06</td>\n",
       "      <td>2.543801e+06</td>\n",
       "      <td>2.543801e+06</td>\n",
       "      <td>2.543801e+06</td>\n",
       "      <td>2.543801e+06</td>\n",
       "      <td>2.543801e+06</td>\n",
       "      <td>2.543801e+06</td>\n",
       "      <td>2.543801e+06</td>\n",
       "      <td>2.543801e+06</td>\n",
       "      <td>...</td>\n",
       "      <td>2.543801e+06</td>\n",
       "      <td>2.543801e+06</td>\n",
       "      <td>2.543801e+06</td>\n",
       "      <td>2.543801e+06</td>\n",
       "      <td>2.543801e+06</td>\n",
       "      <td>2.543801e+06</td>\n",
       "      <td>2.543801e+06</td>\n",
       "      <td>2.543801e+06</td>\n",
       "      <td>2.543801e+06</td>\n",
       "      <td>110928.000000</td>\n",
       "    </tr>\n",
       "    <tr>\n",
       "      <th>mean</th>\n",
       "      <td>1.271901e+06</td>\n",
       "      <td>5.351582e+01</td>\n",
       "      <td>2.132237e+04</td>\n",
       "      <td>1.824231e+03</td>\n",
       "      <td>4.810442e+00</td>\n",
       "      <td>4.810372e+00</td>\n",
       "      <td>1.301700e+00</td>\n",
       "      <td>1.184273e+00</td>\n",
       "      <td>1.060311e-01</td>\n",
       "      <td>1.900825e+00</td>\n",
       "      <td>...</td>\n",
       "      <td>1.054632e+00</td>\n",
       "      <td>1.049059e+00</td>\n",
       "      <td>1.049237e+00</td>\n",
       "      <td>1.007692e+00</td>\n",
       "      <td>1.006093e+00</td>\n",
       "      <td>1.005865e+00</td>\n",
       "      <td>1.002417e+00</td>\n",
       "      <td>2.390124e-03</td>\n",
       "      <td>2.916895e-03</td>\n",
       "      <td>0.063690</td>\n",
       "    </tr>\n",
       "    <tr>\n",
       "      <th>std</th>\n",
       "      <td>7.343322e+05</td>\n",
       "      <td>9.869447e+01</td>\n",
       "      <td>2.530518e+03</td>\n",
       "      <td>1.080168e+03</td>\n",
       "      <td>7.158951e-01</td>\n",
       "      <td>6.982912e-01</td>\n",
       "      <td>1.370025e+00</td>\n",
       "      <td>1.270678e+00</td>\n",
       "      <td>1.365924e+00</td>\n",
       "      <td>4.990288e+00</td>\n",
       "      <td>...</td>\n",
       "      <td>2.711074e-01</td>\n",
       "      <td>2.510368e-01</td>\n",
       "      <td>2.448816e-01</td>\n",
       "      <td>8.823466e-02</td>\n",
       "      <td>7.813665e-02</td>\n",
       "      <td>7.660911e-02</td>\n",
       "      <td>4.838696e-02</td>\n",
       "      <td>4.883044e-02</td>\n",
       "      <td>5.392947e-02</td>\n",
       "      <td>0.066010</td>\n",
       "    </tr>\n",
       "    <tr>\n",
       "      <th>min</th>\n",
       "      <td>1.000000e+00</td>\n",
       "      <td>-1.200000e+03</td>\n",
       "      <td>2.000100e+04</td>\n",
       "      <td>-1.000000e-02</td>\n",
       "      <td>0.000000e+00</td>\n",
       "      <td>0.000000e+00</td>\n",
       "      <td>0.000000e+00</td>\n",
       "      <td>0.000000e+00</td>\n",
       "      <td>-3.000000e+00</td>\n",
       "      <td>-1.000000e-03</td>\n",
       "      <td>...</td>\n",
       "      <td>6.247371e-01</td>\n",
       "      <td>6.328879e-01</td>\n",
       "      <td>6.514085e-01</td>\n",
       "      <td>8.370780e-01</td>\n",
       "      <td>8.505145e-01</td>\n",
       "      <td>8.488780e-01</td>\n",
       "      <td>9.337780e-01</td>\n",
       "      <td>0.000000e+00</td>\n",
       "      <td>0.000000e+00</td>\n",
       "      <td>0.001525</td>\n",
       "    </tr>\n",
       "    <tr>\n",
       "      <th>25%</th>\n",
       "      <td>6.359510e+05</td>\n",
       "      <td>NaN</td>\n",
       "      <td>2.033300e+04</td>\n",
       "      <td>8.910010e+02</td>\n",
       "      <td>5.000000e+00</td>\n",
       "      <td>5.000000e+00</td>\n",
       "      <td>0.000000e+00</td>\n",
       "      <td>0.000000e+00</td>\n",
       "      <td>-1.000000e+00</td>\n",
       "      <td>0.000000e+00</td>\n",
       "      <td>...</td>\n",
       "      <td>9.012834e-01</td>\n",
       "      <td>9.046361e-01</td>\n",
       "      <td>9.273743e-01</td>\n",
       "      <td>9.616500e-01</td>\n",
       "      <td>9.602225e-01</td>\n",
       "      <td>9.635553e-01</td>\n",
       "      <td>9.453376e-01</td>\n",
       "      <td>0.000000e+00</td>\n",
       "      <td>0.000000e+00</td>\n",
       "      <td>NaN</td>\n",
       "    </tr>\n",
       "    <tr>\n",
       "      <th>50%</th>\n",
       "      <td>1.271901e+06</td>\n",
       "      <td>NaN</td>\n",
       "      <td>2.066400e+04</td>\n",
       "      <td>1.816000e+03</td>\n",
       "      <td>5.000000e+00</td>\n",
       "      <td>5.000000e+00</td>\n",
       "      <td>1.000000e+00</td>\n",
       "      <td>1.000000e+00</td>\n",
       "      <td>0.000000e+00</td>\n",
       "      <td>0.000000e+00</td>\n",
       "      <td>...</td>\n",
       "      <td>1.000000e+00</td>\n",
       "      <td>1.000000e+00</td>\n",
       "      <td>1.000000e+00</td>\n",
       "      <td>1.000000e+00</td>\n",
       "      <td>1.000000e+00</td>\n",
       "      <td>1.000000e+00</td>\n",
       "      <td>1.000000e+00</td>\n",
       "      <td>0.000000e+00</td>\n",
       "      <td>0.000000e+00</td>\n",
       "      <td>NaN</td>\n",
       "    </tr>\n",
       "    <tr>\n",
       "      <th>75%</th>\n",
       "      <td>1.907851e+06</td>\n",
       "      <td>NaN</td>\n",
       "      <td>2.099500e+04</td>\n",
       "      <td>2.742999e+03</td>\n",
       "      <td>5.000000e+00</td>\n",
       "      <td>5.000000e+00</td>\n",
       "      <td>2.000000e+00</td>\n",
       "      <td>2.000000e+00</td>\n",
       "      <td>1.000000e+00</td>\n",
       "      <td>9.000000e-03</td>\n",
       "      <td>...</td>\n",
       "      <td>1.123001e+00</td>\n",
       "      <td>1.117839e+00</td>\n",
       "      <td>1.130603e+00</td>\n",
       "      <td>1.041536e+00</td>\n",
       "      <td>1.043215e+00</td>\n",
       "      <td>1.039310e+00</td>\n",
       "      <td>1.061372e+00</td>\n",
       "      <td>0.000000e+00</td>\n",
       "      <td>0.000000e+00</td>\n",
       "      <td>NaN</td>\n",
       "    </tr>\n",
       "    <tr>\n",
       "      <th>max</th>\n",
       "      <td>2.543801e+06</td>\n",
       "      <td>1.200000e+03</td>\n",
       "      <td>3.041600e+04</td>\n",
       "      <td>6.972000e+03</td>\n",
       "      <td>6.000000e+00</td>\n",
       "      <td>6.000000e+00</td>\n",
       "      <td>8.000000e+00</td>\n",
       "      <td>9.000000e+00</td>\n",
       "      <td>3.000000e+00</td>\n",
       "      <td>7.400000e+01</td>\n",
       "      <td>...</td>\n",
       "      <td>2.504215e+00</td>\n",
       "      <td>2.381285e+00</td>\n",
       "      <td>2.151163e+00</td>\n",
       "      <td>1.241668e+00</td>\n",
       "      <td>1.213237e+00</td>\n",
       "      <td>1.216583e+00</td>\n",
       "      <td>1.076332e+00</td>\n",
       "      <td>1.000000e+00</td>\n",
       "      <td>1.000000e+00</td>\n",
       "      <td>0.591720</td>\n",
       "    </tr>\n",
       "  </tbody>\n",
       "</table>\n",
       "<p>8 rows × 30 columns</p>\n",
       "</div>"
      ],
      "text/plain": [
       "         Unnamed: 0      Duration       Game.ID       Seconds  Home.Skaters  \\\n",
       "count  2.543801e+06  2.120722e+06  2.543801e+06  2.543801e+06  2.543801e+06   \n",
       "mean   1.271901e+06  5.351582e+01  2.132237e+04  1.824231e+03  4.810442e+00   \n",
       "std    7.343322e+05  9.869447e+01  2.530518e+03  1.080168e+03  7.158951e-01   \n",
       "min    1.000000e+00 -1.200000e+03  2.000100e+04 -1.000000e-02  0.000000e+00   \n",
       "25%    6.359510e+05           NaN  2.033300e+04  8.910010e+02  5.000000e+00   \n",
       "50%    1.271901e+06           NaN  2.066400e+04  1.816000e+03  5.000000e+00   \n",
       "75%    1.907851e+06           NaN  2.099500e+04  2.742999e+03  5.000000e+00   \n",
       "max    2.543801e+06  1.200000e+03  3.041600e+04  6.972000e+03  6.000000e+00   \n",
       "\n",
       "       Away.Skaters    Home.Score    Away.Score     Score.Cat  Event.Length  \\\n",
       "count  2.543801e+06  2.543801e+06  2.543801e+06  2.543801e+06  2.543801e+06   \n",
       "mean   4.810372e+00  1.301700e+00  1.184273e+00  1.060311e-01  1.900825e+00   \n",
       "std    6.982912e-01  1.370025e+00  1.270678e+00  1.365924e+00  4.990288e+00   \n",
       "min    0.000000e+00  0.000000e+00  0.000000e+00 -3.000000e+00 -1.000000e-03   \n",
       "25%    5.000000e+00  0.000000e+00  0.000000e+00 -1.000000e+00  0.000000e+00   \n",
       "50%    5.000000e+00  1.000000e+00  1.000000e+00  0.000000e+00  0.000000e+00   \n",
       "75%    5.000000e+00  2.000000e+00  2.000000e+00  1.000000e+00  9.000000e-03   \n",
       "max    6.000000e+00  8.000000e+00  9.000000e+00  3.000000e+00  7.400000e+01   \n",
       "\n",
       "           ...            fweight1      sweight1      gweight1      cweight2  \\\n",
       "count      ...        2.543801e+06  2.543801e+06  2.543801e+06  2.543801e+06   \n",
       "mean       ...        1.054632e+00  1.049059e+00  1.049237e+00  1.007692e+00   \n",
       "std        ...        2.711074e-01  2.510368e-01  2.448816e-01  8.823466e-02   \n",
       "min        ...        6.247371e-01  6.328879e-01  6.514085e-01  8.370780e-01   \n",
       "25%        ...        9.012834e-01  9.046361e-01  9.273743e-01  9.616500e-01   \n",
       "50%        ...        1.000000e+00  1.000000e+00  1.000000e+00  1.000000e+00   \n",
       "75%        ...        1.123001e+00  1.117839e+00  1.130603e+00  1.041536e+00   \n",
       "max        ...        2.504215e+00  2.381285e+00  2.151163e+00  1.241668e+00   \n",
       "\n",
       "           fweight2      sweight2      gweight2    is.Rebound       is.Rush  \\\n",
       "count  2.543801e+06  2.543801e+06  2.543801e+06  2.543801e+06  2.543801e+06   \n",
       "mean   1.006093e+00  1.005865e+00  1.002417e+00  2.390124e-03  2.916895e-03   \n",
       "std    7.813665e-02  7.660911e-02  4.838696e-02  4.883044e-02  5.392947e-02   \n",
       "min    8.505145e-01  8.488780e-01  9.337780e-01  0.000000e+00  0.000000e+00   \n",
       "25%    9.602225e-01  9.635553e-01  9.453376e-01  0.000000e+00  0.000000e+00   \n",
       "50%    1.000000e+00  1.000000e+00  1.000000e+00  0.000000e+00  0.000000e+00   \n",
       "75%    1.043215e+00  1.039310e+00  1.061372e+00  0.000000e+00  0.000000e+00   \n",
       "max    1.213237e+00  1.216583e+00  1.076332e+00  1.000000e+00  1.000000e+00   \n",
       "\n",
       "                  xG  \n",
       "count  110928.000000  \n",
       "mean        0.063690  \n",
       "std         0.066010  \n",
       "min         0.001525  \n",
       "25%              NaN  \n",
       "50%              NaN  \n",
       "75%              NaN  \n",
       "max         0.591720  \n",
       "\n",
       "[8 rows x 30 columns]"
      ]
     },
     "execution_count": 5,
     "metadata": {},
     "output_type": "execute_result"
    }
   ],
   "source": [
    "data2014_2015.describe()"
   ]
  },
  {
   "cell_type": "code",
   "execution_count": 6,
   "metadata": {
    "collapsed": false,
    "scrolled": true
   },
   "outputs": [
    {
     "data": {
      "text/html": [
       "<div>\n",
       "<table border=\"1\" class=\"dataframe\">\n",
       "  <thead>\n",
       "    <tr style=\"text-align: right;\">\n",
       "      <th></th>\n",
       "      <th>Unnamed: 0</th>\n",
       "      <th>Duration</th>\n",
       "      <th>Game.ID</th>\n",
       "      <th>Seconds</th>\n",
       "      <th>Home.Skaters</th>\n",
       "      <th>Away.Skaters</th>\n",
       "      <th>Home.Score</th>\n",
       "      <th>Away.Score</th>\n",
       "      <th>Score.Cat</th>\n",
       "      <th>Event.Length</th>\n",
       "      <th>...</th>\n",
       "      <th>fweight1</th>\n",
       "      <th>sweight1</th>\n",
       "      <th>gweight1</th>\n",
       "      <th>cweight2</th>\n",
       "      <th>fweight2</th>\n",
       "      <th>sweight2</th>\n",
       "      <th>gweight2</th>\n",
       "      <th>is.Rebound</th>\n",
       "      <th>is.Rush</th>\n",
       "      <th>xG</th>\n",
       "    </tr>\n",
       "  </thead>\n",
       "  <tbody>\n",
       "    <tr>\n",
       "      <th>count</th>\n",
       "      <td>2.526505e+06</td>\n",
       "      <td>2.108858e+06</td>\n",
       "      <td>2.526447e+06</td>\n",
       "      <td>2.526505e+06</td>\n",
       "      <td>2.526505e+06</td>\n",
       "      <td>2.526505e+06</td>\n",
       "      <td>2.526505e+06</td>\n",
       "      <td>2.526505e+06</td>\n",
       "      <td>2.526505e+06</td>\n",
       "      <td>2.526505e+06</td>\n",
       "      <td>...</td>\n",
       "      <td>2.526505e+06</td>\n",
       "      <td>2.526505e+06</td>\n",
       "      <td>2.526505e+06</td>\n",
       "      <td>2.526505e+06</td>\n",
       "      <td>2.526505e+06</td>\n",
       "      <td>2.526505e+06</td>\n",
       "      <td>2.526505e+06</td>\n",
       "      <td>2.526505e+06</td>\n",
       "      <td>2.526505e+06</td>\n",
       "      <td>112062.000000</td>\n",
       "    </tr>\n",
       "    <tr>\n",
       "      <th>mean</th>\n",
       "      <td>1.263253e+06</td>\n",
       "      <td>5.402609e+01</td>\n",
       "      <td>2.136209e+04</td>\n",
       "      <td>1.824997e+03</td>\n",
       "      <td>4.794811e+00</td>\n",
       "      <td>4.795009e+00</td>\n",
       "      <td>1.338297e+00</td>\n",
       "      <td>1.193619e+00</td>\n",
       "      <td>1.339206e-01</td>\n",
       "      <td>1.921711e+00</td>\n",
       "      <td>...</td>\n",
       "      <td>1.053428e+00</td>\n",
       "      <td>1.048019e+00</td>\n",
       "      <td>1.048531e+00</td>\n",
       "      <td>1.007583e+00</td>\n",
       "      <td>1.005990e+00</td>\n",
       "      <td>1.005763e+00</td>\n",
       "      <td>1.002349e+00</td>\n",
       "      <td>2.442109e-03</td>\n",
       "      <td>2.843850e-03</td>\n",
       "      <td>0.063799</td>\n",
       "    </tr>\n",
       "    <tr>\n",
       "      <th>std</th>\n",
       "      <td>7.293393e+05</td>\n",
       "      <td>9.878570e+01</td>\n",
       "      <td>2.592268e+03</td>\n",
       "      <td>1.080966e+03</td>\n",
       "      <td>7.438128e-01</td>\n",
       "      <td>7.241270e-01</td>\n",
       "      <td>1.369353e+00</td>\n",
       "      <td>1.286519e+00</td>\n",
       "      <td>1.374058e+00</td>\n",
       "      <td>5.043676e+00</td>\n",
       "      <td>...</td>\n",
       "      <td>2.665875e-01</td>\n",
       "      <td>2.468885e-01</td>\n",
       "      <td>2.424413e-01</td>\n",
       "      <td>8.744871e-02</td>\n",
       "      <td>7.730224e-02</td>\n",
       "      <td>7.578931e-02</td>\n",
       "      <td>4.758263e-02</td>\n",
       "      <td>4.935733e-02</td>\n",
       "      <td>5.325188e-02</td>\n",
       "      <td>0.066184</td>\n",
       "    </tr>\n",
       "    <tr>\n",
       "      <th>min</th>\n",
       "      <td>1.000000e+00</td>\n",
       "      <td>-1.200000e+03</td>\n",
       "      <td>2.000100e+04</td>\n",
       "      <td>-1.000000e-02</td>\n",
       "      <td>0.000000e+00</td>\n",
       "      <td>0.000000e+00</td>\n",
       "      <td>0.000000e+00</td>\n",
       "      <td>0.000000e+00</td>\n",
       "      <td>-3.000000e+00</td>\n",
       "      <td>-1.000000e-03</td>\n",
       "      <td>...</td>\n",
       "      <td>6.247371e-01</td>\n",
       "      <td>6.328879e-01</td>\n",
       "      <td>6.514085e-01</td>\n",
       "      <td>8.370780e-01</td>\n",
       "      <td>8.505145e-01</td>\n",
       "      <td>8.488780e-01</td>\n",
       "      <td>9.337780e-01</td>\n",
       "      <td>0.000000e+00</td>\n",
       "      <td>0.000000e+00</td>\n",
       "      <td>0.003730</td>\n",
       "    </tr>\n",
       "    <tr>\n",
       "      <th>25%</th>\n",
       "      <td>6.316270e+05</td>\n",
       "      <td>NaN</td>\n",
       "      <td>NaN</td>\n",
       "      <td>8.910010e+02</td>\n",
       "      <td>5.000000e+00</td>\n",
       "      <td>5.000000e+00</td>\n",
       "      <td>0.000000e+00</td>\n",
       "      <td>0.000000e+00</td>\n",
       "      <td>-1.000000e+00</td>\n",
       "      <td>0.000000e+00</td>\n",
       "      <td>...</td>\n",
       "      <td>9.012834e-01</td>\n",
       "      <td>9.046361e-01</td>\n",
       "      <td>9.273743e-01</td>\n",
       "      <td>9.616500e-01</td>\n",
       "      <td>9.602225e-01</td>\n",
       "      <td>9.635553e-01</td>\n",
       "      <td>9.453376e-01</td>\n",
       "      <td>0.000000e+00</td>\n",
       "      <td>0.000000e+00</td>\n",
       "      <td>NaN</td>\n",
       "    </tr>\n",
       "    <tr>\n",
       "      <th>50%</th>\n",
       "      <td>1.263253e+06</td>\n",
       "      <td>NaN</td>\n",
       "      <td>NaN</td>\n",
       "      <td>1.815001e+03</td>\n",
       "      <td>5.000000e+00</td>\n",
       "      <td>5.000000e+00</td>\n",
       "      <td>1.000000e+00</td>\n",
       "      <td>1.000000e+00</td>\n",
       "      <td>0.000000e+00</td>\n",
       "      <td>0.000000e+00</td>\n",
       "      <td>...</td>\n",
       "      <td>1.000000e+00</td>\n",
       "      <td>1.000000e+00</td>\n",
       "      <td>1.000000e+00</td>\n",
       "      <td>1.000000e+00</td>\n",
       "      <td>1.000000e+00</td>\n",
       "      <td>1.000000e+00</td>\n",
       "      <td>1.000000e+00</td>\n",
       "      <td>0.000000e+00</td>\n",
       "      <td>0.000000e+00</td>\n",
       "      <td>NaN</td>\n",
       "    </tr>\n",
       "    <tr>\n",
       "      <th>75%</th>\n",
       "      <td>1.894879e+06</td>\n",
       "      <td>NaN</td>\n",
       "      <td>NaN</td>\n",
       "      <td>2.745999e+03</td>\n",
       "      <td>5.000000e+00</td>\n",
       "      <td>5.000000e+00</td>\n",
       "      <td>2.000000e+00</td>\n",
       "      <td>2.000000e+00</td>\n",
       "      <td>1.000000e+00</td>\n",
       "      <td>9.000000e-03</td>\n",
       "      <td>...</td>\n",
       "      <td>1.123001e+00</td>\n",
       "      <td>1.117839e+00</td>\n",
       "      <td>1.084967e+00</td>\n",
       "      <td>1.041536e+00</td>\n",
       "      <td>1.043215e+00</td>\n",
       "      <td>1.039310e+00</td>\n",
       "      <td>1.061372e+00</td>\n",
       "      <td>0.000000e+00</td>\n",
       "      <td>0.000000e+00</td>\n",
       "      <td>NaN</td>\n",
       "    </tr>\n",
       "    <tr>\n",
       "      <th>max</th>\n",
       "      <td>2.526505e+06</td>\n",
       "      <td>1.200000e+03</td>\n",
       "      <td>3.041500e+04</td>\n",
       "      <td>6.026000e+03</td>\n",
       "      <td>6.000000e+00</td>\n",
       "      <td>6.000000e+00</td>\n",
       "      <td>9.000000e+00</td>\n",
       "      <td>8.000000e+00</td>\n",
       "      <td>3.000000e+00</td>\n",
       "      <td>8.099000e+01</td>\n",
       "      <td>...</td>\n",
       "      <td>2.504215e+00</td>\n",
       "      <td>2.381285e+00</td>\n",
       "      <td>2.151163e+00</td>\n",
       "      <td>1.241668e+00</td>\n",
       "      <td>1.213237e+00</td>\n",
       "      <td>1.216583e+00</td>\n",
       "      <td>1.076332e+00</td>\n",
       "      <td>1.000000e+00</td>\n",
       "      <td>1.000000e+00</td>\n",
       "      <td>0.535407</td>\n",
       "    </tr>\n",
       "  </tbody>\n",
       "</table>\n",
       "<p>8 rows × 29 columns</p>\n",
       "</div>"
      ],
      "text/plain": [
       "         Unnamed: 0      Duration       Game.ID       Seconds  Home.Skaters  \\\n",
       "count  2.526505e+06  2.108858e+06  2.526447e+06  2.526505e+06  2.526505e+06   \n",
       "mean   1.263253e+06  5.402609e+01  2.136209e+04  1.824997e+03  4.794811e+00   \n",
       "std    7.293393e+05  9.878570e+01  2.592268e+03  1.080966e+03  7.438128e-01   \n",
       "min    1.000000e+00 -1.200000e+03  2.000100e+04 -1.000000e-02  0.000000e+00   \n",
       "25%    6.316270e+05           NaN           NaN  8.910010e+02  5.000000e+00   \n",
       "50%    1.263253e+06           NaN           NaN  1.815001e+03  5.000000e+00   \n",
       "75%    1.894879e+06           NaN           NaN  2.745999e+03  5.000000e+00   \n",
       "max    2.526505e+06  1.200000e+03  3.041500e+04  6.026000e+03  6.000000e+00   \n",
       "\n",
       "       Away.Skaters    Home.Score    Away.Score     Score.Cat  Event.Length  \\\n",
       "count  2.526505e+06  2.526505e+06  2.526505e+06  2.526505e+06  2.526505e+06   \n",
       "mean   4.795009e+00  1.338297e+00  1.193619e+00  1.339206e-01  1.921711e+00   \n",
       "std    7.241270e-01  1.369353e+00  1.286519e+00  1.374058e+00  5.043676e+00   \n",
       "min    0.000000e+00  0.000000e+00  0.000000e+00 -3.000000e+00 -1.000000e-03   \n",
       "25%    5.000000e+00  0.000000e+00  0.000000e+00 -1.000000e+00  0.000000e+00   \n",
       "50%    5.000000e+00  1.000000e+00  1.000000e+00  0.000000e+00  0.000000e+00   \n",
       "75%    5.000000e+00  2.000000e+00  2.000000e+00  1.000000e+00  9.000000e-03   \n",
       "max    6.000000e+00  9.000000e+00  8.000000e+00  3.000000e+00  8.099000e+01   \n",
       "\n",
       "           ...            fweight1      sweight1      gweight1      cweight2  \\\n",
       "count      ...        2.526505e+06  2.526505e+06  2.526505e+06  2.526505e+06   \n",
       "mean       ...        1.053428e+00  1.048019e+00  1.048531e+00  1.007583e+00   \n",
       "std        ...        2.665875e-01  2.468885e-01  2.424413e-01  8.744871e-02   \n",
       "min        ...        6.247371e-01  6.328879e-01  6.514085e-01  8.370780e-01   \n",
       "25%        ...        9.012834e-01  9.046361e-01  9.273743e-01  9.616500e-01   \n",
       "50%        ...        1.000000e+00  1.000000e+00  1.000000e+00  1.000000e+00   \n",
       "75%        ...        1.123001e+00  1.117839e+00  1.084967e+00  1.041536e+00   \n",
       "max        ...        2.504215e+00  2.381285e+00  2.151163e+00  1.241668e+00   \n",
       "\n",
       "           fweight2      sweight2      gweight2    is.Rebound       is.Rush  \\\n",
       "count  2.526505e+06  2.526505e+06  2.526505e+06  2.526505e+06  2.526505e+06   \n",
       "mean   1.005990e+00  1.005763e+00  1.002349e+00  2.442109e-03  2.843850e-03   \n",
       "std    7.730224e-02  7.578931e-02  4.758263e-02  4.935733e-02  5.325188e-02   \n",
       "min    8.505145e-01  8.488780e-01  9.337780e-01  0.000000e+00  0.000000e+00   \n",
       "25%    9.602225e-01  9.635553e-01  9.453376e-01  0.000000e+00  0.000000e+00   \n",
       "50%    1.000000e+00  1.000000e+00  1.000000e+00  0.000000e+00  0.000000e+00   \n",
       "75%    1.043215e+00  1.039310e+00  1.061372e+00  0.000000e+00  0.000000e+00   \n",
       "max    1.213237e+00  1.216583e+00  1.076332e+00  1.000000e+00  1.000000e+00   \n",
       "\n",
       "                  xG  \n",
       "count  112062.000000  \n",
       "mean        0.063799  \n",
       "std         0.066184  \n",
       "min         0.003730  \n",
       "25%              NaN  \n",
       "50%              NaN  \n",
       "75%              NaN  \n",
       "max         0.535407  \n",
       "\n",
       "[8 rows x 29 columns]"
      ]
     },
     "execution_count": 6,
     "metadata": {},
     "output_type": "execute_result"
    }
   ],
   "source": [
    "data2013_2014.describe()"
   ]
  },
  {
   "cell_type": "code",
   "execution_count": 7,
   "metadata": {
    "collapsed": false
   },
   "outputs": [
    {
     "data": {
      "text/html": [
       "<div>\n",
       "<table border=\"1\" class=\"dataframe\">\n",
       "  <thead>\n",
       "    <tr style=\"text-align: right;\">\n",
       "      <th></th>\n",
       "      <th>Unnamed: 0</th>\n",
       "      <th>Duration</th>\n",
       "      <th>Game.ID</th>\n",
       "      <th>Seconds</th>\n",
       "      <th>Home.Skaters</th>\n",
       "      <th>Away.Skaters</th>\n",
       "      <th>Home.Score</th>\n",
       "      <th>Away.Score</th>\n",
       "      <th>Score.Cat</th>\n",
       "      <th>Event.Length</th>\n",
       "      <th>...</th>\n",
       "      <th>fweight1</th>\n",
       "      <th>sweight1</th>\n",
       "      <th>gweight1</th>\n",
       "      <th>cweight2</th>\n",
       "      <th>fweight2</th>\n",
       "      <th>sweight2</th>\n",
       "      <th>gweight2</th>\n",
       "      <th>is.Rebound</th>\n",
       "      <th>is.Rush</th>\n",
       "      <th>xG</th>\n",
       "    </tr>\n",
       "  </thead>\n",
       "  <tbody>\n",
       "    <tr>\n",
       "      <th>count</th>\n",
       "      <td>1.527194e+06</td>\n",
       "      <td>1.273956e+06</td>\n",
       "      <td>1.527194e+06</td>\n",
       "      <td>1.527194e+06</td>\n",
       "      <td>1.527194e+06</td>\n",
       "      <td>1.527194e+06</td>\n",
       "      <td>1.527194e+06</td>\n",
       "      <td>1.527194e+06</td>\n",
       "      <td>1.527194e+06</td>\n",
       "      <td>1.527194e+06</td>\n",
       "      <td>...</td>\n",
       "      <td>1.527194e+06</td>\n",
       "      <td>1.527194e+06</td>\n",
       "      <td>1.527194e+06</td>\n",
       "      <td>1.527194e+06</td>\n",
       "      <td>1.527194e+06</td>\n",
       "      <td>1.527194e+06</td>\n",
       "      <td>1.527194e+06</td>\n",
       "      <td>1.527194e+06</td>\n",
       "      <td>1.527194e+06</td>\n",
       "      <td>66754.000000</td>\n",
       "    </tr>\n",
       "    <tr>\n",
       "      <th>mean</th>\n",
       "      <td>7.635975e+05</td>\n",
       "      <td>5.452604e+01</td>\n",
       "      <td>2.150419e+04</td>\n",
       "      <td>1.831182e+03</td>\n",
       "      <td>4.801995e+00</td>\n",
       "      <td>4.801429e+00</td>\n",
       "      <td>1.327387e+00</td>\n",
       "      <td>1.189015e+00</td>\n",
       "      <td>1.355159e-01</td>\n",
       "      <td>1.938729e+00</td>\n",
       "      <td>...</td>\n",
       "      <td>1.054001e+00</td>\n",
       "      <td>1.048594e+00</td>\n",
       "      <td>1.048862e+00</td>\n",
       "      <td>1.007423e+00</td>\n",
       "      <td>1.005845e+00</td>\n",
       "      <td>1.005643e+00</td>\n",
       "      <td>1.002332e+00</td>\n",
       "      <td>2.340240e-03</td>\n",
       "      <td>2.774369e-03</td>\n",
       "      <td>0.063977</td>\n",
       "    </tr>\n",
       "    <tr>\n",
       "      <th>std</th>\n",
       "      <td>4.408631e+05</td>\n",
       "      <td>9.990813e+01</td>\n",
       "      <td>3.163170e+03</td>\n",
       "      <td>1.087074e+03</td>\n",
       "      <td>7.178706e-01</td>\n",
       "      <td>7.050460e-01</td>\n",
       "      <td>1.360896e+00</td>\n",
       "      <td>1.315093e+00</td>\n",
       "      <td>1.394763e+00</td>\n",
       "      <td>5.073462e+00</td>\n",
       "      <td>...</td>\n",
       "      <td>2.675716e-01</td>\n",
       "      <td>2.479159e-01</td>\n",
       "      <td>2.418726e-01</td>\n",
       "      <td>8.744355e-02</td>\n",
       "      <td>7.723159e-02</td>\n",
       "      <td>7.588535e-02</td>\n",
       "      <td>4.764735e-02</td>\n",
       "      <td>4.831940e-02</td>\n",
       "      <td>5.259918e-02</td>\n",
       "      <td>0.065406</td>\n",
       "    </tr>\n",
       "    <tr>\n",
       "      <th>min</th>\n",
       "      <td>1.000000e+00</td>\n",
       "      <td>-1.200000e+03</td>\n",
       "      <td>2.000100e+04</td>\n",
       "      <td>-1.000000e-02</td>\n",
       "      <td>0.000000e+00</td>\n",
       "      <td>0.000000e+00</td>\n",
       "      <td>0.000000e+00</td>\n",
       "      <td>0.000000e+00</td>\n",
       "      <td>-3.000000e+00</td>\n",
       "      <td>-1.000000e-03</td>\n",
       "      <td>...</td>\n",
       "      <td>6.247371e-01</td>\n",
       "      <td>6.328879e-01</td>\n",
       "      <td>6.514085e-01</td>\n",
       "      <td>8.370780e-01</td>\n",
       "      <td>8.505145e-01</td>\n",
       "      <td>8.488780e-01</td>\n",
       "      <td>9.337780e-01</td>\n",
       "      <td>0.000000e+00</td>\n",
       "      <td>0.000000e+00</td>\n",
       "      <td>0.003755</td>\n",
       "    </tr>\n",
       "    <tr>\n",
       "      <th>25%</th>\n",
       "      <td>3.817992e+05</td>\n",
       "      <td>NaN</td>\n",
       "      <td>2.020300e+04</td>\n",
       "      <td>8.950010e+02</td>\n",
       "      <td>5.000000e+00</td>\n",
       "      <td>5.000000e+00</td>\n",
       "      <td>0.000000e+00</td>\n",
       "      <td>0.000000e+00</td>\n",
       "      <td>-1.000000e+00</td>\n",
       "      <td>0.000000e+00</td>\n",
       "      <td>...</td>\n",
       "      <td>9.012834e-01</td>\n",
       "      <td>9.046361e-01</td>\n",
       "      <td>9.273743e-01</td>\n",
       "      <td>9.616500e-01</td>\n",
       "      <td>9.602225e-01</td>\n",
       "      <td>9.635553e-01</td>\n",
       "      <td>9.453376e-01</td>\n",
       "      <td>0.000000e+00</td>\n",
       "      <td>0.000000e+00</td>\n",
       "      <td>NaN</td>\n",
       "    </tr>\n",
       "    <tr>\n",
       "      <th>50%</th>\n",
       "      <td>7.635975e+05</td>\n",
       "      <td>NaN</td>\n",
       "      <td>2.040700e+04</td>\n",
       "      <td>1.821001e+03</td>\n",
       "      <td>5.000000e+00</td>\n",
       "      <td>5.000000e+00</td>\n",
       "      <td>1.000000e+00</td>\n",
       "      <td>1.000000e+00</td>\n",
       "      <td>0.000000e+00</td>\n",
       "      <td>0.000000e+00</td>\n",
       "      <td>...</td>\n",
       "      <td>1.000000e+00</td>\n",
       "      <td>1.000000e+00</td>\n",
       "      <td>1.000000e+00</td>\n",
       "      <td>1.000000e+00</td>\n",
       "      <td>1.000000e+00</td>\n",
       "      <td>1.000000e+00</td>\n",
       "      <td>1.000000e+00</td>\n",
       "      <td>0.000000e+00</td>\n",
       "      <td>0.000000e+00</td>\n",
       "      <td>NaN</td>\n",
       "    </tr>\n",
       "    <tr>\n",
       "      <th>75%</th>\n",
       "      <td>1.145396e+06</td>\n",
       "      <td>NaN</td>\n",
       "      <td>2.061100e+04</td>\n",
       "      <td>2.751001e+03</td>\n",
       "      <td>5.000000e+00</td>\n",
       "      <td>5.000000e+00</td>\n",
       "      <td>2.000000e+00</td>\n",
       "      <td>2.000000e+00</td>\n",
       "      <td>1.000000e+00</td>\n",
       "      <td>9.000000e-03</td>\n",
       "      <td>...</td>\n",
       "      <td>1.123001e+00</td>\n",
       "      <td>1.117839e+00</td>\n",
       "      <td>1.130603e+00</td>\n",
       "      <td>1.041536e+00</td>\n",
       "      <td>1.043215e+00</td>\n",
       "      <td>1.039310e+00</td>\n",
       "      <td>1.061372e+00</td>\n",
       "      <td>0.000000e+00</td>\n",
       "      <td>0.000000e+00</td>\n",
       "      <td>NaN</td>\n",
       "    </tr>\n",
       "    <tr>\n",
       "      <th>max</th>\n",
       "      <td>1.527194e+06</td>\n",
       "      <td>1.200000e+03</td>\n",
       "      <td>3.041600e+04</td>\n",
       "      <td>6.728000e+03</td>\n",
       "      <td>6.000000e+00</td>\n",
       "      <td>6.000000e+00</td>\n",
       "      <td>8.000000e+00</td>\n",
       "      <td>9.000000e+00</td>\n",
       "      <td>3.000000e+00</td>\n",
       "      <td>1.299990e+02</td>\n",
       "      <td>...</td>\n",
       "      <td>2.504215e+00</td>\n",
       "      <td>2.381285e+00</td>\n",
       "      <td>2.151163e+00</td>\n",
       "      <td>1.241668e+00</td>\n",
       "      <td>1.213237e+00</td>\n",
       "      <td>1.216583e+00</td>\n",
       "      <td>1.076332e+00</td>\n",
       "      <td>1.000000e+00</td>\n",
       "      <td>1.000000e+00</td>\n",
       "      <td>0.530494</td>\n",
       "    </tr>\n",
       "  </tbody>\n",
       "</table>\n",
       "<p>8 rows × 30 columns</p>\n",
       "</div>"
      ],
      "text/plain": [
       "         Unnamed: 0      Duration       Game.ID       Seconds  Home.Skaters  \\\n",
       "count  1.527194e+06  1.273956e+06  1.527194e+06  1.527194e+06  1.527194e+06   \n",
       "mean   7.635975e+05  5.452604e+01  2.150419e+04  1.831182e+03  4.801995e+00   \n",
       "std    4.408631e+05  9.990813e+01  3.163170e+03  1.087074e+03  7.178706e-01   \n",
       "min    1.000000e+00 -1.200000e+03  2.000100e+04 -1.000000e-02  0.000000e+00   \n",
       "25%    3.817992e+05           NaN  2.020300e+04  8.950010e+02  5.000000e+00   \n",
       "50%    7.635975e+05           NaN  2.040700e+04  1.821001e+03  5.000000e+00   \n",
       "75%    1.145396e+06           NaN  2.061100e+04  2.751001e+03  5.000000e+00   \n",
       "max    1.527194e+06  1.200000e+03  3.041600e+04  6.728000e+03  6.000000e+00   \n",
       "\n",
       "       Away.Skaters    Home.Score    Away.Score     Score.Cat  Event.Length  \\\n",
       "count  1.527194e+06  1.527194e+06  1.527194e+06  1.527194e+06  1.527194e+06   \n",
       "mean   4.801429e+00  1.327387e+00  1.189015e+00  1.355159e-01  1.938729e+00   \n",
       "std    7.050460e-01  1.360896e+00  1.315093e+00  1.394763e+00  5.073462e+00   \n",
       "min    0.000000e+00  0.000000e+00  0.000000e+00 -3.000000e+00 -1.000000e-03   \n",
       "25%    5.000000e+00  0.000000e+00  0.000000e+00 -1.000000e+00  0.000000e+00   \n",
       "50%    5.000000e+00  1.000000e+00  1.000000e+00  0.000000e+00  0.000000e+00   \n",
       "75%    5.000000e+00  2.000000e+00  2.000000e+00  1.000000e+00  9.000000e-03   \n",
       "max    6.000000e+00  8.000000e+00  9.000000e+00  3.000000e+00  1.299990e+02   \n",
       "\n",
       "           ...           fweight1      sweight1      gweight1      cweight2  \\\n",
       "count      ...       1.527194e+06  1.527194e+06  1.527194e+06  1.527194e+06   \n",
       "mean       ...       1.054001e+00  1.048594e+00  1.048862e+00  1.007423e+00   \n",
       "std        ...       2.675716e-01  2.479159e-01  2.418726e-01  8.744355e-02   \n",
       "min        ...       6.247371e-01  6.328879e-01  6.514085e-01  8.370780e-01   \n",
       "25%        ...       9.012834e-01  9.046361e-01  9.273743e-01  9.616500e-01   \n",
       "50%        ...       1.000000e+00  1.000000e+00  1.000000e+00  1.000000e+00   \n",
       "75%        ...       1.123001e+00  1.117839e+00  1.130603e+00  1.041536e+00   \n",
       "max        ...       2.504215e+00  2.381285e+00  2.151163e+00  1.241668e+00   \n",
       "\n",
       "           fweight2      sweight2      gweight2    is.Rebound       is.Rush  \\\n",
       "count  1.527194e+06  1.527194e+06  1.527194e+06  1.527194e+06  1.527194e+06   \n",
       "mean   1.005845e+00  1.005643e+00  1.002332e+00  2.340240e-03  2.774369e-03   \n",
       "std    7.723159e-02  7.588535e-02  4.764735e-02  4.831940e-02  5.259918e-02   \n",
       "min    8.505145e-01  8.488780e-01  9.337780e-01  0.000000e+00  0.000000e+00   \n",
       "25%    9.602225e-01  9.635553e-01  9.453376e-01  0.000000e+00  0.000000e+00   \n",
       "50%    1.000000e+00  1.000000e+00  1.000000e+00  0.000000e+00  0.000000e+00   \n",
       "75%    1.043215e+00  1.039310e+00  1.061372e+00  0.000000e+00  0.000000e+00   \n",
       "max    1.213237e+00  1.216583e+00  1.076332e+00  1.000000e+00  1.000000e+00   \n",
       "\n",
       "                 xG  \n",
       "count  66754.000000  \n",
       "mean       0.063977  \n",
       "std        0.065406  \n",
       "min        0.003755  \n",
       "25%             NaN  \n",
       "50%             NaN  \n",
       "75%             NaN  \n",
       "max        0.530494  \n",
       "\n",
       "[8 rows x 30 columns]"
      ]
     },
     "execution_count": 7,
     "metadata": {},
     "output_type": "execute_result"
    }
   ],
   "source": [
    "data2012_2013.describe()"
   ]
  },
  {
   "cell_type": "markdown",
   "metadata": {},
   "source": [
    "Я решил выделить признаки, несущие наибольшее количество информации для моей задачи, с помощью них можно будет сгенерировать также много новых фич."
   ]
  },
  {
   "cell_type": "code",
   "execution_count": 8,
   "metadata": {
    "collapsed": true
   },
   "outputs": [],
   "source": [
    "data2014_2015_useful = data2014_2015[[\"Period\", \"Game.ID\", \"Away.Team\", \"Home.Team\", \n",
    "                                      \"Home.Score\", \"Away.Score\", \"Season\", \"Season.Type\", \n",
    "                                      \"Strength.State\", \"Score.State\"]]"
   ]
  },
  {
   "cell_type": "code",
   "execution_count": 9,
   "metadata": {
    "collapsed": false,
    "scrolled": true
   },
   "outputs": [],
   "source": [
    "data2013_2014_useful = data2013_2014[[\"Period\", \"Game.ID\", \"Away.Team\", \"Home.Team\", \n",
    "                                      \"Home.Score\", \"Away.Score\", \"Season\", \"Season.Type\", \n",
    "                                      \"Strength.State\", \"Score.State\"]]"
   ]
  },
  {
   "cell_type": "code",
   "execution_count": 10,
   "metadata": {
    "collapsed": true
   },
   "outputs": [],
   "source": [
    "data2012_2013_useful = data2012_2013[[\"Period\", \"Game.ID\", \"Away.Team\", \"Home.Team\", \n",
    "                                      \"Home.Score\", \"Away.Score\", \"Season\", \"Season.Type\", \n",
    "                                      \"Strength.State\", \"Score.State\"]]"
   ]
  },
  {
   "cell_type": "code",
   "execution_count": 11,
   "metadata": {
    "collapsed": false
   },
   "outputs": [
    {
     "name": "stdout",
     "output_type": "stream",
     "text": [
      "(2543801, 10)\n",
      "Counter({20142015: 2543801})\n"
     ]
    }
   ],
   "source": [
    "print data2014_2015_useful.shape\n",
    "print Counter(np.array(data2014_2015_useful[\"Season\"]))"
   ]
  },
  {
   "cell_type": "code",
   "execution_count": 12,
   "metadata": {
    "collapsed": false
   },
   "outputs": [
    {
     "name": "stdout",
     "output_type": "stream",
     "text": [
      "(2526505, 10)\n",
      "Counter({20132014: 2526505})\n"
     ]
    }
   ],
   "source": [
    "print data2013_2014_useful.shape\n",
    "print Counter(np.array(data2013_2014_useful[\"Season\"]))"
   ]
  },
  {
   "cell_type": "code",
   "execution_count": 13,
   "metadata": {
    "collapsed": false
   },
   "outputs": [
    {
     "name": "stdout",
     "output_type": "stream",
     "text": [
      "(1527194, 10)\n",
      "Counter({20122013: 1527194})\n"
     ]
    }
   ],
   "source": [
    "print data2012_2013_useful.shape\n",
    "print Counter(np.array(data2012_2013_useful[\"Season\"]))"
   ]
  },
  {
   "cell_type": "markdown",
   "metadata": {},
   "source": [
    "Я заметил, что во этих 3 сезонах есть игры с ID = 20001, но, в то же время, игр не так уж много, поэтому можем просто * 2 и * 4 id у игр, других сезонов"
   ]
  },
  {
   "cell_type": "code",
   "execution_count": 14,
   "metadata": {
    "collapsed": false
   },
   "outputs": [
    {
     "name": "stderr",
     "output_type": "stream",
     "text": [
      "/home/rtriangle/anaconda2/lib/python2.7/site-packages/ipykernel/__main__.py:1: SettingWithCopyWarning: \n",
      "A value is trying to be set on a copy of a slice from a DataFrame.\n",
      "Try using .loc[row_indexer,col_indexer] = value instead\n",
      "\n",
      "See the caveats in the documentation: http://pandas.pydata.org/pandas-docs/stable/indexing.html#indexing-view-versus-copy\n",
      "  if __name__ == '__main__':\n",
      "/home/rtriangle/anaconda2/lib/python2.7/site-packages/ipykernel/__main__.py:2: SettingWithCopyWarning: \n",
      "A value is trying to be set on a copy of a slice from a DataFrame.\n",
      "Try using .loc[row_indexer,col_indexer] = value instead\n",
      "\n",
      "See the caveats in the documentation: http://pandas.pydata.org/pandas-docs/stable/indexing.html#indexing-view-versus-copy\n",
      "  from ipykernel import kernelapp as app\n"
     ]
    }
   ],
   "source": [
    "data2013_2014_useful[\"Game.ID\"] = data2013_2014_useful[\"Game.ID\"] * 2\n",
    "data2014_2015_useful[\"Game.ID\"] = data2014_2015_useful[\"Game.ID\"] * 4"
   ]
  },
  {
   "cell_type": "code",
   "execution_count": 15,
   "metadata": {
    "collapsed": true
   },
   "outputs": [],
   "source": [
    "frames = [data2012_2013_useful, data2013_2014_useful, data2014_2015_useful]\n",
    "data_all_years_useful = pd.concat(frames)"
   ]
  },
  {
   "cell_type": "code",
   "execution_count": 16,
   "metadata": {
    "collapsed": false
   },
   "outputs": [
    {
     "data": {
      "text/plain": [
       "(6597500, 10)"
      ]
     },
     "execution_count": 16,
     "metadata": {},
     "output_type": "execute_result"
    }
   ],
   "source": [
    "data_all_years_useful.shape"
   ]
  },
  {
   "cell_type": "code",
   "execution_count": 17,
   "metadata": {
    "collapsed": false
   },
   "outputs": [
    {
     "name": "stdout",
     "output_type": "stream",
     "text": [
      "(6597500, 10)\n",
      "Counter({'Regular': 6036280, 'Playoffs': 561220})\n"
     ]
    }
   ],
   "source": [
    "print data_all_years_useful.shape\n",
    "print Counter(np.array(data_all_years_useful[\"Season.Type\"]))"
   ]
  },
  {
   "cell_type": "markdown",
   "metadata": {},
   "source": [
    "Таким образом, можем удалить колонку \"Season\", а из \"Season.Type\" сделать в будущем новый признак isRegular и isPlayOff"
   ]
  },
  {
   "cell_type": "code",
   "execution_count": 18,
   "metadata": {
    "collapsed": false
   },
   "outputs": [
    {
     "name": "stdout",
     "output_type": "stream",
     "text": [
      "Counter({'1': 1451239, '3': 1415248, '2': 1353244, 1: 782765, 3: 747596, 2: 725666, 'OT': 70638, 4: 22845, '4': 16476, '5': 5514, 5: 5272, 6: 995, nan: 2})\n"
     ]
    }
   ],
   "source": [
    "print Counter(data_all_years_useful[\"Period\"])"
   ]
  },
  {
   "cell_type": "markdown",
   "metadata": {},
   "source": [
    "Правила об овертаймах в нхл меняются чуть ли не каждый год, но, в любом случае, давайте считать, что 1, 2, 3 - это основные периоды, а всё остальное - это 4ый период, то есть, овертайм."
   ]
  },
  {
   "cell_type": "code",
   "execution_count": 19,
   "metadata": {
    "collapsed": false
   },
   "outputs": [],
   "source": [
    "di = {'1': 1, '2': 2, '3': 3, '4': 4, '5': 4, '6': 4, 'OT': 4, 5: 4, 6: 4, np.nan: 4}"
   ]
  },
  {
   "cell_type": "code",
   "execution_count": 20,
   "metadata": {
    "collapsed": false
   },
   "outputs": [],
   "source": [
    "data_all_years_useful = data_all_years_useful.replace({\"Period\": di})"
   ]
  },
  {
   "cell_type": "code",
   "execution_count": 21,
   "metadata": {
    "collapsed": false
   },
   "outputs": [
    {
     "name": "stdout",
     "output_type": "stream",
     "text": [
      "Counter({1: 2234004, 3: 2162844, 2: 2078910, 4: 121742})\n",
      "Counter({20142015: 2543801, 20132014: 2526505, 20122013: 1527194})\n"
     ]
    }
   ],
   "source": [
    "print Counter(data_all_years_useful[\"Period\"])\n",
    "print Counter(data_all_years_useful[\"Season\"])"
   ]
  },
  {
   "cell_type": "markdown",
   "metadata": {},
   "source": [
    "Cезон тоже можно удалить, потому что он не несёт никакой информации"
   ]
  },
  {
   "cell_type": "code",
   "execution_count": 22,
   "metadata": {
    "collapsed": false
   },
   "outputs": [],
   "source": [
    "del data_all_years_useful[\"Season\"]"
   ]
  },
  {
   "cell_type": "markdown",
   "metadata": {},
   "source": [
    "Также видим, что Home.Score и Away.Score содержат ту же информацию, что и Score.State, поэтому удалим Score.State"
   ]
  },
  {
   "cell_type": "code",
   "execution_count": 23,
   "metadata": {
    "collapsed": true
   },
   "outputs": [],
   "source": [
    "del data_all_years_useful[\"Score.State\"]"
   ]
  },
  {
   "cell_type": "markdown",
   "metadata": {},
   "source": [
    "Добавим признак isRegular, который будет = 1, если это регулярный чемпионат и -1, если это плей-офф. \n",
    "<br> На мой взгляд, это лучше, чем добавить 2 признака isRegular и isPlayoff, с 1 и 0 в соответствующих ячейках, так как тогда эти 2 признака будут сильно коррелировать и веса будут большими, если мы будем использовать модели без регуляризаторов."
   ]
  },
  {
   "cell_type": "code",
   "execution_count": 24,
   "metadata": {
    "collapsed": false
   },
   "outputs": [],
   "source": [
    "data_all_years_useful['isRegular'] = np.where(data_all_years_useful['Season.Type']=='Regular', 1, -1)\n",
    "del data_all_years_useful['Season.Type']"
   ]
  },
  {
   "cell_type": "code",
   "execution_count": 25,
   "metadata": {
    "collapsed": false
   },
   "outputs": [
    {
     "data": {
      "text/html": [
       "<div>\n",
       "<table border=\"1\" class=\"dataframe\">\n",
       "  <thead>\n",
       "    <tr style=\"text-align: right;\">\n",
       "      <th></th>\n",
       "      <th>Period</th>\n",
       "      <th>Game.ID</th>\n",
       "      <th>Away.Team</th>\n",
       "      <th>Home.Team</th>\n",
       "      <th>Home.Score</th>\n",
       "      <th>Away.Score</th>\n",
       "      <th>Strength.State</th>\n",
       "      <th>isRegular</th>\n",
       "    </tr>\n",
       "  </thead>\n",
       "  <tbody>\n",
       "    <tr>\n",
       "      <th>0</th>\n",
       "      <td>1</td>\n",
       "      <td>20001.0</td>\n",
       "      <td>PIT</td>\n",
       "      <td>PHI</td>\n",
       "      <td>0</td>\n",
       "      <td>0</td>\n",
       "      <td>5v5</td>\n",
       "      <td>1</td>\n",
       "    </tr>\n",
       "    <tr>\n",
       "      <th>1</th>\n",
       "      <td>1</td>\n",
       "      <td>20001.0</td>\n",
       "      <td>PIT</td>\n",
       "      <td>PHI</td>\n",
       "      <td>0</td>\n",
       "      <td>0</td>\n",
       "      <td>5v5</td>\n",
       "      <td>1</td>\n",
       "    </tr>\n",
       "    <tr>\n",
       "      <th>2</th>\n",
       "      <td>1</td>\n",
       "      <td>20001.0</td>\n",
       "      <td>PIT</td>\n",
       "      <td>PHI</td>\n",
       "      <td>0</td>\n",
       "      <td>0</td>\n",
       "      <td>5v5</td>\n",
       "      <td>1</td>\n",
       "    </tr>\n",
       "    <tr>\n",
       "      <th>3</th>\n",
       "      <td>1</td>\n",
       "      <td>20001.0</td>\n",
       "      <td>PIT</td>\n",
       "      <td>PHI</td>\n",
       "      <td>0</td>\n",
       "      <td>0</td>\n",
       "      <td>5v5</td>\n",
       "      <td>1</td>\n",
       "    </tr>\n",
       "    <tr>\n",
       "      <th>4</th>\n",
       "      <td>1</td>\n",
       "      <td>20001.0</td>\n",
       "      <td>PIT</td>\n",
       "      <td>PHI</td>\n",
       "      <td>0</td>\n",
       "      <td>0</td>\n",
       "      <td>5v5</td>\n",
       "      <td>1</td>\n",
       "    </tr>\n",
       "  </tbody>\n",
       "</table>\n",
       "</div>"
      ],
      "text/plain": [
       "   Period  Game.ID Away.Team Home.Team  Home.Score  Away.Score Strength.State  \\\n",
       "0       1  20001.0       PIT       PHI           0           0            5v5   \n",
       "1       1  20001.0       PIT       PHI           0           0            5v5   \n",
       "2       1  20001.0       PIT       PHI           0           0            5v5   \n",
       "3       1  20001.0       PIT       PHI           0           0            5v5   \n",
       "4       1  20001.0       PIT       PHI           0           0            5v5   \n",
       "\n",
       "   isRegular  \n",
       "0          1  \n",
       "1          1  \n",
       "2          1  \n",
       "3          1  \n",
       "4          1  "
      ]
     },
     "execution_count": 25,
     "metadata": {},
     "output_type": "execute_result"
    }
   ],
   "source": [
    "data_all_years_useful.head()"
   ]
  },
  {
   "cell_type": "code",
   "execution_count": 26,
   "metadata": {
    "collapsed": false
   },
   "outputs": [],
   "source": [
    "x = np.array(data_all_years_useful[\"Strength.State\"])\n",
    "x1 = map(lambda y: (y.split('v')[0]), x)\n",
    "x2 = map(lambda y: (y.split('v')[1]), x)"
   ]
  },
  {
   "cell_type": "code",
   "execution_count": 27,
   "metadata": {
    "collapsed": false
   },
   "outputs": [
    {
     "name": "stdout",
     "output_type": "stream",
     "text": [
      "Counter({'5': 5682416, '4': 700698, 'E': 187623, '3': 16448, '0': 10080, '1': 125, '2': 110})\n",
      "Counter({'5': 5642826, '4': 739510, 'E': 187623, '3': 18296, '0': 9058, '1': 142, '2': 45})\n"
     ]
    }
   ],
   "source": [
    "print Counter(x1)\n",
    "print Counter(x2)"
   ]
  },
  {
   "cell_type": "markdown",
   "metadata": {},
   "source": [
    "Я не знаю, что значит E в Strength.State, возможно, это equal, но в первых строчках видно, что в случае равных составов всё равно пишут XvX. Этих данных не так уж много по сравнению с числами, поэтому в будущем можем выкинуть строчки, где есть E"
   ]
  },
  {
   "cell_type": "code",
   "execution_count": 28,
   "metadata": {
    "collapsed": false
   },
   "outputs": [],
   "source": [
    "x1 = map(lambda x: float(x) if x != 'E' else 'E', x1)\n",
    "x2 = map(lambda x: float(x) if x != 'E' else 'E', x2)"
   ]
  },
  {
   "cell_type": "code",
   "execution_count": 29,
   "metadata": {
    "collapsed": false,
    "scrolled": true
   },
   "outputs": [
    {
     "name": "stdout",
     "output_type": "stream",
     "text": [
      "Counter({5.0: 5682416, 4.0: 700698, 'E': 187623, 3.0: 16448, 0.0: 10080, 1.0: 125, 2.0: 110})\n",
      "Counter({5.0: 5642826, 4.0: 739510, 'E': 187623, 3.0: 18296, 0.0: 9058, 1.0: 142, 2.0: 45})\n"
     ]
    }
   ],
   "source": [
    "print Counter(x1)\n",
    "print Counter(x2)"
   ]
  },
  {
   "cell_type": "code",
   "execution_count": 30,
   "metadata": {
    "collapsed": false
   },
   "outputs": [],
   "source": [
    "data_all_years_useful[\"Away.Team.Strength\"] = np.array(x1)\n",
    "data_all_years_useful[\"Home.Team.Strength\"] = np.array(x2)"
   ]
  },
  {
   "cell_type": "code",
   "execution_count": 31,
   "metadata": {
    "collapsed": false
   },
   "outputs": [],
   "source": [
    "del data_all_years_useful[\"Strength.State\"]"
   ]
  },
  {
   "cell_type": "code",
   "execution_count": 32,
   "metadata": {
    "collapsed": false
   },
   "outputs": [
    {
     "data": {
      "text/plain": [
       "(6597500, 9)"
      ]
     },
     "execution_count": 32,
     "metadata": {},
     "output_type": "execute_result"
    }
   ],
   "source": [
    "data_all_years_useful.shape"
   ]
  },
  {
   "cell_type": "code",
   "execution_count": 33,
   "metadata": {
    "collapsed": false
   },
   "outputs": [],
   "source": [
    "data_all_years_useful = data_all_years_useful[data_all_years_useful[\"Away.Team.Strength\"] != 'E']\n",
    "data_all_years_useful = data_all_years_useful[data_all_years_useful[\"Home.Team.Strength\"] != 'E']"
   ]
  },
  {
   "cell_type": "code",
   "execution_count": 34,
   "metadata": {
    "collapsed": false
   },
   "outputs": [
    {
     "data": {
      "text/plain": [
       "(6409877, 9)"
      ]
     },
     "execution_count": 34,
     "metadata": {},
     "output_type": "execute_result"
    }
   ],
   "source": [
    "data_all_years_useful.shape"
   ]
  },
  {
   "cell_type": "markdown",
   "metadata": {},
   "source": [
    "Добавим информацию об удалениях, чтобы потом можно было считать количество удалений в периоде/матче и тд"
   ]
  },
  {
   "cell_type": "code",
   "execution_count": 35,
   "metadata": {
    "collapsed": false
   },
   "outputs": [],
   "source": [
    "x1 = list(data_all_years_useful[\"Away.Team.Strength\"])\n",
    "x2 = list(data_all_years_useful[\"Home.Team.Strength\"])"
   ]
  },
  {
   "cell_type": "code",
   "execution_count": 36,
   "metadata": {
    "collapsed": false
   },
   "outputs": [],
   "source": [
    "x1 = map(lambda x: float(x), x1)\n",
    "x2 = map(lambda x: float(x), x2)"
   ]
  },
  {
   "cell_type": "code",
   "execution_count": 37,
   "metadata": {
    "collapsed": false
   },
   "outputs": [
    {
     "name": "stdout",
     "output_type": "stream",
     "text": [
      "44826.0\n",
      "46968.0\n"
     ]
    }
   ],
   "source": [
    "x1_penalty = [float(max(x1[i] - x1[i+1], 0)) for i in range(len(x1)-1)] \n",
    "x2_penalty = [float(max(x2[i] - x2[i+1], 0)) for i in range(len(x2)-1)]\n",
    "print np.sum(x1_penalty)\n",
    "print np.sum(x2_penalty)"
   ]
  },
  {
   "cell_type": "code",
   "execution_count": 38,
   "metadata": {
    "collapsed": false
   },
   "outputs": [
    {
     "data": {
      "text/plain": [
       "6409876"
      ]
     },
     "execution_count": 38,
     "metadata": {},
     "output_type": "execute_result"
    }
   ],
   "source": [
    "len(x1_penalty)"
   ]
  },
  {
   "cell_type": "code",
   "execution_count": 39,
   "metadata": {
    "collapsed": true
   },
   "outputs": [],
   "source": [
    "x1_penalty = x1_penalty + [0]\n",
    "x2_penalty = x2_penalty + [0]"
   ]
  },
  {
   "cell_type": "markdown",
   "metadata": {},
   "source": [
    "Так как уменьшили размерность на 1"
   ]
  },
  {
   "cell_type": "code",
   "execution_count": 40,
   "metadata": {
    "collapsed": false
   },
   "outputs": [],
   "source": [
    "data_all_years_useful[\"Away.Penalty\"] = np.array(x1_penalty)\n",
    "data_all_years_useful[\"Home.Penalty\"] = np.array(x2_penalty)"
   ]
  },
  {
   "cell_type": "markdown",
   "metadata": {},
   "source": [
    "Посмотрим на названия всех команд:"
   ]
  },
  {
   "cell_type": "code",
   "execution_count": 41,
   "metadata": {
    "collapsed": false
   },
   "outputs": [
    {
     "name": "stdout",
     "output_type": "stream",
     "text": [
      "['N.J', 'MIN', 'NYR', 'WSH', 'BOS', 'DET', 'NYI', 'FLA', 'L.A', 'COL', 'CAR', 'DAL', 'CGY', 'TOR', 'T.B', 'WPG', 'PIT', 'NSH', 'VAN', 'STL', 'CHI', 'S.J', 'MTL', 'PHI', 'ANA', 'CBJ', 'BUF', 'EDM', 'ARI', 'OTT']\n"
     ]
    }
   ],
   "source": [
    "teams = list(set(np.array(data_all_years_useful[\"Away.Team\"])))\n",
    "print teams"
   ]
  },
  {
   "cell_type": "code",
   "execution_count": 42,
   "metadata": {
    "collapsed": false
   },
   "outputs": [
    {
     "data": {
      "text/html": [
       "<div>\n",
       "<table border=\"1\" class=\"dataframe\">\n",
       "  <thead>\n",
       "    <tr style=\"text-align: right;\">\n",
       "      <th></th>\n",
       "      <th>Period</th>\n",
       "      <th>Game.ID</th>\n",
       "      <th>Away.Team</th>\n",
       "      <th>Home.Team</th>\n",
       "      <th>Home.Score</th>\n",
       "      <th>Away.Score</th>\n",
       "      <th>isRegular</th>\n",
       "      <th>Away.Team.Strength</th>\n",
       "      <th>Home.Team.Strength</th>\n",
       "      <th>Away.Penalty</th>\n",
       "      <th>Home.Penalty</th>\n",
       "    </tr>\n",
       "  </thead>\n",
       "  <tbody>\n",
       "    <tr>\n",
       "      <th>0</th>\n",
       "      <td>1</td>\n",
       "      <td>20001.0</td>\n",
       "      <td>PIT</td>\n",
       "      <td>PHI</td>\n",
       "      <td>0</td>\n",
       "      <td>0</td>\n",
       "      <td>1</td>\n",
       "      <td>5.0</td>\n",
       "      <td>5.0</td>\n",
       "      <td>0.0</td>\n",
       "      <td>0.0</td>\n",
       "    </tr>\n",
       "    <tr>\n",
       "      <th>1</th>\n",
       "      <td>1</td>\n",
       "      <td>20001.0</td>\n",
       "      <td>PIT</td>\n",
       "      <td>PHI</td>\n",
       "      <td>0</td>\n",
       "      <td>0</td>\n",
       "      <td>1</td>\n",
       "      <td>5.0</td>\n",
       "      <td>5.0</td>\n",
       "      <td>0.0</td>\n",
       "      <td>0.0</td>\n",
       "    </tr>\n",
       "    <tr>\n",
       "      <th>2</th>\n",
       "      <td>1</td>\n",
       "      <td>20001.0</td>\n",
       "      <td>PIT</td>\n",
       "      <td>PHI</td>\n",
       "      <td>0</td>\n",
       "      <td>0</td>\n",
       "      <td>1</td>\n",
       "      <td>5.0</td>\n",
       "      <td>5.0</td>\n",
       "      <td>0.0</td>\n",
       "      <td>0.0</td>\n",
       "    </tr>\n",
       "    <tr>\n",
       "      <th>3</th>\n",
       "      <td>1</td>\n",
       "      <td>20001.0</td>\n",
       "      <td>PIT</td>\n",
       "      <td>PHI</td>\n",
       "      <td>0</td>\n",
       "      <td>0</td>\n",
       "      <td>1</td>\n",
       "      <td>5.0</td>\n",
       "      <td>5.0</td>\n",
       "      <td>0.0</td>\n",
       "      <td>0.0</td>\n",
       "    </tr>\n",
       "    <tr>\n",
       "      <th>4</th>\n",
       "      <td>1</td>\n",
       "      <td>20001.0</td>\n",
       "      <td>PIT</td>\n",
       "      <td>PHI</td>\n",
       "      <td>0</td>\n",
       "      <td>0</td>\n",
       "      <td>1</td>\n",
       "      <td>5.0</td>\n",
       "      <td>5.0</td>\n",
       "      <td>0.0</td>\n",
       "      <td>0.0</td>\n",
       "    </tr>\n",
       "  </tbody>\n",
       "</table>\n",
       "</div>"
      ],
      "text/plain": [
       "   Period  Game.ID Away.Team Home.Team  Home.Score  Away.Score  isRegular  \\\n",
       "0       1  20001.0       PIT       PHI           0           0          1   \n",
       "1       1  20001.0       PIT       PHI           0           0          1   \n",
       "2       1  20001.0       PIT       PHI           0           0          1   \n",
       "3       1  20001.0       PIT       PHI           0           0          1   \n",
       "4       1  20001.0       PIT       PHI           0           0          1   \n",
       "\n",
       "  Away.Team.Strength Home.Team.Strength  Away.Penalty  Home.Penalty  \n",
       "0                5.0                5.0           0.0           0.0  \n",
       "1                5.0                5.0           0.0           0.0  \n",
       "2                5.0                5.0           0.0           0.0  \n",
       "3                5.0                5.0           0.0           0.0  \n",
       "4                5.0                5.0           0.0           0.0  "
      ]
     },
     "execution_count": 42,
     "metadata": {},
     "output_type": "execute_result"
    }
   ],
   "source": [
    "data_all_years_useful.head()"
   ]
  },
  {
   "cell_type": "code",
   "execution_count": 43,
   "metadata": {
    "collapsed": false
   },
   "outputs": [
    {
     "data": {
      "text/plain": [
       "(6409877, 11)"
      ]
     },
     "execution_count": 43,
     "metadata": {},
     "output_type": "execute_result"
    }
   ],
   "source": [
    "data_all_years_useful.shape"
   ]
  },
  {
   "cell_type": "markdown",
   "metadata": {},
   "source": [
    "Я заметил, что есть nan в Game.ID, тяжело будет работать с такими данными, удалим их"
   ]
  },
  {
   "cell_type": "code",
   "execution_count": 44,
   "metadata": {
    "collapsed": false
   },
   "outputs": [],
   "source": [
    "data_all_years_useful = data_all_years_useful[np.isfinite(data_all_years_useful[\"Game.ID\"])]"
   ]
  },
  {
   "cell_type": "code",
   "execution_count": 45,
   "metadata": {
    "collapsed": false
   },
   "outputs": [
    {
     "data": {
      "text/plain": [
       "(6409820, 11)"
      ]
     },
     "execution_count": 45,
     "metadata": {},
     "output_type": "execute_result"
    }
   ],
   "source": [
    "data_all_years_useful.shape"
   ]
  },
  {
   "cell_type": "code",
   "execution_count": 46,
   "metadata": {
    "collapsed": false
   },
   "outputs": [],
   "source": [
    "keys_of_data_Home = data_all_years_useful.groupby(['Home.Team', 'Game.ID']).groups.keys()\n",
    "keys_of_data_Away = data_all_years_useful.groupby(['Away.Team', 'Game.ID']).groups.keys()"
   ]
  },
  {
   "cell_type": "code",
   "execution_count": 47,
   "metadata": {
    "collapsed": false,
    "scrolled": true
   },
   "outputs": [],
   "source": [
    "keys_of_data_Home.sort()\n",
    "keys_of_data_Away.sort()"
   ]
  },
  {
   "cell_type": "code",
   "execution_count": 48,
   "metadata": {
    "collapsed": true
   },
   "outputs": [],
   "source": [
    "gamesid_for_team = dict()\n",
    "for team in teams:\n",
    "    gamesid_for_team[team] = list()"
   ]
  },
  {
   "cell_type": "code",
   "execution_count": 49,
   "metadata": {
    "collapsed": false
   },
   "outputs": [],
   "source": [
    "for line in keys_of_data_Home:\n",
    "    gamesid_for_team[line[0]].append(line[1])\n",
    "for line in keys_of_data_Away:\n",
    "    gamesid_for_team[line[0]].append(line[1])"
   ]
  },
  {
   "cell_type": "markdown",
   "metadata": {},
   "source": [
    "Получили полезный набор Games.ID для каждой команды"
   ]
  },
  {
   "cell_type": "code",
   "execution_count": 50,
   "metadata": {
    "collapsed": true
   },
   "outputs": [],
   "source": [
    "game_ids = data_all_years_useful.groupby(['Game.ID']).groups.keys()\n",
    "game_ids.sort()"
   ]
  },
  {
   "cell_type": "code",
   "execution_count": 51,
   "metadata": {
    "collapsed": true
   },
   "outputs": [],
   "source": [
    "data_all_years_useful['Away.Team.Strength'] = data_all_years_useful['Away.Team.Strength'].astype('float64')\n",
    "data_all_years_useful['Home.Team.Strength'] = data_all_years_useful['Home.Team.Strength'].astype('float64')"
   ]
  },
  {
   "cell_type": "code",
   "execution_count": 52,
   "metadata": {
    "collapsed": false
   },
   "outputs": [],
   "source": [
    "data_all_years_useful_grouped_Games = data_all_years_useful.groupby(['Game.ID']).max()\n",
    "data_all_years_useful_grouped_Games_sum = data_all_years_useful.groupby(['Game.ID']).sum()\n",
    "data_all_years_useful_grouped_Games_mean = data_all_years_useful.groupby(['Game.ID']).mean()"
   ]
  },
  {
   "cell_type": "code",
   "execution_count": 53,
   "metadata": {
    "collapsed": false
   },
   "outputs": [],
   "source": [
    "data_all_years_useful_grouped_Games[\"Away.Penalty\"] = data_all_years_useful_grouped_Games_sum[\"Away.Penalty\"]\n",
    "data_all_years_useful_grouped_Games[\"Home.Penalty\"] = data_all_years_useful_grouped_Games_sum[\"Home.Penalty\"]\n",
    "data_all_years_useful_grouped_Games[\"Home.Team.Strength\"] = data_all_years_useful_grouped_Games_mean[\"Home.Team.Strength\"]\n",
    "data_all_years_useful_grouped_Games[\"Away.Team.Strength\"] = data_all_years_useful_grouped_Games_mean[\"Away.Team.Strength\"]"
   ]
  },
  {
   "cell_type": "code",
   "execution_count": 54,
   "metadata": {
    "collapsed": false,
    "scrolled": true
   },
   "outputs": [
    {
     "data": {
      "text/html": [
       "<div>\n",
       "<table border=\"1\" class=\"dataframe\">\n",
       "  <thead>\n",
       "    <tr style=\"text-align: right;\">\n",
       "      <th></th>\n",
       "      <th>Period</th>\n",
       "      <th>Away.Team</th>\n",
       "      <th>Home.Team</th>\n",
       "      <th>Home.Score</th>\n",
       "      <th>Away.Score</th>\n",
       "      <th>isRegular</th>\n",
       "      <th>Away.Team.Strength</th>\n",
       "      <th>Home.Team.Strength</th>\n",
       "      <th>Away.Penalty</th>\n",
       "      <th>Home.Penalty</th>\n",
       "    </tr>\n",
       "    <tr>\n",
       "      <th>Game.ID</th>\n",
       "      <th></th>\n",
       "      <th></th>\n",
       "      <th></th>\n",
       "      <th></th>\n",
       "      <th></th>\n",
       "      <th></th>\n",
       "      <th></th>\n",
       "      <th></th>\n",
       "      <th></th>\n",
       "      <th></th>\n",
       "    </tr>\n",
       "  </thead>\n",
       "  <tbody>\n",
       "    <tr>\n",
       "      <th>20001.0</th>\n",
       "      <td>3</td>\n",
       "      <td>PIT</td>\n",
       "      <td>PHI</td>\n",
       "      <td>1</td>\n",
       "      <td>2</td>\n",
       "      <td>1</td>\n",
       "      <td>4.946791</td>\n",
       "      <td>4.842567</td>\n",
       "      <td>16.0</td>\n",
       "      <td>13.0</td>\n",
       "    </tr>\n",
       "    <tr>\n",
       "      <th>20002.0</th>\n",
       "      <td>3</td>\n",
       "      <td>OTT</td>\n",
       "      <td>WPG</td>\n",
       "      <td>1</td>\n",
       "      <td>4</td>\n",
       "      <td>1</td>\n",
       "      <td>4.909599</td>\n",
       "      <td>4.798883</td>\n",
       "      <td>9.0</td>\n",
       "      <td>18.0</td>\n",
       "    </tr>\n",
       "    <tr>\n",
       "      <th>20003.0</th>\n",
       "      <td>3</td>\n",
       "      <td>CHI</td>\n",
       "      <td>L.A</td>\n",
       "      <td>2</td>\n",
       "      <td>5</td>\n",
       "      <td>1</td>\n",
       "      <td>4.859342</td>\n",
       "      <td>4.846072</td>\n",
       "      <td>19.0</td>\n",
       "      <td>11.0</td>\n",
       "    </tr>\n",
       "    <tr>\n",
       "      <th>20004.0</th>\n",
       "      <td>3</td>\n",
       "      <td>NYR</td>\n",
       "      <td>BOS</td>\n",
       "      <td>3</td>\n",
       "      <td>1</td>\n",
       "      <td>1</td>\n",
       "      <td>4.840737</td>\n",
       "      <td>4.811484</td>\n",
       "      <td>16.0</td>\n",
       "      <td>23.0</td>\n",
       "    </tr>\n",
       "    <tr>\n",
       "      <th>20005.0</th>\n",
       "      <td>3</td>\n",
       "      <td>TOR</td>\n",
       "      <td>MTL</td>\n",
       "      <td>1</td>\n",
       "      <td>2</td>\n",
       "      <td>1</td>\n",
       "      <td>4.848228</td>\n",
       "      <td>4.831253</td>\n",
       "      <td>30.0</td>\n",
       "      <td>17.0</td>\n",
       "    </tr>\n",
       "  </tbody>\n",
       "</table>\n",
       "</div>"
      ],
      "text/plain": [
       "         Period Away.Team Home.Team  Home.Score  Away.Score  isRegular  \\\n",
       "Game.ID                                                                  \n",
       "20001.0       3       PIT       PHI           1           2          1   \n",
       "20002.0       3       OTT       WPG           1           4          1   \n",
       "20003.0       3       CHI       L.A           2           5          1   \n",
       "20004.0       3       NYR       BOS           3           1          1   \n",
       "20005.0       3       TOR       MTL           1           2          1   \n",
       "\n",
       "         Away.Team.Strength  Home.Team.Strength  Away.Penalty  Home.Penalty  \n",
       "Game.ID                                                                      \n",
       "20001.0            4.946791            4.842567          16.0          13.0  \n",
       "20002.0            4.909599            4.798883           9.0          18.0  \n",
       "20003.0            4.859342            4.846072          19.0          11.0  \n",
       "20004.0            4.840737            4.811484          16.0          23.0  \n",
       "20005.0            4.848228            4.831253          30.0          17.0  "
      ]
     },
     "execution_count": 54,
     "metadata": {},
     "output_type": "execute_result"
    }
   ],
   "source": [
    "data_all_years_useful_grouped_Games.head()"
   ]
  },
  {
   "cell_type": "code",
   "execution_count": 55,
   "metadata": {
    "collapsed": false
   },
   "outputs": [
    {
     "data": {
      "image/png": "[encoded data removed]",
      "text/plain": [
       "<matplotlib.figure.Figure at 0x7f02afa3ad50>"
      ]
     },
     "metadata": {},
     "output_type": "display_data"
    }
   ],
   "source": [
    "corr = data_all_years_useful_grouped_Games.corr()\n",
    "f, ax = plt.subplots(figsize=(10, 9))\n",
    "sb.heatmap(corr, vmax=.8, square=True)\n",
    "plt.show()"
   ]
  },
  {
   "cell_type": "markdown",
   "metadata": {},
   "source": [
    "Видим, что Penalty кореллирует с периодом, это можно объяснить тем, что в овертаймах команды играют 4v4.\n",
    "Также Penalty кореллирует с Team.Strength, что тоже понятно из того, что оба признака описывают количество штрафов за игру. Home.Team.Strength и Away.Team.Strength коррелируют тоже из-за овертаймов. Если будут проблемы, то в будущем удалим сильно кореллирующие)"
   ]
  },
  {
   "cell_type": "markdown",
   "metadata": {},
   "source": [
    "Давайте ещё немного посмотрим на данные :)"
   ]
  },
  {
   "cell_type": "code",
   "execution_count": 56,
   "metadata": {
    "collapsed": false
   },
   "outputs": [
    {
     "data": {
      "image/png": "[encoded data removed]",
      "text/plain": [
       "<matplotlib.figure.Figure at 0x7f02afa3aad0>"
      ]
     },
     "metadata": {},
     "output_type": "display_data"
    }
   ],
   "source": [
    "f, (ax1, ax2) = plt.subplots(2)\n",
    "f.set_figheight(8)\n",
    "f.set_figwidth(8)\n",
    "sb.countplot(data_all_years_useful_grouped_Games[\"Home.Score\"], ax=ax1, color=\"orange\")\n",
    "sb.countplot(data_all_years_useful_grouped_Games[\"Away.Score\"], ax=ax2, color=\"green\")\n",
    "plt.show()"
   ]
  },
  {
   "cell_type": "markdown",
   "metadata": {},
   "source": [
    "Достаточно логично, что команды в среднем дома играют лучше и забивают больше."
   ]
  },
  {
   "cell_type": "markdown",
   "metadata": {},
   "source": [
    "Теперь будем создавать матрицу, на которой будем тренировать модели.\n",
    "Будем выбирать id матча, который хотим предсказать, затем искать 5 матчей до этого у каждой из 2-х играющих сейчас команд, а затем добавлять различные статистики в наш датафрейм."
   ]
  },
  {
   "cell_type": "code",
   "execution_count": 57,
   "metadata": {
    "collapsed": false
   },
   "outputs": [
    {
     "name": "stdout",
     "output_type": "stream",
     "text": [
      "[[3 'PIT' 'PHI' ..., 4.84256719692814 16.0 13.0]\n",
      " [3 'OTT' 'WPG' ..., 4.798882681564246 9.0 18.0]\n",
      " [3 'CHI' 'L.A' ..., 4.846072186836518 19.0 11.0]\n",
      " ..., \n",
      " [3 'T.B' 'CHI' ..., 4.892932489451477 17.0 9.0]\n",
      " [3 'CHI' 'T.B' ..., 4.969653179190751 4.0 4.0]\n",
      " [3 'T.B' 'CHI' ..., 4.894508670520231 1.0 10.0]]\n",
      "(3448, 10)\n",
      "(3448,)\n"
     ]
    }
   ],
   "source": [
    "data_all_years_useful_grouped_Games_matrix = data_all_years_useful_grouped_Games.as_matrix()\n",
    "game_ids = np.array(game_ids)\n",
    "print data_all_years_useful_grouped_Games_matrix\n",
    "print data_all_years_useful_grouped_Games.shape\n",
    "print game_ids.shape"
   ]
  },
  {
   "cell_type": "code",
   "execution_count": 58,
   "metadata": {
    "collapsed": false
   },
   "outputs": [
    {
     "data": {
      "text/html": [
       "<div>\n",
       "<table border=\"1\" class=\"dataframe\">\n",
       "  <thead>\n",
       "    <tr style=\"text-align: right;\">\n",
       "      <th></th>\n",
       "      <th>Period</th>\n",
       "      <th>Away.Team</th>\n",
       "      <th>Home.Team</th>\n",
       "      <th>Home.Score</th>\n",
       "      <th>Away.Score</th>\n",
       "      <th>isRegular</th>\n",
       "      <th>Away.Team.Strength</th>\n",
       "      <th>Home.Team.Strength</th>\n",
       "      <th>Away.Penalty</th>\n",
       "      <th>Home.Penalty</th>\n",
       "    </tr>\n",
       "    <tr>\n",
       "      <th>Game.ID</th>\n",
       "      <th></th>\n",
       "      <th></th>\n",
       "      <th></th>\n",
       "      <th></th>\n",
       "      <th></th>\n",
       "      <th></th>\n",
       "      <th></th>\n",
       "      <th></th>\n",
       "      <th></th>\n",
       "      <th></th>\n",
       "    </tr>\n",
       "  </thead>\n",
       "  <tbody>\n",
       "    <tr>\n",
       "      <th>20001.0</th>\n",
       "      <td>3</td>\n",
       "      <td>PIT</td>\n",
       "      <td>PHI</td>\n",
       "      <td>1</td>\n",
       "      <td>2</td>\n",
       "      <td>1</td>\n",
       "      <td>4.946791</td>\n",
       "      <td>4.842567</td>\n",
       "      <td>16.0</td>\n",
       "      <td>13.0</td>\n",
       "    </tr>\n",
       "    <tr>\n",
       "      <th>20002.0</th>\n",
       "      <td>3</td>\n",
       "      <td>OTT</td>\n",
       "      <td>WPG</td>\n",
       "      <td>1</td>\n",
       "      <td>4</td>\n",
       "      <td>1</td>\n",
       "      <td>4.909599</td>\n",
       "      <td>4.798883</td>\n",
       "      <td>9.0</td>\n",
       "      <td>18.0</td>\n",
       "    </tr>\n",
       "    <tr>\n",
       "      <th>20003.0</th>\n",
       "      <td>3</td>\n",
       "      <td>CHI</td>\n",
       "      <td>L.A</td>\n",
       "      <td>2</td>\n",
       "      <td>5</td>\n",
       "      <td>1</td>\n",
       "      <td>4.859342</td>\n",
       "      <td>4.846072</td>\n",
       "      <td>19.0</td>\n",
       "      <td>11.0</td>\n",
       "    </tr>\n",
       "    <tr>\n",
       "      <th>20004.0</th>\n",
       "      <td>3</td>\n",
       "      <td>NYR</td>\n",
       "      <td>BOS</td>\n",
       "      <td>3</td>\n",
       "      <td>1</td>\n",
       "      <td>1</td>\n",
       "      <td>4.840737</td>\n",
       "      <td>4.811484</td>\n",
       "      <td>16.0</td>\n",
       "      <td>23.0</td>\n",
       "    </tr>\n",
       "    <tr>\n",
       "      <th>20005.0</th>\n",
       "      <td>3</td>\n",
       "      <td>TOR</td>\n",
       "      <td>MTL</td>\n",
       "      <td>1</td>\n",
       "      <td>2</td>\n",
       "      <td>1</td>\n",
       "      <td>4.848228</td>\n",
       "      <td>4.831253</td>\n",
       "      <td>30.0</td>\n",
       "      <td>17.0</td>\n",
       "    </tr>\n",
       "  </tbody>\n",
       "</table>\n",
       "</div>"
      ],
      "text/plain": [
       "         Period Away.Team Home.Team  Home.Score  Away.Score  isRegular  \\\n",
       "Game.ID                                                                  \n",
       "20001.0       3       PIT       PHI           1           2          1   \n",
       "20002.0       3       OTT       WPG           1           4          1   \n",
       "20003.0       3       CHI       L.A           2           5          1   \n",
       "20004.0       3       NYR       BOS           3           1          1   \n",
       "20005.0       3       TOR       MTL           1           2          1   \n",
       "\n",
       "         Away.Team.Strength  Home.Team.Strength  Away.Penalty  Home.Penalty  \n",
       "Game.ID                                                                      \n",
       "20001.0            4.946791            4.842567          16.0          13.0  \n",
       "20002.0            4.909599            4.798883           9.0          18.0  \n",
       "20003.0            4.859342            4.846072          19.0          11.0  \n",
       "20004.0            4.840737            4.811484          16.0          23.0  \n",
       "20005.0            4.848228            4.831253          30.0          17.0  "
      ]
     },
     "execution_count": 58,
     "metadata": {},
     "output_type": "execute_result"
    }
   ],
   "source": [
    "data_all_years_useful_grouped_Games.head()"
   ]
  },
  {
   "cell_type": "markdown",
   "metadata": {},
   "source": [
    "Создавая новую матрицу, будем брать разные признаки в случаях, если команда играла дома и в гостях."
   ]
  },
  {
   "cell_type": "markdown",
   "metadata": {},
   "source": [
    "При добавлении новых признаков, можно всего лишь поменять 2 маски и 2 индекса:)"
   ]
  },
  {
   "cell_type": "code",
   "execution_count": 59,
   "metadata": {
    "collapsed": false
   },
   "outputs": [],
   "source": [
    "home_mask = np.array([0, 3, 5, 7, 9])\n",
    "away_mask = np.array([0, 4, 5, 6, 8])"
   ]
  },
  {
   "cell_type": "code",
   "execution_count": 60,
   "metadata": {
    "collapsed": true
   },
   "outputs": [],
   "source": [
    "ind_of_home_score = 3\n",
    "ind_of_away_score = 4"
   ]
  },
  {
   "cell_type": "code",
   "execution_count": 61,
   "metadata": {
    "collapsed": false
   },
   "outputs": [],
   "source": [
    "dataframe_for_predictions5 = []"
   ]
  },
  {
   "cell_type": "code",
   "execution_count": 62,
   "metadata": {
    "collapsed": false
   },
   "outputs": [],
   "source": [
    "for key in gamesid_for_team.keys():\n",
    "    gamesid_for_team[key].sort()"
   ]
  },
  {
   "cell_type": "markdown",
   "metadata": {},
   "source": [
    "Создадим словарь, где для каждого id будем получать номер строки в data_all_years_useful_grouped_Games_matrix с таким Game.ID"
   ]
  },
  {
   "cell_type": "code",
   "execution_count": 63,
   "metadata": {
    "collapsed": false
   },
   "outputs": [],
   "source": [
    "place_of_game_with_id = dict()\n",
    "for i in range(len(game_ids)):\n",
    "    place_of_game_with_id[game_ids[i]] = i"
   ]
  },
  {
   "cell_type": "markdown",
   "metadata": {},
   "source": [
    "Будем проходить по всем играм каждой команды, понимать, с кем она играла в матче с таким id, собирать статистику о 5 прошлых матчах этой команды и 5 прошлых матчах её текущего противника в игре с id."
   ]
  },
  {
   "cell_type": "code",
   "execution_count": 64,
   "metadata": {
    "collapsed": false
   },
   "outputs": [],
   "source": [
    "for number_of_game, gameid in enumerate(game_ids):\n",
    "    \n",
    "    first_team = data_all_years_useful_grouped_Games_matrix[number_of_game][1]\n",
    "    second_team = data_all_years_useful_grouped_Games_matrix[number_of_game][2]\n",
    "    pointer_first = bisect_left(gamesid_for_team[first_team], gameid)\n",
    "    pointer_second = bisect_left(gamesid_for_team[second_team], gameid)\n",
    "    \n",
    "    if (pointer_first > 5 and pointer_second > 5):\n",
    "        new_line = []\n",
    "        first_statistic = []\n",
    "        second_statistic = []\n",
    "        first_scores = []\n",
    "        second_scores = []\n",
    "        for i in range(pointer_first-5, pointer_first):\n",
    "            first_game_id = gamesid_for_team[first_team][i]\n",
    "            first_line = data_all_years_useful_grouped_Games_matrix[place_of_game_with_id[first_game_id]]\n",
    "            if (first_team == first_line[2]):\n",
    "                first_statistic.append(list(first_line.take(home_mask)))\n",
    "                first_scores.append(first_line.take(ind_of_home_score))\n",
    "            else:\n",
    "                first_statistic.append(list(first_line.take(away_mask)))\n",
    "                first_scores.append(first_line.take(ind_of_away_score))\n",
    "        for j in range(pointer_second-5, pointer_second):\n",
    "            second_game_id = gamesid_for_team[second_team][j]\n",
    "            second_line = data_all_years_useful_grouped_Games_matrix[place_of_game_with_id[second_game_id]]\n",
    "            if (second_team == second_line[2]):\n",
    "                second_statistic.append(list(second_line.take(home_mask)))\n",
    "                second_scores.append(second_line.take(ind_of_home_score))\n",
    "            else:\n",
    "                second_statistic.append(list(second_line.take(away_mask)))\n",
    "                second_scores.append(second_line.take(ind_of_away_score))\n",
    "                \n",
    "        #print first_statistic\n",
    "        #print second_statistic\n",
    "        #print first_scores\n",
    "        #print second_scores\n",
    "        first_statistic = np.array(first_statistic)\n",
    "        second_statistic = np.array(second_statistic)\n",
    "        \n",
    "        first_statistic_mean = first_statistic.mean(axis=0)\n",
    "        second_statistic_mean = second_statistic.mean(axis=0)\n",
    "        first_statistic_max = first_statistic.max(axis=0)\n",
    "        second_statistic_max = second_statistic.max(axis=0)\n",
    "        first_statistic_min = first_statistic.min(axis=0)\n",
    "        second_statistic_min = second_statistic.min(axis=0)\n",
    "        first_statistic_sum = first_statistic.sum(axis=0)\n",
    "        second_statistic_sum = second_statistic.sum(axis=0)\n",
    "        \n",
    "        res = np.append(first_statistic_mean, [first_statistic_max, first_statistic_min,\n",
    "                                               first_statistic_sum, second_statistic_mean, \n",
    "                                               second_statistic_max, second_statistic_min,\n",
    "                                               second_statistic_sum])\n",
    "        \n",
    "        res = np.append(res, np.array([data_all_years_useful_grouped_Games_matrix[number_of_game][3] \\\n",
    "                                       - data_all_years_useful_grouped_Games_matrix[number_of_game][4]]))\n",
    "        dataframe_for_predictions5.append(list(res))\n",
    "        #print res.shape\n",
    "        #print res\n",
    "        #break"
   ]
  },
  {
   "cell_type": "code",
   "execution_count": 65,
   "metadata": {
    "collapsed": true
   },
   "outputs": [],
   "source": [
    "dataframe_for_predictions5 = np.array(dataframe_for_predictions5)"
   ]
  },
  {
   "cell_type": "code",
   "execution_count": 66,
   "metadata": {
    "collapsed": false
   },
   "outputs": [
    {
     "data": {
      "text/plain": [
       "(3352, 41)"
      ]
     },
     "execution_count": 66,
     "metadata": {},
     "output_type": "execute_result"
    }
   ],
   "source": [
    "dataframe_for_predictions5.shape"
   ]
  },
  {
   "cell_type": "code",
   "execution_count": 67,
   "metadata": {
    "collapsed": false
   },
   "outputs": [
    {
     "data": {
      "text/plain": [
       "array([[  3.4       ,   3.4       ,   1.        , ...,  24.14904008,\n",
       "         79.        ,   1.        ],\n",
       "       [  3.2       ,   2.2       ,   1.        , ...,  24.23635558,\n",
       "         75.        ,  -3.        ],\n",
       "       [  3.2       ,   2.        ,   1.        , ...,  24.25280913,\n",
       "         80.        ,   1.        ],\n",
       "       ..., \n",
       "       [  3.        ,   2.6       ,  -1.        , ...,  24.60794144,\n",
       "         48.        ,   1.        ],\n",
       "       [  3.        ,   2.8       ,  -1.        , ...,  24.64691829,\n",
       "         37.        ,  -1.        ],\n",
       "       [  3.        ,   2.        ,  -1.        , ...,  24.60091149,\n",
       "         42.        ,   2.        ]])"
      ]
     },
     "execution_count": 67,
     "metadata": {},
     "output_type": "execute_result"
    }
   ],
   "source": [
    "dataframe_for_predictions5"
   ]
  },
  {
   "cell_type": "markdown",
   "metadata": {},
   "source": [
    "Давайте рассматривать различные модели и подбирать для них оптимальные гиперпараметры."
   ]
  },
  {
   "cell_type": "code",
   "execution_count": 68,
   "metadata": {
    "collapsed": true
   },
   "outputs": [],
   "source": [
    "def my_transformer(data):\n",
    "    return [int(0.5 + np.sign(d) / 2.) for d in data]"
   ]
  },
  {
   "cell_type": "code",
   "execution_count": 69,
   "metadata": {
    "collapsed": false
   },
   "outputs": [
    {
     "name": "stdout",
     "output_type": "stream",
     "text": [
      "(3352, 40)\n",
      "(3352,)\n",
      "(852,)\n",
      "(2500,)\n"
     ]
    }
   ],
   "source": [
    "X = dataframe_for_predictions5[:, 0:40]\n",
    "X = preprocessing.normalize(X)\n",
    "y = dataframe_for_predictions5[:, 40:41]\n",
    "y = np.array(map(lambda x: x[0], y))\n",
    "y = np.array(my_transformer(y))\n",
    "y_test = np.array(y[2500:3352])\n",
    "y_train = np.array(y[0:2500])\n",
    "X_test = np.array(X[2500:3352])\n",
    "X_train = np.array(X[0:2500])\n",
    "print X.shape\n",
    "print y.shape\n",
    "print y_test.shape\n",
    "print y_train.shape"
   ]
  },
  {
   "cell_type": "code",
   "execution_count": 104,
   "metadata": {
    "collapsed": false
   },
   "outputs": [
    {
     "name": "stdout",
     "output_type": "stream",
     "text": [
      "['reg_alpha', 'colsample_bytree', 'silent', 'colsample_bylevel', 'scale_pos_weight', 'learning_rate', 'missing', 'max_delta_step', 'nthread', 'base_score', 'n_estimators', 'subsample', 'reg_lambda', 'seed', 'min_child_weight', 'objective', 'max_depth', 'gamma']\n"
     ]
    }
   ],
   "source": [
    "xgbcl = xgb.XGBClassifier()\n",
    "print xgbcl.get_params().keys()"
   ]
  },
  {
   "cell_type": "code",
   "execution_count": 105,
   "metadata": {
    "collapsed": false
   },
   "outputs": [],
   "source": [
    "parameters_grid = {\n",
    "    'learning_rate': [0.01, 0.05, 0.1, 0.25],\n",
    "    'n_estimators': [5, 10, 15, 20],\n",
    "    'reg_alpha' : np.linspace(0.0001, 0.1, num = 8),\n",
    "}"
   ]
  },
  {
   "cell_type": "code",
   "execution_count": 106,
   "metadata": {
    "collapsed": false
   },
   "outputs": [],
   "source": [
    "cv = cross_validation.StratifiedShuffleSplit(y_train, n_iter = 25, test_size = 0.2, random_state = 0)"
   ]
  },
  {
   "cell_type": "code",
   "execution_count": 107,
   "metadata": {
    "collapsed": true
   },
   "outputs": [],
   "source": [
    "grid_cv = grid_search.GridSearchCV(xgbcl, parameters_grid, scoring = 'accuracy', cv = cv)"
   ]
  },
  {
   "cell_type": "code",
   "execution_count": 108,
   "metadata": {
    "collapsed": false
   },
   "outputs": [
    {
     "name": "stdout",
     "output_type": "stream",
     "text": [
      "CPU times: user 11min 36s, sys: 7.23 s, total: 11min 43s\n",
      "Wall time: 3min 8s\n"
     ]
    },
    {
     "data": {
      "text/plain": [
       "GridSearchCV(cv=StratifiedShuffleSplit(labels=[1 0 ..., 0 0], n_iter=25, test_size=0.2, random_state=0),\n",
       "       error_score='raise',\n",
       "       estimator=XGBClassifier(base_score=0.5, colsample_bylevel=1, colsample_bytree=1,\n",
       "       gamma=0, learning_rate=0.1, max_delta_step=0, max_depth=3,\n",
       "       min_child_weight=1, missing=None, n_estimators=100, nthread=-1,\n",
       "       objective='binary:logistic', reg_alpha=0, reg_lambda=1,\n",
       "       scale_pos_weight=1, seed=0, silent=True, subsample=1),\n",
       "       fit_params={}, iid=True, n_jobs=1,\n",
       "       param_grid={'n_estimators': [5, 10, 15, 20], 'learning_rate': [0.01, 0.05, 0.1, 0.25], 'reg_alpha': array([ 0.0001 ,  0.01437,  0.02864,  0.04291,  0.05719,  0.07146,\n",
       "        0.08573,  0.1    ])},\n",
       "       pre_dispatch='2*n_jobs', refit=True, scoring='accuracy', verbose=0)"
      ]
     },
     "execution_count": 108,
     "metadata": {},
     "output_type": "execute_result"
    }
   ],
   "source": [
    "%%time\n",
    "grid_cv.fit(X_train, y_train)"
   ]
  },
  {
   "cell_type": "code",
   "execution_count": 109,
   "metadata": {
    "collapsed": false
   },
   "outputs": [
    {
     "name": "stdout",
     "output_type": "stream",
     "text": [
      "XGBClassifier(base_score=0.5, colsample_bylevel=1, colsample_bytree=1,\n",
      "       gamma=0, learning_rate=0.1, max_delta_step=0, max_depth=3,\n",
      "       min_child_weight=1, missing=None, n_estimators=15, nthread=-1,\n",
      "       objective='binary:logistic', reg_alpha=0.085728571428571432,\n",
      "       reg_lambda=1, scale_pos_weight=1, seed=0, silent=True, subsample=1)\n",
      "0.54312\n",
      "{'n_estimators': 15, 'learning_rate': 0.1, 'reg_alpha': 0.085728571428571432}\n"
     ]
    }
   ],
   "source": [
    "print grid_cv.best_estimator_\n",
    "print grid_cv.best_score_\n",
    "print grid_cv.best_params_"
   ]
  },
  {
   "cell_type": "code",
   "execution_count": 110,
   "metadata": {
    "collapsed": false
   },
   "outputs": [
    {
     "data": {
      "text/plain": [
       "0.54460093896713613"
      ]
     },
     "execution_count": 110,
     "metadata": {},
     "output_type": "execute_result"
    }
   ],
   "source": [
    "xgbcl = xgb.XGBClassifier(n_estimators=15, learning_rate=0.1, reg_alpha=0.085728)\n",
    "xgbcl.fit(X_train, y_train)\n",
    "metrics.accuracy_score(xgbcl.predict(X_test), y_test)"
   ]
  },
  {
   "cell_type": "code",
   "execution_count": 115,
   "metadata": {
    "collapsed": false
   },
   "outputs": [
    {
     "name": "stdout",
     "output_type": "stream",
     "text": [
      "['warm_start', 'C', 'n_jobs', 'verbose', 'intercept_scaling', 'fit_intercept', 'max_iter', 'penalty', 'multi_class', 'random_state', 'dual', 'tol', 'solver', 'class_weight']\n"
     ]
    }
   ],
   "source": [
    "logreg = sklearn.linear_model.LogisticRegression()\n",
    "print logreg.get_params().keys()"
   ]
  },
  {
   "cell_type": "code",
   "execution_count": 116,
   "metadata": {
    "collapsed": true
   },
   "outputs": [],
   "source": [
    "parameters_grid = {\n",
    "    'penalty':['l1', 'l2'],\n",
    "    'C': [0.1, 0.25, 0.5, 0.75, 0.9, 1.0],\n",
    "    'max_iter': [10, 20, 25, 50],\n",
    "}"
   ]
  },
  {
   "cell_type": "code",
   "execution_count": 117,
   "metadata": {
    "collapsed": true
   },
   "outputs": [],
   "source": [
    "cv = cross_validation.StratifiedShuffleSplit(y_train, n_iter = 50, test_size = 0.2, random_state = 0)"
   ]
  },
  {
   "cell_type": "code",
   "execution_count": 118,
   "metadata": {
    "collapsed": true
   },
   "outputs": [],
   "source": [
    "grid_cv = grid_search.GridSearchCV(logreg, parameters_grid, scoring = 'accuracy', cv = cv)"
   ]
  },
  {
   "cell_type": "code",
   "execution_count": 119,
   "metadata": {
    "collapsed": false
   },
   "outputs": [
    {
     "name": "stdout",
     "output_type": "stream",
     "text": [
      "CPU times: user 51.8 s, sys: 580 ms, total: 52.3 s\n",
      "Wall time: 26.2 s\n"
     ]
    },
    {
     "data": {
      "text/plain": [
       "GridSearchCV(cv=StratifiedShuffleSplit(labels=[1 0 ..., 0 0], n_iter=50, test_size=0.2, random_state=0),\n",
       "       error_score='raise',\n",
       "       estimator=LogisticRegression(C=1.0, class_weight=None, dual=False, fit_intercept=True,\n",
       "          intercept_scaling=1, max_iter=100, multi_class='ovr', n_jobs=1,\n",
       "          penalty='l2', random_state=None, solver='liblinear', tol=0.0001,\n",
       "          verbose=0, warm_start=False),\n",
       "       fit_params={}, iid=True, n_jobs=1,\n",
       "       param_grid={'penalty': ['l1', 'l2'], 'C': [0.1, 0.25, 0.5, 0.75, 0.9, 1.0], 'max_iter': [10, 20, 25, 50]},\n",
       "       pre_dispatch='2*n_jobs', refit=True, scoring='accuracy', verbose=0)"
      ]
     },
     "execution_count": 119,
     "metadata": {},
     "output_type": "execute_result"
    }
   ],
   "source": [
    "%%time\n",
    "grid_cv.fit(X_train, y_train)"
   ]
  },
  {
   "cell_type": "code",
   "execution_count": 120,
   "metadata": {
    "collapsed": false
   },
   "outputs": [
    {
     "name": "stdout",
     "output_type": "stream",
     "text": [
      "LogisticRegression(C=1.0, class_weight=None, dual=False, fit_intercept=True,\n",
      "          intercept_scaling=1, max_iter=10, multi_class='ovr', n_jobs=1,\n",
      "          penalty='l2', random_state=None, solver='liblinear', tol=0.0001,\n",
      "          verbose=0, warm_start=False)\n",
      "0.55228\n",
      "{'penalty': 'l2', 'C': 1.0, 'max_iter': 10}\n"
     ]
    }
   ],
   "source": [
    "print grid_cv.best_estimator_\n",
    "print grid_cv.best_score_\n",
    "print grid_cv.best_params_"
   ]
  },
  {
   "cell_type": "code",
   "execution_count": 121,
   "metadata": {
    "collapsed": false
   },
   "outputs": [
    {
     "data": {
      "text/plain": [
       "0.53873239436619713"
      ]
     },
     "execution_count": 121,
     "metadata": {},
     "output_type": "execute_result"
    }
   ],
   "source": [
    "logreg = sklearn.linear_model.LogisticRegression(penalty='l1', C=0.1, max_iter=10)\n",
    "logreg.fit(X_train, y_train)\n",
    "metrics.accuracy_score(logreg.predict(X_test), y_test)"
   ]
  },
  {
   "cell_type": "code",
   "execution_count": 122,
   "metadata": {
    "collapsed": false
   },
   "outputs": [
    {
     "name": "stdout",
     "output_type": "stream",
     "text": [
      "['normalize', 'fit_intercept', 'max_iter', 'random_state', 'tol', 'copy_X', 'alpha', 'solver', 'class_weight']\n"
     ]
    }
   ],
   "source": [
    "ridgecl = sklearn.linear_model.RidgeClassifier()\n",
    "print ridgecl.get_params().keys()"
   ]
  },
  {
   "cell_type": "code",
   "execution_count": 123,
   "metadata": {
    "collapsed": true
   },
   "outputs": [],
   "source": [
    "parameters_grid = {\n",
    "    'alpha':[0.01, 0.05, 0.1, 0.2, 0.25, 0.5, 0.75, 0.8, 1.0],\n",
    "    'max_iter': [10, 20, 25, 50, 100],\n",
    "}"
   ]
  },
  {
   "cell_type": "code",
   "execution_count": 124,
   "metadata": {
    "collapsed": true
   },
   "outputs": [],
   "source": [
    "cv = cross_validation.StratifiedShuffleSplit(y_train, n_iter = 100, test_size = 0.2, random_state = 0)"
   ]
  },
  {
   "cell_type": "code",
   "execution_count": 125,
   "metadata": {
    "collapsed": true
   },
   "outputs": [],
   "source": [
    "grid_cv = grid_search.GridSearchCV(ridgecl, parameters_grid, scoring = 'accuracy', cv = cv)"
   ]
  },
  {
   "cell_type": "code",
   "execution_count": 126,
   "metadata": {
    "collapsed": false
   },
   "outputs": [
    {
     "name": "stdout",
     "output_type": "stream",
     "text": [
      "CPU times: user 40 s, sys: 472 ms, total: 40.5 s\n",
      "Wall time: 20.3 s\n"
     ]
    },
    {
     "data": {
      "text/plain": [
       "GridSearchCV(cv=StratifiedShuffleSplit(labels=[1 0 ..., 0 0], n_iter=100, test_size=0.2, random_state=0),\n",
       "       error_score='raise',\n",
       "       estimator=RidgeClassifier(alpha=1.0, class_weight=None, copy_X=True, fit_intercept=True,\n",
       "        max_iter=None, normalize=False, random_state=None, solver='auto',\n",
       "        tol=0.001),\n",
       "       fit_params={}, iid=True, n_jobs=1,\n",
       "       param_grid={'alpha': [0.01, 0.05, 0.1, 0.2, 0.25, 0.5, 0.75, 0.8, 1.0], 'max_iter': [10, 20, 25, 50, 100]},\n",
       "       pre_dispatch='2*n_jobs', refit=True, scoring='accuracy', verbose=0)"
      ]
     },
     "execution_count": 126,
     "metadata": {},
     "output_type": "execute_result"
    }
   ],
   "source": [
    "%%time\n",
    "grid_cv.fit(X_train, y_train)"
   ]
  },
  {
   "cell_type": "code",
   "execution_count": 127,
   "metadata": {
    "collapsed": false
   },
   "outputs": [
    {
     "name": "stdout",
     "output_type": "stream",
     "text": [
      "RidgeClassifier(alpha=0.1, class_weight=None, copy_X=True, fit_intercept=True,\n",
      "        max_iter=10, normalize=False, random_state=None, solver='auto',\n",
      "        tol=0.001)\n",
      "0.55168\n",
      "{'alpha': 0.1, 'max_iter': 10}\n"
     ]
    }
   ],
   "source": [
    "print grid_cv.best_estimator_\n",
    "print grid_cv.best_score_\n",
    "print grid_cv.best_params_"
   ]
  },
  {
   "cell_type": "code",
   "execution_count": 128,
   "metadata": {
    "collapsed": false
   },
   "outputs": [
    {
     "data": {
      "text/plain": [
       "0.55164319248826288"
      ]
     },
     "execution_count": 128,
     "metadata": {},
     "output_type": "execute_result"
    }
   ],
   "source": [
    "ridgecl = sklearn.linear_model.RidgeClassifier(alpha=1.0, max_iter=10)\n",
    "ridgecl.fit(X_train, y_train)\n",
    "metrics.accuracy_score(ridgecl.predict(X_test), y_test)"
   ]
  },
  {
   "cell_type": "code",
   "execution_count": null,
   "metadata": {
    "collapsed": true
   },
   "outputs": [],
   "source": []
  }
 ],
 "metadata": {
  "anaconda-cloud": {},
  "kernelspec": {
   "display_name": "Python [conda root]",
   "language": "python",
   "name": "conda-root-py"
  },
  "language_info": {
   "codemirror_mode": {
    "name": "ipython",
    "version": 2
   },
   "file_extension": ".py",
   "mimetype": "text/x-python",
   "name": "python",
   "nbconvert_exporter": "python",
   "pygments_lexer": "ipython2",
   "version": "2.7.12"
  }
 },
 "nbformat": 4,
 "nbformat_minor": 1
}
