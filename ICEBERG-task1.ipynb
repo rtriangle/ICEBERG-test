{
 "cells": [
  {
   "cell_type": "code",
   "execution_count": 2,
   "metadata": {
    "collapsed": true
   },
   "outputs": [],
   "source": [
    "import numpy as np\n",
    "import pandas as pd\n",
    "import matplotlib.pyplot as plt\n",
    "import scipy.stats as sts\n",
    "import sklearn\n",
    "import math\n",
    "import seaborn as sb\n",
    "from IPython.display import display, Math, Latex\n",
    "from matplotlib.legend_handler import HandlerLine2D\n",
    "from collections import Counter\n",
    "%matplotlib inline"
   ]
  },
  {
   "cell_type": "markdown",
   "metadata": {},
   "source": [
    "Прежде, чем выбирать и тренировать модели, я решил поискать, что известно по этой теме:\n",
    "<br>https://www.ruor.uottawa.ca/bitstream/10393/31553/3/Weissbock_Joshua_2014_thesis.pdf\n",
    "<br>http://web.uvic.ca/~afyshe/dm_projs/nhl_final_report.pdf\n",
    "<br>http://thesportjournal.org/article/goal-based-metrics-better-than-shot-based-metrics-at-predicting-hockey-success/"
   ]
  },
  {
   "cell_type": "markdown",
   "metadata": {},
   "source": [
    "В целом, как я понял, модели основанные на подсчёте голов работают намного лучше, чем модели, основанные на подсчёте бросков по воротам.\n",
    "<br>В файле очень стрёмные данные, возможно, я их обрабатываю не совсем эффективно, но мне ещё не приходилось тратить столько время на предобработку до обучения моделей :)"
   ]
  },
  {
   "cell_type": "code",
   "execution_count": 3,
   "metadata": {
    "collapsed": false
   },
   "outputs": [
    {
     "name": "stderr",
     "output_type": "stream",
     "text": [
      "/home/rtriangle/anaconda2/lib/python2.7/site-packages/IPython/core/interactiveshell.py:2717: DtypeWarning: Columns (1,57) have mixed types. Specify dtype option on import or set low_memory=False.\n",
      "  interactivity=interactivity, compiler=compiler, result=result)\n"
     ]
    }
   ],
   "source": [
    "data2013_2014 = pd.read_csv(\"data2013-2014.csv\")"
   ]
  },
  {
   "cell_type": "code",
   "execution_count": 4,
   "metadata": {
    "collapsed": false,
    "scrolled": true
   },
   "outputs": [
    {
     "name": "stderr",
     "output_type": "stream",
     "text": [
      "/home/rtriangle/anaconda2/lib/python2.7/site-packages/numpy/lib/function_base.py:3834: RuntimeWarning: Invalid value encountered in percentile\n",
      "  RuntimeWarning)\n"
     ]
    },
    {
     "data": {
      "text/html": [
       "<div>\n",
       "<table border=\"1\" class=\"dataframe\">\n",
       "  <thead>\n",
       "    <tr style=\"text-align: right;\">\n",
       "      <th></th>\n",
       "      <th>Unnamed: 0</th>\n",
       "      <th>Duration</th>\n",
       "      <th>Game.ID</th>\n",
       "      <th>Seconds</th>\n",
       "      <th>Home.Skaters</th>\n",
       "      <th>Away.Skaters</th>\n",
       "      <th>Home.Score</th>\n",
       "      <th>Away.Score</th>\n",
       "      <th>Score.Cat</th>\n",
       "      <th>Event.Length</th>\n",
       "      <th>...</th>\n",
       "      <th>fweight1</th>\n",
       "      <th>sweight1</th>\n",
       "      <th>gweight1</th>\n",
       "      <th>cweight2</th>\n",
       "      <th>fweight2</th>\n",
       "      <th>sweight2</th>\n",
       "      <th>gweight2</th>\n",
       "      <th>is.Rebound</th>\n",
       "      <th>is.Rush</th>\n",
       "      <th>xG</th>\n",
       "    </tr>\n",
       "  </thead>\n",
       "  <tbody>\n",
       "    <tr>\n",
       "      <th>count</th>\n",
       "      <td>2.526505e+06</td>\n",
       "      <td>2.108858e+06</td>\n",
       "      <td>2.526447e+06</td>\n",
       "      <td>2.526505e+06</td>\n",
       "      <td>2.526505e+06</td>\n",
       "      <td>2.526505e+06</td>\n",
       "      <td>2.526505e+06</td>\n",
       "      <td>2.526505e+06</td>\n",
       "      <td>2.526505e+06</td>\n",
       "      <td>2.526505e+06</td>\n",
       "      <td>...</td>\n",
       "      <td>2.526505e+06</td>\n",
       "      <td>2.526505e+06</td>\n",
       "      <td>2.526505e+06</td>\n",
       "      <td>2.526505e+06</td>\n",
       "      <td>2.526505e+06</td>\n",
       "      <td>2.526505e+06</td>\n",
       "      <td>2.526505e+06</td>\n",
       "      <td>2.526505e+06</td>\n",
       "      <td>2.526505e+06</td>\n",
       "      <td>112062.000000</td>\n",
       "    </tr>\n",
       "    <tr>\n",
       "      <th>mean</th>\n",
       "      <td>1.263253e+06</td>\n",
       "      <td>5.402609e+01</td>\n",
       "      <td>2.136209e+04</td>\n",
       "      <td>1.824997e+03</td>\n",
       "      <td>4.794811e+00</td>\n",
       "      <td>4.795009e+00</td>\n",
       "      <td>1.338297e+00</td>\n",
       "      <td>1.193619e+00</td>\n",
       "      <td>1.339206e-01</td>\n",
       "      <td>1.921711e+00</td>\n",
       "      <td>...</td>\n",
       "      <td>1.053428e+00</td>\n",
       "      <td>1.048019e+00</td>\n",
       "      <td>1.048531e+00</td>\n",
       "      <td>1.007583e+00</td>\n",
       "      <td>1.005990e+00</td>\n",
       "      <td>1.005763e+00</td>\n",
       "      <td>1.002349e+00</td>\n",
       "      <td>2.442109e-03</td>\n",
       "      <td>2.843850e-03</td>\n",
       "      <td>0.063799</td>\n",
       "    </tr>\n",
       "    <tr>\n",
       "      <th>std</th>\n",
       "      <td>7.293393e+05</td>\n",
       "      <td>9.878570e+01</td>\n",
       "      <td>2.592268e+03</td>\n",
       "      <td>1.080966e+03</td>\n",
       "      <td>7.438128e-01</td>\n",
       "      <td>7.241270e-01</td>\n",
       "      <td>1.369353e+00</td>\n",
       "      <td>1.286519e+00</td>\n",
       "      <td>1.374058e+00</td>\n",
       "      <td>5.043676e+00</td>\n",
       "      <td>...</td>\n",
       "      <td>2.665875e-01</td>\n",
       "      <td>2.468885e-01</td>\n",
       "      <td>2.424413e-01</td>\n",
       "      <td>8.744871e-02</td>\n",
       "      <td>7.730224e-02</td>\n",
       "      <td>7.578931e-02</td>\n",
       "      <td>4.758263e-02</td>\n",
       "      <td>4.935733e-02</td>\n",
       "      <td>5.325188e-02</td>\n",
       "      <td>0.066184</td>\n",
       "    </tr>\n",
       "    <tr>\n",
       "      <th>min</th>\n",
       "      <td>1.000000e+00</td>\n",
       "      <td>-1.200000e+03</td>\n",
       "      <td>2.000100e+04</td>\n",
       "      <td>-1.000000e-02</td>\n",
       "      <td>0.000000e+00</td>\n",
       "      <td>0.000000e+00</td>\n",
       "      <td>0.000000e+00</td>\n",
       "      <td>0.000000e+00</td>\n",
       "      <td>-3.000000e+00</td>\n",
       "      <td>-1.000000e-03</td>\n",
       "      <td>...</td>\n",
       "      <td>6.247371e-01</td>\n",
       "      <td>6.328879e-01</td>\n",
       "      <td>6.514085e-01</td>\n",
       "      <td>8.370780e-01</td>\n",
       "      <td>8.505145e-01</td>\n",
       "      <td>8.488780e-01</td>\n",
       "      <td>9.337780e-01</td>\n",
       "      <td>0.000000e+00</td>\n",
       "      <td>0.000000e+00</td>\n",
       "      <td>0.003730</td>\n",
       "    </tr>\n",
       "    <tr>\n",
       "      <th>25%</th>\n",
       "      <td>6.316270e+05</td>\n",
       "      <td>NaN</td>\n",
       "      <td>NaN</td>\n",
       "      <td>8.910010e+02</td>\n",
       "      <td>5.000000e+00</td>\n",
       "      <td>5.000000e+00</td>\n",
       "      <td>0.000000e+00</td>\n",
       "      <td>0.000000e+00</td>\n",
       "      <td>-1.000000e+00</td>\n",
       "      <td>0.000000e+00</td>\n",
       "      <td>...</td>\n",
       "      <td>9.012834e-01</td>\n",
       "      <td>9.046361e-01</td>\n",
       "      <td>9.273743e-01</td>\n",
       "      <td>9.616500e-01</td>\n",
       "      <td>9.602225e-01</td>\n",
       "      <td>9.635553e-01</td>\n",
       "      <td>9.453376e-01</td>\n",
       "      <td>0.000000e+00</td>\n",
       "      <td>0.000000e+00</td>\n",
       "      <td>NaN</td>\n",
       "    </tr>\n",
       "    <tr>\n",
       "      <th>50%</th>\n",
       "      <td>1.263253e+06</td>\n",
       "      <td>NaN</td>\n",
       "      <td>NaN</td>\n",
       "      <td>1.815001e+03</td>\n",
       "      <td>5.000000e+00</td>\n",
       "      <td>5.000000e+00</td>\n",
       "      <td>1.000000e+00</td>\n",
       "      <td>1.000000e+00</td>\n",
       "      <td>0.000000e+00</td>\n",
       "      <td>0.000000e+00</td>\n",
       "      <td>...</td>\n",
       "      <td>1.000000e+00</td>\n",
       "      <td>1.000000e+00</td>\n",
       "      <td>1.000000e+00</td>\n",
       "      <td>1.000000e+00</td>\n",
       "      <td>1.000000e+00</td>\n",
       "      <td>1.000000e+00</td>\n",
       "      <td>1.000000e+00</td>\n",
       "      <td>0.000000e+00</td>\n",
       "      <td>0.000000e+00</td>\n",
       "      <td>NaN</td>\n",
       "    </tr>\n",
       "    <tr>\n",
       "      <th>75%</th>\n",
       "      <td>1.894879e+06</td>\n",
       "      <td>NaN</td>\n",
       "      <td>NaN</td>\n",
       "      <td>2.745999e+03</td>\n",
       "      <td>5.000000e+00</td>\n",
       "      <td>5.000000e+00</td>\n",
       "      <td>2.000000e+00</td>\n",
       "      <td>2.000000e+00</td>\n",
       "      <td>1.000000e+00</td>\n",
       "      <td>9.000000e-03</td>\n",
       "      <td>...</td>\n",
       "      <td>1.123001e+00</td>\n",
       "      <td>1.117839e+00</td>\n",
       "      <td>1.084967e+00</td>\n",
       "      <td>1.041536e+00</td>\n",
       "      <td>1.043215e+00</td>\n",
       "      <td>1.039310e+00</td>\n",
       "      <td>1.061372e+00</td>\n",
       "      <td>0.000000e+00</td>\n",
       "      <td>0.000000e+00</td>\n",
       "      <td>NaN</td>\n",
       "    </tr>\n",
       "    <tr>\n",
       "      <th>max</th>\n",
       "      <td>2.526505e+06</td>\n",
       "      <td>1.200000e+03</td>\n",
       "      <td>3.041500e+04</td>\n",
       "      <td>6.026000e+03</td>\n",
       "      <td>6.000000e+00</td>\n",
       "      <td>6.000000e+00</td>\n",
       "      <td>9.000000e+00</td>\n",
       "      <td>8.000000e+00</td>\n",
       "      <td>3.000000e+00</td>\n",
       "      <td>8.099000e+01</td>\n",
       "      <td>...</td>\n",
       "      <td>2.504215e+00</td>\n",
       "      <td>2.381285e+00</td>\n",
       "      <td>2.151163e+00</td>\n",
       "      <td>1.241668e+00</td>\n",
       "      <td>1.213237e+00</td>\n",
       "      <td>1.216583e+00</td>\n",
       "      <td>1.076332e+00</td>\n",
       "      <td>1.000000e+00</td>\n",
       "      <td>1.000000e+00</td>\n",
       "      <td>0.535407</td>\n",
       "    </tr>\n",
       "  </tbody>\n",
       "</table>\n",
       "<p>8 rows × 29 columns</p>\n",
       "</div>"
      ],
      "text/plain": [
       "         Unnamed: 0      Duration       Game.ID       Seconds  Home.Skaters  \\\n",
       "count  2.526505e+06  2.108858e+06  2.526447e+06  2.526505e+06  2.526505e+06   \n",
       "mean   1.263253e+06  5.402609e+01  2.136209e+04  1.824997e+03  4.794811e+00   \n",
       "std    7.293393e+05  9.878570e+01  2.592268e+03  1.080966e+03  7.438128e-01   \n",
       "min    1.000000e+00 -1.200000e+03  2.000100e+04 -1.000000e-02  0.000000e+00   \n",
       "25%    6.316270e+05           NaN           NaN  8.910010e+02  5.000000e+00   \n",
       "50%    1.263253e+06           NaN           NaN  1.815001e+03  5.000000e+00   \n",
       "75%    1.894879e+06           NaN           NaN  2.745999e+03  5.000000e+00   \n",
       "max    2.526505e+06  1.200000e+03  3.041500e+04  6.026000e+03  6.000000e+00   \n",
       "\n",
       "       Away.Skaters    Home.Score    Away.Score     Score.Cat  Event.Length  \\\n",
       "count  2.526505e+06  2.526505e+06  2.526505e+06  2.526505e+06  2.526505e+06   \n",
       "mean   4.795009e+00  1.338297e+00  1.193619e+00  1.339206e-01  1.921711e+00   \n",
       "std    7.241270e-01  1.369353e+00  1.286519e+00  1.374058e+00  5.043676e+00   \n",
       "min    0.000000e+00  0.000000e+00  0.000000e+00 -3.000000e+00 -1.000000e-03   \n",
       "25%    5.000000e+00  0.000000e+00  0.000000e+00 -1.000000e+00  0.000000e+00   \n",
       "50%    5.000000e+00  1.000000e+00  1.000000e+00  0.000000e+00  0.000000e+00   \n",
       "75%    5.000000e+00  2.000000e+00  2.000000e+00  1.000000e+00  9.000000e-03   \n",
       "max    6.000000e+00  9.000000e+00  8.000000e+00  3.000000e+00  8.099000e+01   \n",
       "\n",
       "           ...            fweight1      sweight1      gweight1      cweight2  \\\n",
       "count      ...        2.526505e+06  2.526505e+06  2.526505e+06  2.526505e+06   \n",
       "mean       ...        1.053428e+00  1.048019e+00  1.048531e+00  1.007583e+00   \n",
       "std        ...        2.665875e-01  2.468885e-01  2.424413e-01  8.744871e-02   \n",
       "min        ...        6.247371e-01  6.328879e-01  6.514085e-01  8.370780e-01   \n",
       "25%        ...        9.012834e-01  9.046361e-01  9.273743e-01  9.616500e-01   \n",
       "50%        ...        1.000000e+00  1.000000e+00  1.000000e+00  1.000000e+00   \n",
       "75%        ...        1.123001e+00  1.117839e+00  1.084967e+00  1.041536e+00   \n",
       "max        ...        2.504215e+00  2.381285e+00  2.151163e+00  1.241668e+00   \n",
       "\n",
       "           fweight2      sweight2      gweight2    is.Rebound       is.Rush  \\\n",
       "count  2.526505e+06  2.526505e+06  2.526505e+06  2.526505e+06  2.526505e+06   \n",
       "mean   1.005990e+00  1.005763e+00  1.002349e+00  2.442109e-03  2.843850e-03   \n",
       "std    7.730224e-02  7.578931e-02  4.758263e-02  4.935733e-02  5.325188e-02   \n",
       "min    8.505145e-01  8.488780e-01  9.337780e-01  0.000000e+00  0.000000e+00   \n",
       "25%    9.602225e-01  9.635553e-01  9.453376e-01  0.000000e+00  0.000000e+00   \n",
       "50%    1.000000e+00  1.000000e+00  1.000000e+00  0.000000e+00  0.000000e+00   \n",
       "75%    1.043215e+00  1.039310e+00  1.061372e+00  0.000000e+00  0.000000e+00   \n",
       "max    1.213237e+00  1.216583e+00  1.076332e+00  1.000000e+00  1.000000e+00   \n",
       "\n",
       "                  xG  \n",
       "count  112062.000000  \n",
       "mean        0.063799  \n",
       "std         0.066184  \n",
       "min         0.003730  \n",
       "25%              NaN  \n",
       "50%              NaN  \n",
       "75%              NaN  \n",
       "max         0.535407  \n",
       "\n",
       "[8 rows x 29 columns]"
      ]
     },
     "execution_count": 4,
     "metadata": {},
     "output_type": "execute_result"
    }
   ],
   "source": [
    "data2013_2014.describe()"
   ]
  },
  {
   "cell_type": "code",
   "execution_count": 5,
   "metadata": {
    "collapsed": false
   },
   "outputs": [
    {
     "data": {
      "text/plain": [
       "Index([u'Unnamed: 0', u'Period', u'Event', u'Description', u'Duration',\n",
       "       u'Date', u'Game.ID', u'ev.team', u'p1', u'p2', u'p3', u'ev.zone',\n",
       "       u'Detail', u'Seconds', u'a1.num', u'a1.pos', u'a2.num', u'a2.pos',\n",
       "       u'a3.num', u'a3.pos', u'a4.num', u'a4.pos', u'a5.num', u'a5.pos',\n",
       "       u'a6.num', u'a6.pos', u'h1.num', u'h1.pos', u'h2.num', u'h2.pos',\n",
       "       u'h3.num', u'h3.pos', u'h4.num', u'h4.pos', u'h5.num', u'h5.pos',\n",
       "       u'h6.num', u'h6.pos', u'Away.Team', u'Home.Team', u'Away.Goalie',\n",
       "       u'Home.Goalie', u'Home.Skaters', u'Away.Skaters', u'Home.Score',\n",
       "       u'Away.Score', u'Strength.State', u'Score.State', u'Score.Cat',\n",
       "       u'Event.Length', u'URL', u'Highlight', u'XC', u'YC', u'Season',\n",
       "       u'Season.Type', u'Home.Zone', u'Newcode', u'Round.Seconds', u'Distance',\n",
       "       u'Angle', u'cweight1', u'fweight1', u'sweight1', u'gweight1',\n",
       "       u'cweight2', u'fweight2', u'sweight2', u'gweight2', u'is.Rebound',\n",
       "       u'is.Rush', u'xG'],\n",
       "      dtype='object')"
      ]
     },
     "execution_count": 5,
     "metadata": {},
     "output_type": "execute_result"
    }
   ],
   "source": [
    "data2013_2014.columns"
   ]
  },
  {
   "cell_type": "markdown",
   "metadata": {},
   "source": [
    "Я решил выделить признаки, несущие наибольшее количество информации для моей задачи, с помощью них можно будет сгенерировать также много новых фич."
   ]
  },
  {
   "cell_type": "code",
   "execution_count": 6,
   "metadata": {
    "collapsed": false,
    "scrolled": true
   },
   "outputs": [],
   "source": [
    "data2013_2014_useful = data2013_2014[[\"Period\", \"Game.ID\", \"Away.Team\", \"Home.Team\", \n",
    "                                      \"Home.Score\", \"Away.Score\", \"Season\", \"Season.Type\", \n",
    "                                      \"Strength.State\", \"Score.State\"]]"
   ]
  },
  {
   "cell_type": "code",
   "execution_count": 7,
   "metadata": {
    "collapsed": false
   },
   "outputs": [
    {
     "name": "stdout",
     "output_type": "stream",
     "text": [
      "(2526505, 10)\n",
      "Counter({20132014: 2526505})\n"
     ]
    }
   ],
   "source": [
    "print data2013_2014_useful.shape\n",
    "print Counter(np.array(data2013_2014_useful[\"Season\"]))"
   ]
  },
  {
   "cell_type": "code",
   "execution_count": 8,
   "metadata": {
    "collapsed": false
   },
   "outputs": [
    {
     "name": "stdout",
     "output_type": "stream",
     "text": [
      "(2526505, 10)\n",
      "Counter({'Regular': 2330144, 'Playoffs': 196361})\n"
     ]
    }
   ],
   "source": [
    "print data2013_2014_useful.shape\n",
    "print Counter(np.array(data2013_2014_useful[\"Season.Type\"]))"
   ]
  },
  {
   "cell_type": "markdown",
   "metadata": {},
   "source": [
    "Таким образом, можем удалить колонку \"Season\", а из \"Season.Type\" сделать в будущем новый признак isRegular и isPlayOff"
   ]
  },
  {
   "cell_type": "code",
   "execution_count": 9,
   "metadata": {
    "collapsed": false
   },
   "outputs": [
    {
     "name": "stdout",
     "output_type": "stream",
     "text": [
      "Counter({'1': 572493, '3': 556499, '2': 532299, 1: 284185, 3: 270162, 2: 263560, 'OT': 28376, 4: 7995, '4': 6900, '5': 2544, 5: 1460, 6: 30, nan: 2})\n"
     ]
    }
   ],
   "source": [
    "print Counter(data2013_2014_useful[\"Period\"])"
   ]
  },
  {
   "cell_type": "markdown",
   "metadata": {},
   "source": [
    "Правила об овертаймах в нхл меняются чуть ли не каждый год, но, в любом случае, давайте считать, что 1, 2, 3 - это основные периоды, а всё остальное - это 4ый период, то есть, овертайм."
   ]
  },
  {
   "cell_type": "code",
   "execution_count": 10,
   "metadata": {
    "collapsed": false
   },
   "outputs": [],
   "source": [
    "di = {'1': 1, '2': 2, '3': 3, '4': 4, '5': 4, '6': 4, 'OT': 4, 5: 4, 6: 4, np.nan: 4}"
   ]
  },
  {
   "cell_type": "code",
   "execution_count": 11,
   "metadata": {
    "collapsed": false
   },
   "outputs": [],
   "source": [
    "data2013_2014_useful = data2013_2014_useful.replace({\"Period\": di})"
   ]
  },
  {
   "cell_type": "code",
   "execution_count": 12,
   "metadata": {
    "collapsed": false
   },
   "outputs": [
    {
     "name": "stdout",
     "output_type": "stream",
     "text": [
      "Counter({1: 856678, 3: 826661, 2: 795859, 4: 47307})\n",
      "Counter({20132014: 2526505})\n"
     ]
    }
   ],
   "source": [
    "print Counter(data2013_2014_useful[\"Period\"])\n",
    "print Counter(data2013_2014_useful[\"Season\"])"
   ]
  },
  {
   "cell_type": "markdown",
   "metadata": {},
   "source": [
    "Cезон тоже можно удалить, потому что он не несёт никакой информации"
   ]
  },
  {
   "cell_type": "code",
   "execution_count": 13,
   "metadata": {
    "collapsed": false
   },
   "outputs": [],
   "source": [
    "del data2013_2014_useful[\"Season\"]"
   ]
  },
  {
   "cell_type": "markdown",
   "metadata": {},
   "source": [
    "Также видим, что Home.Score и Away.Score содержат ту же информацию, что и Score.State, поэтому удалим Score.State"
   ]
  },
  {
   "cell_type": "code",
   "execution_count": 14,
   "metadata": {
    "collapsed": true
   },
   "outputs": [],
   "source": [
    "del data2013_2014_useful[\"Score.State\"]"
   ]
  },
  {
   "cell_type": "markdown",
   "metadata": {},
   "source": [
    "Добавим новые признаки isRegular и isPlayoff"
   ]
  },
  {
   "cell_type": "code",
   "execution_count": 15,
   "metadata": {
    "collapsed": false
   },
   "outputs": [],
   "source": [
    "data2013_2014_useful['isRegular'] = np.where(data2013_2014_useful['Season.Type']=='Regular', 1, 0)\n",
    "data2013_2014_useful['isPlayoff'] = np.where(data2013_2014_useful['Season.Type']!='Regular', 1, 0)\n",
    "del data2013_2014_useful['Season.Type']"
   ]
  },
  {
   "cell_type": "code",
   "execution_count": 16,
   "metadata": {
    "collapsed": false
   },
   "outputs": [
    {
     "data": {
      "text/html": [
       "<div>\n",
       "<table border=\"1\" class=\"dataframe\">\n",
       "  <thead>\n",
       "    <tr style=\"text-align: right;\">\n",
       "      <th></th>\n",
       "      <th>Period</th>\n",
       "      <th>Game.ID</th>\n",
       "      <th>Away.Team</th>\n",
       "      <th>Home.Team</th>\n",
       "      <th>Home.Score</th>\n",
       "      <th>Away.Score</th>\n",
       "      <th>Strength.State</th>\n",
       "      <th>isRegular</th>\n",
       "      <th>isPlayoff</th>\n",
       "    </tr>\n",
       "  </thead>\n",
       "  <tbody>\n",
       "    <tr>\n",
       "      <th>0</th>\n",
       "      <td>1</td>\n",
       "      <td>20001.0</td>\n",
       "      <td>TOR</td>\n",
       "      <td>MTL</td>\n",
       "      <td>0</td>\n",
       "      <td>0</td>\n",
       "      <td>5v5</td>\n",
       "      <td>1</td>\n",
       "      <td>0</td>\n",
       "    </tr>\n",
       "    <tr>\n",
       "      <th>1</th>\n",
       "      <td>1</td>\n",
       "      <td>20001.0</td>\n",
       "      <td>TOR</td>\n",
       "      <td>MTL</td>\n",
       "      <td>0</td>\n",
       "      <td>0</td>\n",
       "      <td>5v5</td>\n",
       "      <td>1</td>\n",
       "      <td>0</td>\n",
       "    </tr>\n",
       "    <tr>\n",
       "      <th>2</th>\n",
       "      <td>1</td>\n",
       "      <td>20001.0</td>\n",
       "      <td>TOR</td>\n",
       "      <td>MTL</td>\n",
       "      <td>0</td>\n",
       "      <td>0</td>\n",
       "      <td>5v5</td>\n",
       "      <td>1</td>\n",
       "      <td>0</td>\n",
       "    </tr>\n",
       "    <tr>\n",
       "      <th>3</th>\n",
       "      <td>1</td>\n",
       "      <td>20001.0</td>\n",
       "      <td>TOR</td>\n",
       "      <td>MTL</td>\n",
       "      <td>0</td>\n",
       "      <td>0</td>\n",
       "      <td>5v5</td>\n",
       "      <td>1</td>\n",
       "      <td>0</td>\n",
       "    </tr>\n",
       "    <tr>\n",
       "      <th>4</th>\n",
       "      <td>1</td>\n",
       "      <td>20001.0</td>\n",
       "      <td>TOR</td>\n",
       "      <td>MTL</td>\n",
       "      <td>0</td>\n",
       "      <td>0</td>\n",
       "      <td>5v5</td>\n",
       "      <td>1</td>\n",
       "      <td>0</td>\n",
       "    </tr>\n",
       "  </tbody>\n",
       "</table>\n",
       "</div>"
      ],
      "text/plain": [
       "   Period  Game.ID Away.Team Home.Team  Home.Score  Away.Score Strength.State  \\\n",
       "0       1  20001.0       TOR       MTL           0           0            5v5   \n",
       "1       1  20001.0       TOR       MTL           0           0            5v5   \n",
       "2       1  20001.0       TOR       MTL           0           0            5v5   \n",
       "3       1  20001.0       TOR       MTL           0           0            5v5   \n",
       "4       1  20001.0       TOR       MTL           0           0            5v5   \n",
       "\n",
       "   isRegular  isPlayoff  \n",
       "0          1          0  \n",
       "1          1          0  \n",
       "2          1          0  \n",
       "3          1          0  \n",
       "4          1          0  "
      ]
     },
     "execution_count": 16,
     "metadata": {},
     "output_type": "execute_result"
    }
   ],
   "source": [
    "data2013_2014_useful.head()"
   ]
  },
  {
   "cell_type": "code",
   "execution_count": 17,
   "metadata": {
    "collapsed": false
   },
   "outputs": [],
   "source": [
    "x = np.array(data2013_2014_useful[\"Strength.State\"])\n",
    "x1 = map(lambda y: (y.split('v')[0]), x)\n",
    "x2 = map(lambda y: (y.split('v')[1]), x)"
   ]
  },
  {
   "cell_type": "code",
   "execution_count": 18,
   "metadata": {
    "collapsed": false
   },
   "outputs": [
    {
     "name": "stdout",
     "output_type": "stream",
     "text": [
      "Counter({'5': 2166283, '4': 275918, 'E': 74032, '3': 6099, '0': 4055, '2': 63, '1': 55})\n",
      "Counter({'5': 2151834, '4': 289256, 'E': 74032, '3': 7693, '0': 3651, '1': 24, '2': 15})\n"
     ]
    }
   ],
   "source": [
    "print Counter(x1)\n",
    "print Counter(x2)"
   ]
  },
  {
   "cell_type": "markdown",
   "metadata": {},
   "source": [
    "Я не знаю, что значит E в Strength.State, возможно, это equal, но в первых строчках видно, что в случае равных составов всё равно пишут XvX. Этих данных не так уж много по сравнению с числами, поэтому в будущем можем выкинуть строчки, где есть E"
   ]
  },
  {
   "cell_type": "code",
   "execution_count": 19,
   "metadata": {
    "collapsed": false
   },
   "outputs": [],
   "source": [
    "x1 = map(lambda x: float(x) if x != 'E' else 'E', x1)\n",
    "x2 = map(lambda x: float(x) if x != 'E' else 'E', x2)"
   ]
  },
  {
   "cell_type": "code",
   "execution_count": 20,
   "metadata": {
    "collapsed": false,
    "scrolled": true
   },
   "outputs": [
    {
     "name": "stdout",
     "output_type": "stream",
     "text": [
      "Counter({5.0: 2166283, 4.0: 275918, 'E': 74032, 3.0: 6099, 0.0: 4055, 2.0: 63, 1.0: 55})\n",
      "Counter({5.0: 2151834, 4.0: 289256, 'E': 74032, 3.0: 7693, 0.0: 3651, 1.0: 24, 2.0: 15})\n"
     ]
    }
   ],
   "source": [
    "print Counter(x1)\n",
    "print Counter(x2)"
   ]
  },
  {
   "cell_type": "code",
   "execution_count": 21,
   "metadata": {
    "collapsed": false
   },
   "outputs": [],
   "source": [
    "data2013_2014_useful[\"Away.Team.Strength\"] = list(x1)\n",
    "data2013_2014_useful[\"Home.Team.Strength\"] = list(x2)"
   ]
  },
  {
   "cell_type": "code",
   "execution_count": 22,
   "metadata": {
    "collapsed": false
   },
   "outputs": [],
   "source": [
    "del data2013_2014_useful[\"Strength.State\"]"
   ]
  },
  {
   "cell_type": "code",
   "execution_count": 23,
   "metadata": {
    "collapsed": false
   },
   "outputs": [
    {
     "data": {
      "text/plain": [
       "(2526505, 10)"
      ]
     },
     "execution_count": 23,
     "metadata": {},
     "output_type": "execute_result"
    }
   ],
   "source": [
    "data2013_2014_useful.shape"
   ]
  },
  {
   "cell_type": "code",
   "execution_count": 24,
   "metadata": {
    "collapsed": false
   },
   "outputs": [],
   "source": [
    "data2013_2014_useful = data2013_2014_useful[data2013_2014_useful[\"Away.Team.Strength\"] != 'E']\n",
    "data2013_2014_useful = data2013_2014_useful[data2013_2014_useful[\"Home.Team.Strength\"] != 'E']"
   ]
  },
  {
   "cell_type": "code",
   "execution_count": 25,
   "metadata": {
    "collapsed": false
   },
   "outputs": [
    {
     "data": {
      "text/plain": [
       "(2452473, 10)"
      ]
     },
     "execution_count": 25,
     "metadata": {},
     "output_type": "execute_result"
    }
   ],
   "source": [
    "data2013_2014_useful.shape"
   ]
  },
  {
   "cell_type": "markdown",
   "metadata": {},
   "source": [
    "Добавим информацию об удалениях, чтобы потом можно было считать количество удалений в периоде/матче и тд"
   ]
  },
  {
   "cell_type": "code",
   "execution_count": 26,
   "metadata": {
    "collapsed": false
   },
   "outputs": [],
   "source": [
    "x1 = list(data2013_2014_useful[\"Away.Team.Strength\"])\n",
    "x2 = list(data2013_2014_useful[\"Home.Team.Strength\"])"
   ]
  },
  {
   "cell_type": "code",
   "execution_count": 27,
   "metadata": {
    "collapsed": false
   },
   "outputs": [],
   "source": [
    "x1 = map(lambda x: float(x), x1)\n",
    "x2 = map(lambda x: float(x), x2)"
   ]
  },
  {
   "cell_type": "code",
   "execution_count": 28,
   "metadata": {
    "collapsed": false
   },
   "outputs": [
    {
     "name": "stdout",
     "output_type": "stream",
     "text": [
      "17497.0\n",
      "18427.0\n"
     ]
    }
   ],
   "source": [
    "x1_penalty = [float(max(x1[i] - x1[i+1], 0)) for i in range(len(x1)-1)] \n",
    "x2_penalty = [float(max(x2[i] - x2[i+1], 0)) for i in range(len(x2)-1)]\n",
    "print np.sum(x1_penalty)\n",
    "print np.sum(x2_penalty)"
   ]
  },
  {
   "cell_type": "code",
   "execution_count": 29,
   "metadata": {
    "collapsed": false
   },
   "outputs": [
    {
     "data": {
      "text/plain": [
       "2452472"
      ]
     },
     "execution_count": 29,
     "metadata": {},
     "output_type": "execute_result"
    }
   ],
   "source": [
    "len(x1_penalty)"
   ]
  },
  {
   "cell_type": "code",
   "execution_count": 30,
   "metadata": {
    "collapsed": true
   },
   "outputs": [],
   "source": [
    "x1_penalty = x1_penalty + [0]\n",
    "x2_penalty = x2_penalty + [0]"
   ]
  },
  {
   "cell_type": "markdown",
   "metadata": {},
   "source": [
    "Так как уменьшили размерность на 1"
   ]
  },
  {
   "cell_type": "code",
   "execution_count": 31,
   "metadata": {
    "collapsed": false
   },
   "outputs": [],
   "source": [
    "data2013_2014_useful[\"Away.Penalty\"] = np.array(x1_penalty)\n",
    "data2013_2014_useful[\"Home.Penalty\"] = np.array(x2_penalty)"
   ]
  },
  {
   "cell_type": "markdown",
   "metadata": {},
   "source": [
    "Посмотрим на названия всех команд:"
   ]
  },
  {
   "cell_type": "code",
   "execution_count": 32,
   "metadata": {
    "collapsed": false
   },
   "outputs": [
    {
     "name": "stdout",
     "output_type": "stream",
     "text": [
      "['N.J', 'MIN', 'TOR', 'WSH', 'BOS', 'DET', 'NYI', 'FLA', 'L.A', 'COL', 'NSH', 'DAL', 'CGY', 'NYR', 'CAR', 'WPG', 'BUF', 'VAN', 'STL', 'CHI', 'T.B', 'S.J', 'MTL', 'PHI', 'ANA', 'CBJ', 'PIT', 'EDM', 'ARI', 'OTT']\n"
     ]
    }
   ],
   "source": [
    "teams = list(set(np.array(data2013_2014_useful[\"Away.Team\"])))\n",
    "print teams"
   ]
  },
  {
   "cell_type": "code",
   "execution_count": 33,
   "metadata": {
    "collapsed": false
   },
   "outputs": [
    {
     "data": {
      "text/html": [
       "<div>\n",
       "<table border=\"1\" class=\"dataframe\">\n",
       "  <thead>\n",
       "    <tr style=\"text-align: right;\">\n",
       "      <th></th>\n",
       "      <th>Period</th>\n",
       "      <th>Game.ID</th>\n",
       "      <th>Away.Team</th>\n",
       "      <th>Home.Team</th>\n",
       "      <th>Home.Score</th>\n",
       "      <th>Away.Score</th>\n",
       "      <th>isRegular</th>\n",
       "      <th>isPlayoff</th>\n",
       "      <th>Away.Team.Strength</th>\n",
       "      <th>Home.Team.Strength</th>\n",
       "      <th>Away.Penalty</th>\n",
       "      <th>Home.Penalty</th>\n",
       "    </tr>\n",
       "  </thead>\n",
       "  <tbody>\n",
       "    <tr>\n",
       "      <th>0</th>\n",
       "      <td>1</td>\n",
       "      <td>20001.0</td>\n",
       "      <td>TOR</td>\n",
       "      <td>MTL</td>\n",
       "      <td>0</td>\n",
       "      <td>0</td>\n",
       "      <td>1</td>\n",
       "      <td>0</td>\n",
       "      <td>5</td>\n",
       "      <td>5</td>\n",
       "      <td>0.0</td>\n",
       "      <td>0.0</td>\n",
       "    </tr>\n",
       "    <tr>\n",
       "      <th>1</th>\n",
       "      <td>1</td>\n",
       "      <td>20001.0</td>\n",
       "      <td>TOR</td>\n",
       "      <td>MTL</td>\n",
       "      <td>0</td>\n",
       "      <td>0</td>\n",
       "      <td>1</td>\n",
       "      <td>0</td>\n",
       "      <td>5</td>\n",
       "      <td>5</td>\n",
       "      <td>0.0</td>\n",
       "      <td>0.0</td>\n",
       "    </tr>\n",
       "    <tr>\n",
       "      <th>2</th>\n",
       "      <td>1</td>\n",
       "      <td>20001.0</td>\n",
       "      <td>TOR</td>\n",
       "      <td>MTL</td>\n",
       "      <td>0</td>\n",
       "      <td>0</td>\n",
       "      <td>1</td>\n",
       "      <td>0</td>\n",
       "      <td>5</td>\n",
       "      <td>5</td>\n",
       "      <td>0.0</td>\n",
       "      <td>0.0</td>\n",
       "    </tr>\n",
       "    <tr>\n",
       "      <th>3</th>\n",
       "      <td>1</td>\n",
       "      <td>20001.0</td>\n",
       "      <td>TOR</td>\n",
       "      <td>MTL</td>\n",
       "      <td>0</td>\n",
       "      <td>0</td>\n",
       "      <td>1</td>\n",
       "      <td>0</td>\n",
       "      <td>5</td>\n",
       "      <td>5</td>\n",
       "      <td>0.0</td>\n",
       "      <td>0.0</td>\n",
       "    </tr>\n",
       "    <tr>\n",
       "      <th>4</th>\n",
       "      <td>1</td>\n",
       "      <td>20001.0</td>\n",
       "      <td>TOR</td>\n",
       "      <td>MTL</td>\n",
       "      <td>0</td>\n",
       "      <td>0</td>\n",
       "      <td>1</td>\n",
       "      <td>0</td>\n",
       "      <td>5</td>\n",
       "      <td>5</td>\n",
       "      <td>0.0</td>\n",
       "      <td>0.0</td>\n",
       "    </tr>\n",
       "  </tbody>\n",
       "</table>\n",
       "</div>"
      ],
      "text/plain": [
       "   Period  Game.ID Away.Team Home.Team  Home.Score  Away.Score  isRegular  \\\n",
       "0       1  20001.0       TOR       MTL           0           0          1   \n",
       "1       1  20001.0       TOR       MTL           0           0          1   \n",
       "2       1  20001.0       TOR       MTL           0           0          1   \n",
       "3       1  20001.0       TOR       MTL           0           0          1   \n",
       "4       1  20001.0       TOR       MTL           0           0          1   \n",
       "\n",
       "   isPlayoff Away.Team.Strength Home.Team.Strength  Away.Penalty  Home.Penalty  \n",
       "0          0                  5                  5           0.0           0.0  \n",
       "1          0                  5                  5           0.0           0.0  \n",
       "2          0                  5                  5           0.0           0.0  \n",
       "3          0                  5                  5           0.0           0.0  \n",
       "4          0                  5                  5           0.0           0.0  "
      ]
     },
     "execution_count": 33,
     "metadata": {},
     "output_type": "execute_result"
    }
   ],
   "source": [
    "data2013_2014_useful.head()"
   ]
  },
  {
   "cell_type": "code",
   "execution_count": 34,
   "metadata": {
    "collapsed": false
   },
   "outputs": [
    {
     "data": {
      "text/plain": [
       "(2452473, 12)"
      ]
     },
     "execution_count": 34,
     "metadata": {},
     "output_type": "execute_result"
    }
   ],
   "source": [
    "data2013_2014_useful.shape"
   ]
  },
  {
   "cell_type": "markdown",
   "metadata": {},
   "source": [
    "Я заметил, что есть nan в Game.ID, тяжело будет работать с такими данными, удалим их"
   ]
  },
  {
   "cell_type": "code",
   "execution_count": 35,
   "metadata": {
    "collapsed": false
   },
   "outputs": [],
   "source": [
    "data2013_2014_useful = data2013_2014_useful[np.isfinite(data2013_2014_useful[\"Game.ID\"])]"
   ]
  },
  {
   "cell_type": "code",
   "execution_count": 36,
   "metadata": {
    "collapsed": false
   },
   "outputs": [
    {
     "data": {
      "text/plain": [
       "(2452416, 12)"
      ]
     },
     "execution_count": 36,
     "metadata": {},
     "output_type": "execute_result"
    }
   ],
   "source": [
    "data2013_2014_useful.shape"
   ]
  },
  {
   "cell_type": "code",
   "execution_count": 37,
   "metadata": {
    "collapsed": false
   },
   "outputs": [],
   "source": [
    "keys_of_data_Home = data2013_2014_useful.groupby(['Home.Team', 'Game.ID']).groups.keys()\n",
    "keys_of_data_Away = data2013_2014_useful.groupby(['Away.Team', 'Game.ID']).groups.keys()"
   ]
  },
  {
   "cell_type": "code",
   "execution_count": 38,
   "metadata": {
    "collapsed": false,
    "scrolled": true
   },
   "outputs": [],
   "source": [
    "keys_of_data_Home.sort()\n",
    "keys_of_data_Away.sort()"
   ]
  },
  {
   "cell_type": "code",
   "execution_count": 39,
   "metadata": {
    "collapsed": true
   },
   "outputs": [],
   "source": [
    "gamesid_for_team = dict()\n",
    "for team in teams:\n",
    "    gamesid_for_team[team] = set()"
   ]
  },
  {
   "cell_type": "code",
   "execution_count": 40,
   "metadata": {
    "collapsed": false
   },
   "outputs": [],
   "source": [
    "for line in keys_of_data_Home:\n",
    "    gamesid_for_team[line[0]].add(line[1])\n",
    "for line in keys_of_data_Away:\n",
    "    gamesid_for_team[line[0]].add(line[1])"
   ]
  },
  {
   "cell_type": "markdown",
   "metadata": {},
   "source": [
    "Получили полезный набор Games.ID для каждой команды"
   ]
  },
  {
   "cell_type": "code",
   "execution_count": 41,
   "metadata": {
    "collapsed": false,
    "scrolled": true
   },
   "outputs": [
    {
     "name": "stdout",
     "output_type": "stream",
     "text": [
      "{'N.J': set([20352.0, 20867.0, 20484.0, 20357.0, 21126.0, 20999.0, 20232.0, 20140.0, 20747.0, 20492.0, 20546.0, 20366.0, 20879.0, 20101.0, 20241.0, 20035.0, 20116.0, 20718.0, 20886.0, 21129.0, 21167.0, 21061.0, 20256.0, 20769.0, 21026.0, 20131.0, 21157.0, 20903.0, 20008.0, 20649.0, 20396.0, 20784.0, 20016.0, 20913.0, 21042.0, 20661.0, 20534.0, 20407.0, 21177.0, 20063.0, 20285.0, 21197.0, 20801.0, 20043.0, 20419.0, 20677.0, 21113.0, 20296.0, 20599.0, 21068.0, 20265.0, 20687.0, 20432.0, 20389.0, 20813.0, 20179.0, 20700.0, 20622.0, 20822.0, 20325.0, 21208.0, 20569.0, 21007.0, 20444.0, 20957.0, 21221.0, 20155.0, 20580.0, 21093.0, 20561.0, 20840.0, 20203.0, 20460.0, 20077.0, 20334.0, 20925.0, 20977.0, 20214.0, 20521.0, 20628.0, 20733.0, 20949.0]), 'MIN': set([20994.0, 20483.0, 20497.0, 21010.0, 30231.0, 30232.0, 30233.0, 30234.0, 30235.0, 30236.0, 21022.0, 21168.0, 21027.0, 20518.0, 20011.0, 20526.0, 21042.0, 20029.0, 21057.0, 20551.0, 20042.0, 21070.0, 20560.0, 20054.0, 20573.0, 21089.0, 21178.0, 20072.0, 21098.0, 20592.0, 20081.0, 20082.0, 20601.0, 21116.0, 20102.0, 21128.0, 20617.0, 20115.0, 20635.0, 21148.0, 20134.0, 20656.0, 20145.0, 20666.0, 20162.0, 21187.0, 20680.0, 20174.0, 21201.0, 20690.0, 20705.0, 20196.0, 21227.0, 20716.0, 20214.0, 20734.0, 20223.0, 20233.0, 20752.0, 20249.0, 20764.0, 20783.0, 20274.0, 20291.0, 20805.0, 20814.0, 20307.0, 20315.0, 20832.0, 20322.0, 20851.0, 20342.0, 20865.0, 20360.0, 20374.0, 20897.0, 20387.0, 20900.0, 20400.0, 20408.0, 20922.0, 30151.0, 30152.0, 30153.0, 30154.0, 30155.0, 30156.0, 30157.0, 20430.0, 20434.0, 20960.0, 20449.0, 20966.0, 20983.0, 20472.0]), 'TOR': set([20097.0, 20610.0, 20995.0, 20356.0, 21102.0, 20284.0, 20744.0, 20780.0, 20490.0, 20875.0, 20753.0, 20887.0, 20241.0, 20629.0, 21014.0, 20119.0, 21144.0, 20505.0, 20150.0, 20765.0, 20511.0, 20129.0, 20004.0, 20934.0, 20648.0, 20394.0, 21163.0, 20524.0, 20909.0, 21038.0, 20247.0, 20848.0, 20274.0, 20554.0, 20022.0, 21215.0, 20920.0, 20410.0, 20388.0, 20156.0, 21130.0, 20542.0, 21184.0, 21060.0, 20037.0, 20294.0, 20423.0, 21068.0, 20810.0, 20727.0, 21111.0, 20687.0, 20984.0, 20440.0, 20001.0, 20182.0, 21079.0, 20568.0, 20313.0, 20955.0, 20828.0, 21199.0, 20662.0, 20064.0, 20696.0, 20450.0, 20707.0, 20327.0, 20796.0, 20185.0, 20590.0, 20975.0, 20208.0, 21032.0, 20082.0, 20670.0, 20470.0, 20343.0, 20373.0, 20477.0, 20862.0, 20053.0]), 'WSH': set([20738.0, 20595.0, 20997.0, 20614.0, 20233.0, 20721.0, 21133.0, 20750.0, 20879.0, 20368.0, 20499.0, 21123.0, 20118.0, 20635.0, 20485.0, 20698.0, 20451.0, 20135.0, 20769.0, 20386.0, 20515.0, 20260.0, 21157.0, 20902.0, 20849.0, 20009.0, 20266.0, 20835.0, 21036.0, 20397.0, 21223.0, 20912.0, 20147.0, 20892.0, 20663.0, 20536.0, 21049.0, 20412.0, 20670.0, 20799.0, 20290.0, 20546.0, 20811.0, 20708.0, 20165.0, 20935.0, 21065.0, 20938.0, 20555.0, 20685.0, 20175.0, 20304.0, 20050.0, 20323.0, 21205.0, 20585.0, 21186.0, 21081.0, 20570.0, 20443.0, 20777.0, 20958.0, 20191.0, 20067.0, 20253.0, 21195.0, 21014.0, 20968.0, 20028.0, 20459.0, 20206.0, 20080.0, 20337.0, 20002.0, 21108.0, 20981.0, 20343.0, 20218.0, 20859.0, 21162.0, 20094.0, 20821.0]), 'BOS': set([20482.0, 30211.0, 30212.0, 30213.0, 30214.0, 30215.0, 30216.0, 30217.0, 21004.0, 20498.0, 20509.0, 21022.0, 21026.0, 20007.0, 20523.0, 20021.0, 20541.0, 21063.0, 20048.0, 20562.0, 21075.0, 20567.0, 21092.0, 20577.0, 20667.0, 20068.0, 20079.0, 21108.0, 20602.0, 21121.0, 20612.0, 20103.0, 20626.0, 21141.0, 21144.0, 21160.0, 20138.0, 20139.0, 20655.0, 20155.0, 21187.0, 20684.0, 21202.0, 20184.0, 21212.0, 21221.0, 20204.0, 20717.0, 20217.0, 20736.0, 20739.0, 20230.0, 20696.0, 20247.0, 20262.0, 20776.0, 20188.0, 20277.0, 20795.0, 20789.0, 20289.0, 20809.0, 20309.0, 20824.0, 20317.0, 20326.0, 20844.0, 20882.0, 21053.0, 20341.0, 20864.0, 20355.0, 20874.0, 20370.0, 20114.0, 20380.0, 30111.0, 30112.0, 30113.0, 30114.0, 30115.0, 20902.0, 20393.0, 20916.0, 20924.0, 20425.0, 20938.0, 20438.0, 20956.0, 20450.0, 20963.0, 20467.0, 20985.0, 20989.0]), 'DET': set([20998.0, 20491.0, 20500.0, 21020.0, 20514.0, 20005.0, 21032.0, 20528.0, 20017.0, 20021.0, 21046.0, 20542.0, 21057.0, 21070.0, 20051.0, 21085.0, 20065.0, 20579.0, 21095.0, 21180.0, 20079.0, 20597.0, 20087.0, 21120.0, 20610.0, 20107.0, 21141.0, 20120.0, 20634.0, 20126.0, 21155.0, 20137.0, 21164.0, 20668.0, 20158.0, 21191.0, 20683.0, 21111.0, 20691.0, 21206.0, 20186.0, 20710.0, 21224.0, 20210.0, 20216.0, 20949.0, 20742.0, 20236.0, 20757.0, 20248.0, 20771.0, 20270.0, 20785.0, 20797.0, 20290.0, 20297.0, 20821.0, 20316.0, 20835.0, 20198.0, 20839.0, 20329.0, 20345.0, 20863.0, 20353.0, 20877.0, 20370.0, 20883.0, 20891.0, 20382.0, 30111.0, 30112.0, 30113.0, 30114.0, 30115.0, 20404.0, 20925.0, 20420.0, 20940.0, 20432.0, 20728.0, 20558.0, 20441.0, 20965.0, 20462.0, 20979.0, 20476.0]), 'NYI': set([20544.0, 20098.0, 20686.0, 20740.0, 20613.0, 20481.0, 20234.0, 21131.0, 20672.0, 20493.0, 20878.0, 20367.0, 21008.0, 21140.0, 20117.0, 20887.0, 20632.0, 20996.0, 20250.0, 20763.0, 20382.0, 20255.0, 20512.0, 20592.0, 20130.0, 20643.0, 20819.0, 20806.0, 20775.0, 20264.0, 21196.0, 21162.0, 21225.0, 20397.0, 20701.0, 20016.0, 20914.0, 21172.0, 20789.0, 20278.0, 20535.0, 20024.0, 20411.0, 21181.0, 20149.0, 20160.0, 20951.0, 20930.0, 20038.0, 20297.0, 21066.0, 20428.0, 20346.0, 20558.0, 20849.0, 20176.0, 20946.0, 21027.0, 20602.0, 20729.0, 21208.0, 20313.0, 21082.0, 20061.0, 20448.0, 20194.0, 20580.0, 20071.0, 21096.0, 20457.0, 20903.0, 20204.0, 20974.0, 20336.0, 20648.0, 20083.0, 20469.0, 20748.0, 20713.0, 20856.0, 21113.0, 20218.0]), 'FLA': set([20963.0, 20992.0, 20485.0, 20230.0, 20103.0, 20869.0, 20746.0, 21131.0, 21059.0, 20115.0, 20372.0, 21013.0, 20246.0, 20631.0, 20527.0, 20892.0, 20511.0, 20257.0, 21072.0, 20772.0, 20133.0, 21048.0, 20795.0, 21084.0, 20395.0, 20012.0, 21037.0, 20271.0, 20785.0, 20914.0, 21171.0, 20660.0, 21126.0, 20320.0, 20152.0, 20538.0, 20027.0, 20924.0, 20810.0, 20414.0, 21185.0, 20291.0, 20677.0, 20167.0, 20741.0, 20039.0, 20427.0, 20301.0, 20441.0, 20559.0, 20052.0, 21112.0, 20730.0, 20579.0, 20359.0, 20950.0, 21156.0, 21199.0, 20060.0, 20701.0, 20645.0, 21216.0, 20206.0, 20195.0, 20452.0, 20999.0, 21097.0, 20586.0, 20076.0, 20333.0, 20462.0, 20848.0, 20338.0, 20980.0, 20829.0, 20905.0, 20600.0, 20714.0, 20090.0, 20501.0, 20221.0, 20863.0]), 'L.A': set([20995.0, 20488.0, 21012.0, 20503.0, 21025.0, 30242.0, 30243.0, 30244.0, 30245.0, 30246.0, 30247.0, 20520.0, 20011.0, 20019.0, 20533.0, 21049.0, 20540.0, 21059.0, 20036.0, 20047.0, 20751.0, 21074.0, 20565.0, 21081.0, 20059.0, 21094.0, 20582.0, 20076.0, 30321.0, 30322.0, 30323.0, 20596.0, 30325.0, 30326.0, 30327.0, 20088.0, 20605.0, 21118.0, 21128.0, 20105.0, 21143.0, 20122.0, 20637.0, 20128.0, 20656.0, 21169.0, 20148.0, 30324.0, 20667.0, 20683.0, 30241.0, 21192.0, 20170.0, 30411.0, 30412.0, 30413.0, 30414.0, 30415.0, 21203.0, 20183.0, 20187.0, 21220.0, 20200.0, 20715.0, 20728.0, 20739.0, 20695.0, 20239.0, 20254.0, 20767.0, 20263.0, 20782.0, 20616.0, 20278.0, 20794.0, 20285.0, 20804.0, 20305.0, 20818.0, 20827.0, 20321.0, 20842.0, 30183.0, 20334.0, 20351.0, 20866.0, 20363.0, 20973.0, 20884.0, 20377.0, 20896.0, 20908.0, 20401.0, 20409.0, 20923.0, 21152.0, 20418.0, 20939.0, 20448.0, 30181.0, 30182.0, 20967.0, 30184.0, 30185.0, 30186.0, 30187.0, 20461.0, 20470.0]), 'COL': set([21003.0, 20497.0, 21017.0, 20508.0, 20006.0, 20519.0, 21040.0, 20020.0, 20540.0, 21053.0, 20037.0, 20048.0, 20566.0, 20572.0, 21087.0, 20067.0, 21100.0, 20593.0, 21109.0, 20092.0, 20606.0, 20619.0, 21134.0, 20112.0, 20627.0, 21151.0, 20646.0, 21161.0, 20659.0, 21175.0, 20154.0, 20672.0, 21189.0, 20680.0, 20169.0, 21204.0, 20772.0, 21211.0, 20702.0, 20197.0, 21229.0, 20718.0, 20209.0, 20732.0, 20228.0, 21030.0, 20753.0, 20243.0, 20260.0, 20778.0, 20267.0, 20792.0, 20532.0, 20107.0, 20301.0, 20814.0, 20281.0, 20826.0, 20318.0, 20840.0, 20332.0, 20845.0, 20858.0, 20351.0, 20878.0, 20884.0, 20375.0, 30156.0, 20899.0, 20400.0, 20917.0, 20127.0, 20927.0, 30151.0, 30152.0, 30153.0, 30154.0, 30155.0, 20940.0, 30157.0, 20431.0, 20387.0, 20436.0, 20954.0, 20453.0, 20972.0, 20466.0, 20987.0, 20479.0]), 'NSH': set([20369.0, 20865.0, 21054.0, 21123.0, 20228.0, 20743.0, 21000.0, 20105.0, 20495.0, 20880.0, 21009.0, 20242.0, 20327.0, 20830.0, 20631.0, 20612.0, 20379.0, 20124.0, 20893.0, 20766.0, 20639.0, 20256.0, 20517.0, 20134.0, 21041.0, 20264.0, 20650.0, 21035.0, 21159.0, 20398.0, 20144.0, 20529.0, 21170.0, 20787.0, 20020.0, 20574.0, 20361.0, 20664.0, 21227.0, 21087.0, 20286.0, 20416.0, 20929.0, 20802.0, 20163.0, 20548.0, 20678.0, 20042.0, 20299.0, 20429.0, 20943.0, 21200.0, 20562.0, 20053.0, 20822.0, 21105.0, 21069.0, 20443.0, 20316.0, 20190.0, 20959.0, 20704.0, 21217.0, 20010.0, 20773.0, 20582.0, 20071.0, 20200.0, 20732.0, 21099.0, 20690.0, 20463.0, 20976.0, 20711.0, 20597.0, 20969.0, 20113.0, 21188.0, 20090.0, 20348.0, 20906.0, 20478.0]), 'DAL': set([20489.0, 21002.0, 20508.0, 21021.0, 21028.0, 20519.0, 20012.0, 20531.0, 20574.0, 20028.0, 21058.0, 20550.0, 21077.0, 21086.0, 20072.0, 20588.0, 21105.0, 21115.0, 20092.0, 20605.0, 20618.0, 21133.0, 20122.0, 20125.0, 20643.0, 21146.0, 21165.0, 20146.0, 21171.0, 20661.0, 20669.0, 20161.0, 21188.0, 20171.0, 20686.0, 20178.0, 21209.0, 20706.0, 20197.0, 20717.0, 21230.0, 20212.0, 20217.0, 20734.0, 20743.0, 20236.0, 20752.0, 20252.0, 20765.0, 20781.0, 21043.0, 20276.0, 30174.0, 20792.0, 20282.0, 20106.0, 30176.0, 20813.0, 20308.0, 20833.0, 20331.0, 20852.0, 20855.0, 20347.0, 20062.0, 20364.0, 20881.0, 20634.0, 20895.0, 20391.0, 20907.0, 20405.0, 20921.0, 20926.0, 20415.0, 20423.0, 20944.0, 30171.0, 30172.0, 30173.0, 20446.0, 30175.0, 20960.0, 20971.0, 20465.0, 20982.0, 20478.0, 20565.0]), 'CGY': set([20480.0, 20608.0, 20502.0, 20487.0, 20872.0, 20745.0, 21002.0, 20311.0, 21192.0, 20238.0, 20973.0, 20624.0, 20243.0, 20758.0, 20376.0, 20121.0, 20847.0, 20509.0, 20421.0, 20896.0, 20545.0, 21119.0, 21147.0, 21156.0, 20773.0, 20447.0, 20401.0, 20136.0, 20009.0, 21034.0, 20652.0, 21106.0, 20911.0, 20528.0, 20273.0, 20018.0, 20665.0, 20282.0, 20063.0, 21064.0, 21054.0, 20735.0, 20128.0, 20034.0, 20803.0, 20165.0, 21130.0, 20146.0, 20936.0, 21177.0, 20682.0, 20704.0, 20046.0, 20815.0, 21011.0, 20563.0, 20436.0, 20302.0, 21078.0, 20951.0, 20185.0, 21210.0, 20922.0, 20575.0, 20832.0, 20961.0, 21091.0, 20324.0, 20646.0, 20198.0, 21228.0, 20589.0, 20719.0, 20384.0, 20338.0, 20467.0, 20213.0, 20856.0, 20692.0, 20223.0, 20988.0, 20095.0]), 'NYR': set([20994.0, 21001.0, 20738.0, 30222.0, 30223.0, 30224.0, 30225.0, 30226.0, 30227.0, 20502.0, 21016.0, 21031.0, 20522.0, 20013.0, 20535.0, 21051.0, 20036.0, 21061.0, 20551.0, 20554.0, 20044.0, 30221.0, 21073.0, 20057.0, 20570.0, 21090.0, 20070.0, 30311.0, 30312.0, 30313.0, 30314.0, 30315.0, 30316.0, 20591.0, 21106.0, 20158.0, 20600.0, 20094.0, 21124.0, 20623.0, 21137.0, 20116.0, 20629.0, 21151.0, 20644.0, 20934.0, 20141.0, 21166.0, 20658.0, 20669.0, 21182.0, 21194.0, 30411.0, 30412.0, 20173.0, 30414.0, 30413.0, 20688.0, 20697.0, 30415.0, 20189.0, 21214.0, 20176.0, 20710.0, 20205.0, 20723.0, 20215.0, 20226.0, 20235.0, 20748.0, 20760.0, 20257.0, 20265.0, 20784.0, 20806.0, 20295.0, 20305.0, 20819.0, 20317.0, 20331.0, 20845.0, 20857.0, 20348.0, 20868.0, 20358.0, 20372.0, 20888.0, 20380.0, 20392.0, 20916.0, 20406.0, 30141.0, 30142.0, 30143.0, 30144.0, 30145.0, 30146.0, 30147.0, 20422.0, 20948.0, 20444.0, 20451.0, 20965.0, 20463.0, 20904.0, 20978.0, 20473.0]), 'T.B': set([20992.0, 20907.0, 20492.0, 21007.0, 20500.0, 21023.0, 20512.0, 20007.0, 21038.0, 20529.0, 21045.0, 20026.0, 20543.0, 21056.0, 20041.0, 20066.0, 20559.0, 20052.0, 20578.0, 21096.0, 20591.0, 21110.0, 20088.0, 21120.0, 20611.0, 20102.0, 21135.0, 20624.0, 20114.0, 21147.0, 20641.0, 20651.0, 21165.0, 20143.0, 20663.0, 20159.0, 21184.0, 20675.0, 20167.0, 21198.0, 20179.0, 20693.0, 21207.0, 20697.0, 20193.0, 21223.0, 20713.0, 20202.0, 20724.0, 20737.0, 20237.0, 20248.0, 20762.0, 20262.0, 20778.0, 20268.0, 20279.0, 20796.0, 20300.0, 20825.0, 20321.0, 20335.0, 20851.0, 20340.0, 20862.0, 20358.0, 20877.0, 20371.0, 20381.0, 30121.0, 30122.0, 30123.0, 30124.0, 20893.0, 20917.0, 20413.0, 20928.0, 20812.0, 20426.0, 20941.0, 20442.0, 20956.0, 20970.0, 20459.0, 21076.0, 20476.0]), 'WPG': set([20873.0, 20227.0, 20054.0, 20161.0, 20489.0, 20510.0, 20823.0, 20108.0, 20930.0, 20638.0, 20367.0, 20242.0, 20755.0, 21178.0, 20506.0, 20124.0, 21021.0, 20894.0, 20357.0, 20768.0, 20144.0, 20259.0, 21163.0, 20626.0, 20135.0, 21210.0, 20906.0, 20651.0, 20780.0, 20270.0, 21040.0, 21127.0, 20786.0, 20019.0, 21150.0, 20406.0, 21001.0, 20538.0, 20383.0, 20033.0, 20802.0, 20427.0, 20292.0, 21062.0, 20679.0, 20552.0, 20169.0, 20939.0, 21138.0, 21202.0, 20003.0, 20564.0, 20181.0, 20694.0, 20311.0, 20953.0, 20442.0, 21077.0, 20615.0, 20573.0, 20062.0, 21101.0, 20859.0, 20836.0, 20199.0, 21024.0, 20330.0, 20972.0, 20077.0, 20846.0, 20719.0, 20464.0, 20593.0, 20307.0, 20725.0, 20342.0, 20216.0, 20986.0, 20091.0, 20604.0, 21118.0, 20479.0]), 'BUF': set([20096.0, 20353.0, 20779.0, 21071.0, 20487.0, 21129.0, 20746.0, 20365.0, 20239.0, 20112.0, 20568.0, 20882.0, 20628.0, 20791.0, 20759.0, 20294.0, 21018.0, 20225.0, 21149.0, 20510.0, 21173.0, 20898.0, 21180.0, 20388.0, 20005.0, 20263.0, 21212.0, 20138.0, 20523.0, 21225.0, 20015.0, 20660.0, 21034.0, 20553.0, 20152.0, 20025.0, 20284.0, 20541.0, 20799.0, 20921.0, 20617.0, 21099.0, 21110.0, 20422.0, 20041.0, 21194.0, 20171.0, 20685.0, 20941.0, 20816.0, 20049.0, 20707.0, 20950.0, 20439.0, 20312.0, 20826.0, 20699.0, 21083.0, 20189.0, 20396.0, 20069.0, 21008.0, 20475.0, 20964.0, 20837.0, 20328.0, 20585.0, 20458.0, 20647.0, 20976.0, 20081.0, 20083.0, 21155.0, 20853.0, 20726.0, 20201.0, 21047.0, 20244.0, 20159.0, 20604.0, 20861.0, 20990.0]), 'VAN': set([20096.0, 20224.0, 20611.0, 20403.0, 20486.0, 20844.0, 20363.0, 21013.0, 20034.0, 20014.0, 20240.0, 21137.0, 20498.0, 20931.0, 20885.0, 20537.0, 20378.0, 20123.0, 20637.0, 20766.0, 20997.0, 20720.0, 20130.0, 20900.0, 20261.0, 20518.0, 21041.0, 20392.0, 20110.0, 20140.0, 20654.0, 20808.0, 20915.0, 20788.0, 20254.0, 21023.0, 20793.0, 20283.0, 20030.0, 20416.0, 21100.0, 20674.0, 20875.0, 21089.0, 20552.0, 20043.0, 20642.0, 20175.0, 20944.0, 20531.0, 21219.0, 20308.0, 20437.0, 20153.0, 20056.0, 21169.0, 20186.0, 21071.0, 20823.0, 20709.0, 20320.0, 20961.0, 21179.0, 20453.0, 20754.0, 20456.0, 20073.0, 20839.0, 21228.0, 20589.0, 20974.0, 20208.0, 20339.0, 20084.0, 20598.0, 20695.0, 21204.0, 20986.0, 20860.0, 21117.0, 20350.0, 20735.0]), 'STL': set([20993.0, 20494.0, 21009.0, 20507.0, 21024.0, 20516.0, 20153.0, 20010.0, 21039.0, 20530.0, 20027.0, 21055.0, 20549.0, 21067.0, 20045.0, 20563.0, 21079.0, 20581.0, 20070.0, 21098.0, 20588.0, 20601.0, 21115.0, 20104.0, 20108.0, 21186.0, 21136.0, 20633.0, 21149.0, 21161.0, 20653.0, 21174.0, 20665.0, 20674.0, 20163.0, 21201.0, 20181.0, 20089.0, 21209.0, 20703.0, 20195.0, 21224.0, 20202.0, 20715.0, 20731.0, 20220.0, 20742.0, 20747.0, 20238.0, 20760.0, 20251.0, 20775.0, 20272.0, 20616.0, 20281.0, 20801.0, 20298.0, 20304.0, 20820.0, 20312.0, 20830.0, 20326.0, 20850.0, 20347.0, 20864.0, 20360.0, 20873.0, 20885.0, 20375.0, 20385.0, 20901.0, 20918.0, 20409.0, 20928.0, 20428.0, 20943.0, 30161.0, 30162.0, 30163.0, 30164.0, 30165.0, 30166.0, 20954.0, 20445.0, 20966.0, 20464.0, 20982.0, 20477.0]), 'CHI': set([21000.0, 20490.0, 20503.0, 30232.0, 30233.0, 30234.0, 30235.0, 21020.0, 20002.0, 20517.0, 21033.0, 21039.0, 20537.0, 20026.0, 21052.0, 21069.0, 20561.0, 20572.0, 20061.0, 21086.0, 20581.0, 21092.0, 20069.0, 21104.0, 30321.0, 30322.0, 30323.0, 20596.0, 30325.0, 20086.0, 30327.0, 20927.0, 20330.0, 21122.0, 20613.0, 20104.0, 30231.0, 20622.0, 20119.0, 21148.0, 20640.0, 21154.0, 20133.0, 20764.0, 20143.0, 20658.0, 21174.0, 30324.0, 20162.0, 20676.0, 30326.0, 21190.0, 20174.0, 20689.0, 20180.0, 20942.0, 20702.0, 21217.0, 20199.0, 20722.0, 30163.0, 20213.0, 30236.0, 21205.0, 20736.0, 20227.0, 20757.0, 20252.0, 20258.0, 20786.0, 20280.0, 20803.0, 20808.0, 20299.0, 20306.0, 20452.0, 20318.0, 20834.0, 20842.0, 20854.0, 20350.0, 20870.0, 20362.0, 20888.0, 20376.0, 20391.0, 20910.0, 20399.0, 20415.0, 20430.0, 20045.0, 30161.0, 30162.0, 20435.0, 30164.0, 30165.0, 30166.0, 20964.0, 20465.0, 20471.0, 20987.0]), 'S.J': set([20483.0, 20996.0, 20566.0, 20495.0, 21016.0, 20516.0, 21037.0, 20014.0, 20533.0, 21050.0, 20031.0, 20576.0, 20550.0, 21065.0, 20044.0, 21078.0, 20056.0, 21088.0, 20074.0, 21101.0, 20594.0, 21109.0, 20089.0, 20607.0, 20106.0, 20621.0, 21139.0, 20121.0, 20126.0, 21152.0, 20650.0, 20139.0, 21170.0, 20668.0, 20157.0, 20166.0, 21193.0, 20684.0, 20698.0, 20187.0, 21218.0, 20714.0, 20211.0, 20724.0, 20225.0, 20745.0, 20240.0, 20768.0, 20259.0, 20783.0, 20273.0, 20794.0, 20283.0, 21211.0, 20293.0, 20807.0, 20815.0, 20306.0, 20834.0, 20843.0, 20335.0, 20627.0, 20855.0, 20352.0, 20871.0, 20377.0, 20889.0, 20385.0, 20898.0, 20913.0, 20402.0, 20410.0, 20640.0, 20933.0, 20424.0, 20433.0, 20947.0, 20449.0, 20962.0, 30181.0, 30182.0, 30183.0, 30184.0, 30185.0, 30186.0, 30187.0, 20469.0, 20984.0, 20991.0]), 'MTL': set([30211.0, 30212.0, 30213.0, 30214.0, 30215.0, 30216.0, 30217.0, 20493.0, 21006.0, 20501.0, 21018.0, 20001.0, 21030.0, 20530.0, 21044.0, 20023.0, 21060.0, 20046.0, 21075.0, 20055.0, 21083.0, 20578.0, 30311.0, 30312.0, 20073.0, 20586.0, 30315.0, 30316.0, 30313.0, 21112.0, 20603.0, 30314.0, 20100.0, 20618.0, 21135.0, 20113.0, 20630.0, 21153.0, 20132.0, 20645.0, 21095.0, 21164.0, 20142.0, 20657.0, 20425.0, 20157.0, 20676.0, 21190.0, 20513.0, 21196.0, 20173.0, 20178.0, 20700.0, 21214.0, 20091.0, 20196.0, 20712.0, 20209.0, 20727.0, 20220.0, 20231.0, 20756.0, 20255.0, 20771.0, 20777.0, 20268.0, 20288.0, 20295.0, 20809.0, 20825.0, 20315.0, 20836.0, 20847.0, 20337.0, 20344.0, 20860.0, 20800.0, 20876.0, 20365.0, 20883.0, 20548.0, 20890.0, 20386.0, 30121.0, 20394.0, 30123.0, 30124.0, 20909.0, 20407.0, 20923.0, 20419.0, 20937.0, 20945.0, 20439.0, 20962.0, 20461.0, 20985.0, 20474.0, 30122.0]), 'PHI': set([21005.0, 20499.0, 21019.0, 20515.0, 20004.0, 21033.0, 20525.0, 21043.0, 20023.0, 21055.0, 20032.0, 20547.0, 20039.0, 20560.0, 21074.0, 20058.0, 20065.0, 21090.0, 20584.0, 21102.0, 20084.0, 20598.0, 20608.0, 21121.0, 20099.0, 20619.0, 21136.0, 21145.0, 20636.0, 21160.0, 20649.0, 20141.0, 20657.0, 21173.0, 20160.0, 21185.0, 20675.0, 20346.0, 21198.0, 20688.0, 20177.0, 20699.0, 21213.0, 20191.0, 21222.0, 20711.0, 20203.0, 20729.0, 20222.0, 20740.0, 20232.0, 20749.0, 20245.0, 20761.0, 20776.0, 20269.0, 20275.0, 20797.0, 20292.0, 20817.0, 20314.0, 20827.0, 20328.0, 20843.0, 20858.0, 20359.0, 20872.0, 20371.0, 20889.0, 20383.0, 20904.0, 20398.0, 20912.0, 20408.0, 30141.0, 30142.0, 30143.0, 30144.0, 30145.0, 30146.0, 30147.0, 20420.0, 20935.0, 20955.0, 20446.0, 20454.0, 20977.0, 20471.0, 20474.0]), 'ANA': set([21003.0, 21012.0, 20504.0, 30241.0, 20514.0, 30243.0, 30244.0, 30245.0, 20006.0, 30247.0, 30246.0, 21036.0, 20534.0, 21050.0, 20029.0, 20544.0, 20033.0, 20555.0, 21072.0, 21176.0, 20057.0, 21091.0, 20583.0, 20078.0, 20594.0, 21107.0, 21117.0, 20095.0, 21127.0, 20109.0, 20625.0, 21142.0, 20125.0, 20129.0, 20642.0, 21159.0, 20142.0, 20655.0, 21193.0, 20664.0, 21179.0, 20168.0, 20681.0, 30242.0, 20177.0, 20691.0, 20188.0, 21220.0, 20709.0, 20201.0, 21229.0, 20722.0, 20215.0, 20731.0, 20229.0, 20755.0, 20244.0, 20767.0, 20261.0, 20782.0, 20271.0, 20279.0, 20287.0, 20805.0, 20817.0, 20310.0, 20833.0, 20325.0, 20841.0, 20607.0, 20340.0, 20854.0, 20349.0, 20364.0, 20880.0, 30173.0, 20384.0, 20901.0, 20402.0, 20919.0, 20418.0, 20937.0, 20435.0, 20952.0, 30171.0, 30172.0, 20445.0, 30174.0, 30175.0, 30176.0, 20457.0, 20151.0, 20975.0, 20472.0, 20988.0]), 'CBJ': set([20494.0, 21010.0, 20506.0, 21029.0, 20525.0, 20018.0, 21044.0, 20024.0, 21051.0, 20547.0, 21066.0, 20556.0, 20920.0, 20569.0, 21085.0, 20068.0, 20587.0, 21103.0, 20087.0, 21114.0, 21183.0, 20606.0, 20100.0, 20620.0, 21134.0, 20118.0, 21145.0, 20123.0, 21154.0, 20131.0, 20644.0, 21172.0, 20150.0, 20671.0, 20679.0, 20168.0, 20693.0, 21207.0, 21216.0, 20207.0, 20721.0, 20726.0, 20219.0, 20235.0, 20751.0, 20761.0, 20250.0, 20266.0, 20779.0, 20277.0, 20790.0, 20798.0, 20288.0, 20192.0, 20811.0, 20303.0, 20829.0, 20319.0, 20324.0, 20841.0, 20339.0, 20866.0, 20356.0, 20871.0, 20369.0, 20886.0, 20633.0, 20390.0, 20905.0, 30131.0, 30132.0, 30133.0, 30134.0, 30135.0, 30136.0, 20413.0, 20926.0, 20942.0, 20434.0, 20959.0, 20455.0, 20971.0, 20460.0, 20979.0, 20049.0, 20393.0, 20473.0, 20991.0]), 'PIT': set([20484.0, 20491.0, 30221.0, 30222.0, 30223.0, 30224.0, 30225.0, 30226.0, 30227.0, 20505.0, 21019.0, 21028.0, 20008.0, 20522.0, 20526.0, 21046.0, 20025.0, 30133.0, 21056.0, 20545.0, 20040.0, 21067.0, 20557.0, 21005.0, 21080.0, 20571.0, 20060.0, 20066.0, 21094.0, 20587.0, 21103.0, 20085.0, 20599.0, 21122.0, 20099.0, 21132.0, 20110.0, 20623.0, 20638.0, 20127.0, 20763.0, 20654.0, 21168.0, 20149.0, 21175.0, 20156.0, 20673.0, 21191.0, 20682.0, 20172.0, 20184.0, 21213.0, 20192.0, 20708.0, 21226.0, 20207.0, 20226.0, 20741.0, 20756.0, 20251.0, 20781.0, 20275.0, 20791.0, 20286.0, 20296.0, 20818.0, 20310.0, 20831.0, 20323.0, 20838.0, 20336.0, 20853.0, 20344.0, 20355.0, 20868.0, 20373.0, 20890.0, 20381.0, 20395.0, 20910.0, 30131.0, 30132.0, 21150.0, 30134.0, 30135.0, 30136.0, 20411.0, 20929.0, 20424.0, 20947.0, 20438.0, 20952.0, 20455.0, 20968.0, 20981.0]), 'CAR': set([20480.0, 20737.0, 20354.0, 21125.0, 20869.0, 20614.0, 20097.0, 20234.0, 20759.0, 20876.0, 20749.0, 20366.0, 20590.0, 20496.0, 20117.0, 21015.0, 20632.0, 20249.0, 21146.0, 21132.0, 20647.0, 20639.0, 20770.0, 20059.0, 20389.0, 20145.0, 20933.0, 20267.0, 20908.0, 20919.0, 21167.0, 21004.0, 20017.0, 20403.0, 20662.0, 20341.0, 20536.0, 20154.0, 20895.0, 20412.0, 21182.0, 20287.0, 20032.0, 20790.0, 21062.0, 20040.0, 20172.0, 20298.0, 21195.0, 20556.0, 20429.0, 20433.0, 20050.0, 20692.0, 20309.0, 21206.0, 20543.0, 21082.0, 20571.0, 21114.0, 21029.0, 20193.0, 20800.0, 21222.0, 21097.0, 20456.0, 20329.0, 20075.0, 20948.0, 20205.0, 20846.0, 21052.0, 20978.0, 20468.0, 20990.0, 20086.0, 20957.0, 20820.0, 20730.0, 20603.0, 20671.0, 20222.0]), 'EDM': set([20609.0, 20482.0, 20867.0, 21124.0, 20486.0, 20673.0, 20787.0, 20362.0, 20098.0, 20111.0, 20621.0, 20625.0, 20754.0, 21139.0, 20245.0, 21142.0, 21015.0, 20504.0, 20164.0, 20379.0, 20549.0, 20641.0, 20258.0, 20003.0, 20132.0, 20998.0, 20774.0, 20237.0, 20575.0, 21035.0, 20653.0, 20911.0, 20532.0, 21189.0, 20147.0, 20276.0, 20405.0, 21047.0, 21176.0, 20064.0, 20319.0, 20793.0, 20030.0, 20725.0, 20417.0, 20035.0, 20932.0, 20293.0, 20807.0, 21064.0, 20520.0, 20170.0, 20302.0, 20431.0, 20857.0, 20689.0, 20946.0, 21203.0, 20564.0, 20182.0, 20055.0, 20824.0, 20447.0, 21088.0, 21158.0, 20706.0, 21219.0, 20390.0, 20967.0, 20584.0, 20716.0, 20333.0, 20080.0, 20897.0, 20210.0, 21107.0, 20468.0, 20085.0, 20983.0, 20837.0, 20221.0, 20993.0]), 'ARI': set([20224.0, 20481.0, 21073.0, 20229.0, 20870.0, 20609.0, 20744.0, 20361.0, 20620.0, 20109.0, 20280.0, 20496.0, 20881.0, 21138.0, 21011.0, 20374.0, 21143.0, 20120.0, 20804.0, 20636.0, 20253.0, 20894.0, 20524.0, 20513.0, 20758.0, 20899.0, 21158.0, 20136.0, 20652.0, 20013.0, 20703.0, 20399.0, 20272.0, 20733.0, 20148.0, 20958.0, 20918.0, 20553.0, 21048.0, 20788.0, 20666.0, 20539.0, 20989.0, 20031.0, 21093.0, 20417.0, 20931.0, 20164.0, 20421.0, 20038.0, 21063.0, 20681.0, 20300.0, 20816.0, 20945.0, 20051.0, 20437.0, 20694.0, 20183.0, 21080.0, 20058.0, 20190.0, 20831.0, 20576.0, 21200.0, 21218.0, 20774.0, 20583.0, 20970.0, 20075.0, 20332.0, 21230.0, 20093.0, 20720.0, 20466.0, 20211.0, 20852.0, 21025.0, 20980.0, 21183.0, 21116.0, 20349.0]), 'OTT': set([20354.0, 20101.0, 20231.0, 20488.0, 21226.0, 20874.0, 20567.0, 20915.0, 20750.0, 20111.0, 20368.0, 21140.0, 21166.0, 20246.0, 21017.0, 20378.0, 20507.0, 20762.0, 20630.0, 21125.0, 21153.0, 21197.0, 20891.0, 20678.0, 21031.0, 20137.0, 20615.0, 20269.0, 20659.0, 20527.0, 20723.0, 20404.0, 21045.0, 20022.0, 20151.0, 20539.0, 21181.0, 20414.0, 20289.0, 21058.0, 20932.0, 21076.0, 20166.0, 20705.0, 20936.0, 20426.0, 20812.0, 20557.0, 20303.0, 20180.0, 21006.0, 20345.0, 20440.0, 20953.0, 20314.0, 20047.0, 20828.0, 21215.0, 21084.0, 20577.0, 20194.0, 20219.0, 20838.0, 20454.0, 20712.0, 20969.0, 20074.0, 20093.0, 20850.0, 20078.0, 20861.0, 21104.0, 20458.0, 20770.0, 20595.0, 20212.0, 20798.0, 20521.0, 20015.0, 20475.0, 20322.0, 21119.0])}\n"
     ]
    }
   ],
   "source": [
    "print gamesid_for_team"
   ]
  },
  {
   "cell_type": "code",
   "execution_count": 42,
   "metadata": {
    "collapsed": true
   },
   "outputs": [],
   "source": [
    "keys_of_data_Games = data2013_2014_useful.groupby(['Game.ID']).groups.keys()"
   ]
  },
  {
   "cell_type": "code",
   "execution_count": 43,
   "metadata": {
    "collapsed": false
   },
   "outputs": [],
   "source": [
    "keys_of_data_Games.sort()"
   ]
  },
  {
   "cell_type": "code",
   "execution_count": 44,
   "metadata": {
    "collapsed": false,
    "scrolled": true
   },
   "outputs": [
    {
     "data": {
      "text/plain": [
       "[20001.0,\n",
       " 20002.0,\n",
       " 20003.0,\n",
       " 20004.0,\n",
       " 20005.0,\n",
       " 20006.0,\n",
       " 20007.0,\n",
       " 20008.0,\n",
       " 20009.0,\n",
       " 20010.0,\n",
       " 20011.0,\n",
       " 20012.0,\n",
       " 20013.0,\n",
       " 20014.0,\n",
       " 20015.0,\n",
       " 20016.0,\n",
       " 20017.0,\n",
       " 20018.0,\n",
       " 20019.0,\n",
       " 20020.0,\n",
       " 20021.0,\n",
       " 20022.0,\n",
       " 20023.0,\n",
       " 20024.0,\n",
       " 20025.0,\n",
       " 20026.0,\n",
       " 20027.0,\n",
       " 20028.0,\n",
       " 20029.0,\n",
       " 20030.0,\n",
       " 20031.0,\n",
       " 20032.0,\n",
       " 20033.0,\n",
       " 20034.0,\n",
       " 20035.0,\n",
       " 20036.0,\n",
       " 20037.0,\n",
       " 20038.0,\n",
       " 20039.0,\n",
       " 20040.0,\n",
       " 20041.0,\n",
       " 20042.0,\n",
       " 20043.0,\n",
       " 20044.0,\n",
       " 20045.0,\n",
       " 20046.0,\n",
       " 20047.0,\n",
       " 20048.0,\n",
       " 20049.0,\n",
       " 20050.0,\n",
       " 20051.0,\n",
       " 20052.0,\n",
       " 20053.0,\n",
       " 20054.0,\n",
       " 20055.0,\n",
       " 20056.0,\n",
       " 20057.0,\n",
       " 20058.0,\n",
       " 20059.0,\n",
       " 20060.0,\n",
       " 20061.0,\n",
       " 20062.0,\n",
       " 20063.0,\n",
       " 20064.0,\n",
       " 20065.0,\n",
       " 20066.0,\n",
       " 20067.0,\n",
       " 20068.0,\n",
       " 20069.0,\n",
       " 20070.0,\n",
       " 20071.0,\n",
       " 20072.0,\n",
       " 20073.0,\n",
       " 20074.0,\n",
       " 20075.0,\n",
       " 20076.0,\n",
       " 20077.0,\n",
       " 20078.0,\n",
       " 20079.0,\n",
       " 20080.0,\n",
       " 20081.0,\n",
       " 20082.0,\n",
       " 20083.0,\n",
       " 20084.0,\n",
       " 20085.0,\n",
       " 20086.0,\n",
       " 20087.0,\n",
       " 20088.0,\n",
       " 20089.0,\n",
       " 20090.0,\n",
       " 20091.0,\n",
       " 20092.0,\n",
       " 20093.0,\n",
       " 20094.0,\n",
       " 20095.0,\n",
       " 20096.0,\n",
       " 20097.0,\n",
       " 20098.0,\n",
       " 20099.0,\n",
       " 20100.0,\n",
       " 20101.0,\n",
       " 20102.0,\n",
       " 20103.0,\n",
       " 20104.0,\n",
       " 20105.0,\n",
       " 20106.0,\n",
       " 20107.0,\n",
       " 20108.0,\n",
       " 20109.0,\n",
       " 20110.0,\n",
       " 20111.0,\n",
       " 20112.0,\n",
       " 20113.0,\n",
       " 20114.0,\n",
       " 20115.0,\n",
       " 20116.0,\n",
       " 20117.0,\n",
       " 20118.0,\n",
       " 20119.0,\n",
       " 20120.0,\n",
       " 20121.0,\n",
       " 20122.0,\n",
       " 20123.0,\n",
       " 20124.0,\n",
       " 20125.0,\n",
       " 20126.0,\n",
       " 20127.0,\n",
       " 20128.0,\n",
       " 20129.0,\n",
       " 20130.0,\n",
       " 20131.0,\n",
       " 20132.0,\n",
       " 20133.0,\n",
       " 20134.0,\n",
       " 20135.0,\n",
       " 20136.0,\n",
       " 20137.0,\n",
       " 20138.0,\n",
       " 20139.0,\n",
       " 20140.0,\n",
       " 20141.0,\n",
       " 20142.0,\n",
       " 20143.0,\n",
       " 20144.0,\n",
       " 20145.0,\n",
       " 20146.0,\n",
       " 20147.0,\n",
       " 20148.0,\n",
       " 20149.0,\n",
       " 20150.0,\n",
       " 20151.0,\n",
       " 20152.0,\n",
       " 20153.0,\n",
       " 20154.0,\n",
       " 20155.0,\n",
       " 20156.0,\n",
       " 20157.0,\n",
       " 20158.0,\n",
       " 20159.0,\n",
       " 20160.0,\n",
       " 20161.0,\n",
       " 20162.0,\n",
       " 20163.0,\n",
       " 20164.0,\n",
       " 20165.0,\n",
       " 20166.0,\n",
       " 20167.0,\n",
       " 20168.0,\n",
       " 20169.0,\n",
       " 20170.0,\n",
       " 20171.0,\n",
       " 20172.0,\n",
       " 20173.0,\n",
       " 20174.0,\n",
       " 20175.0,\n",
       " 20176.0,\n",
       " 20177.0,\n",
       " 20178.0,\n",
       " 20179.0,\n",
       " 20180.0,\n",
       " 20181.0,\n",
       " 20182.0,\n",
       " 20183.0,\n",
       " 20184.0,\n",
       " 20185.0,\n",
       " 20186.0,\n",
       " 20187.0,\n",
       " 20188.0,\n",
       " 20189.0,\n",
       " 20190.0,\n",
       " 20191.0,\n",
       " 20192.0,\n",
       " 20193.0,\n",
       " 20194.0,\n",
       " 20195.0,\n",
       " 20196.0,\n",
       " 20197.0,\n",
       " 20198.0,\n",
       " 20199.0,\n",
       " 20200.0,\n",
       " 20201.0,\n",
       " 20202.0,\n",
       " 20203.0,\n",
       " 20204.0,\n",
       " 20205.0,\n",
       " 20206.0,\n",
       " 20207.0,\n",
       " 20208.0,\n",
       " 20209.0,\n",
       " 20210.0,\n",
       " 20211.0,\n",
       " 20212.0,\n",
       " 20213.0,\n",
       " 20214.0,\n",
       " 20215.0,\n",
       " 20216.0,\n",
       " 20217.0,\n",
       " 20218.0,\n",
       " 20219.0,\n",
       " 20220.0,\n",
       " 20221.0,\n",
       " 20222.0,\n",
       " 20223.0,\n",
       " 20224.0,\n",
       " 20225.0,\n",
       " 20226.0,\n",
       " 20227.0,\n",
       " 20228.0,\n",
       " 20229.0,\n",
       " 20230.0,\n",
       " 20231.0,\n",
       " 20232.0,\n",
       " 20233.0,\n",
       " 20234.0,\n",
       " 20235.0,\n",
       " 20236.0,\n",
       " 20237.0,\n",
       " 20238.0,\n",
       " 20239.0,\n",
       " 20240.0,\n",
       " 20241.0,\n",
       " 20242.0,\n",
       " 20243.0,\n",
       " 20244.0,\n",
       " 20245.0,\n",
       " 20246.0,\n",
       " 20247.0,\n",
       " 20248.0,\n",
       " 20249.0,\n",
       " 20250.0,\n",
       " 20251.0,\n",
       " 20252.0,\n",
       " 20253.0,\n",
       " 20254.0,\n",
       " 20255.0,\n",
       " 20256.0,\n",
       " 20257.0,\n",
       " 20258.0,\n",
       " 20259.0,\n",
       " 20260.0,\n",
       " 20261.0,\n",
       " 20262.0,\n",
       " 20263.0,\n",
       " 20264.0,\n",
       " 20265.0,\n",
       " 20266.0,\n",
       " 20267.0,\n",
       " 20268.0,\n",
       " 20269.0,\n",
       " 20270.0,\n",
       " 20271.0,\n",
       " 20272.0,\n",
       " 20273.0,\n",
       " 20274.0,\n",
       " 20275.0,\n",
       " 20276.0,\n",
       " 20277.0,\n",
       " 20278.0,\n",
       " 20279.0,\n",
       " 20280.0,\n",
       " 20281.0,\n",
       " 20282.0,\n",
       " 20283.0,\n",
       " 20284.0,\n",
       " 20285.0,\n",
       " 20286.0,\n",
       " 20287.0,\n",
       " 20288.0,\n",
       " 20289.0,\n",
       " 20290.0,\n",
       " 20291.0,\n",
       " 20292.0,\n",
       " 20293.0,\n",
       " 20294.0,\n",
       " 20295.0,\n",
       " 20296.0,\n",
       " 20297.0,\n",
       " 20298.0,\n",
       " 20299.0,\n",
       " 20300.0,\n",
       " 20301.0,\n",
       " 20302.0,\n",
       " 20303.0,\n",
       " 20304.0,\n",
       " 20305.0,\n",
       " 20306.0,\n",
       " 20307.0,\n",
       " 20308.0,\n",
       " 20309.0,\n",
       " 20310.0,\n",
       " 20311.0,\n",
       " 20312.0,\n",
       " 20313.0,\n",
       " 20314.0,\n",
       " 20315.0,\n",
       " 20316.0,\n",
       " 20317.0,\n",
       " 20318.0,\n",
       " 20319.0,\n",
       " 20320.0,\n",
       " 20321.0,\n",
       " 20322.0,\n",
       " 20323.0,\n",
       " 20324.0,\n",
       " 20325.0,\n",
       " 20326.0,\n",
       " 20327.0,\n",
       " 20328.0,\n",
       " 20329.0,\n",
       " 20330.0,\n",
       " 20331.0,\n",
       " 20332.0,\n",
       " 20333.0,\n",
       " 20334.0,\n",
       " 20335.0,\n",
       " 20336.0,\n",
       " 20337.0,\n",
       " 20338.0,\n",
       " 20339.0,\n",
       " 20340.0,\n",
       " 20341.0,\n",
       " 20342.0,\n",
       " 20343.0,\n",
       " 20344.0,\n",
       " 20345.0,\n",
       " 20346.0,\n",
       " 20347.0,\n",
       " 20348.0,\n",
       " 20349.0,\n",
       " 20350.0,\n",
       " 20351.0,\n",
       " 20352.0,\n",
       " 20353.0,\n",
       " 20354.0,\n",
       " 20355.0,\n",
       " 20356.0,\n",
       " 20357.0,\n",
       " 20358.0,\n",
       " 20359.0,\n",
       " 20360.0,\n",
       " 20361.0,\n",
       " 20362.0,\n",
       " 20363.0,\n",
       " 20364.0,\n",
       " 20365.0,\n",
       " 20366.0,\n",
       " 20367.0,\n",
       " 20368.0,\n",
       " 20369.0,\n",
       " 20370.0,\n",
       " 20371.0,\n",
       " 20372.0,\n",
       " 20373.0,\n",
       " 20374.0,\n",
       " 20375.0,\n",
       " 20376.0,\n",
       " 20377.0,\n",
       " 20378.0,\n",
       " 20379.0,\n",
       " 20380.0,\n",
       " 20381.0,\n",
       " 20382.0,\n",
       " 20383.0,\n",
       " 20384.0,\n",
       " 20385.0,\n",
       " 20386.0,\n",
       " 20387.0,\n",
       " 20388.0,\n",
       " 20389.0,\n",
       " 20390.0,\n",
       " 20391.0,\n",
       " 20392.0,\n",
       " 20393.0,\n",
       " 20394.0,\n",
       " 20395.0,\n",
       " 20396.0,\n",
       " 20397.0,\n",
       " 20398.0,\n",
       " 20399.0,\n",
       " 20400.0,\n",
       " 20401.0,\n",
       " 20402.0,\n",
       " 20403.0,\n",
       " 20404.0,\n",
       " 20405.0,\n",
       " 20406.0,\n",
       " 20407.0,\n",
       " 20408.0,\n",
       " 20409.0,\n",
       " 20410.0,\n",
       " 20411.0,\n",
       " 20412.0,\n",
       " 20413.0,\n",
       " 20414.0,\n",
       " 20415.0,\n",
       " 20416.0,\n",
       " 20417.0,\n",
       " 20418.0,\n",
       " 20419.0,\n",
       " 20420.0,\n",
       " 20421.0,\n",
       " 20422.0,\n",
       " 20423.0,\n",
       " 20424.0,\n",
       " 20425.0,\n",
       " 20426.0,\n",
       " 20427.0,\n",
       " 20428.0,\n",
       " 20429.0,\n",
       " 20430.0,\n",
       " 20431.0,\n",
       " 20432.0,\n",
       " 20433.0,\n",
       " 20434.0,\n",
       " 20435.0,\n",
       " 20436.0,\n",
       " 20437.0,\n",
       " 20438.0,\n",
       " 20439.0,\n",
       " 20440.0,\n",
       " 20441.0,\n",
       " 20442.0,\n",
       " 20443.0,\n",
       " 20444.0,\n",
       " 20445.0,\n",
       " 20446.0,\n",
       " 20447.0,\n",
       " 20448.0,\n",
       " 20449.0,\n",
       " 20450.0,\n",
       " 20451.0,\n",
       " 20452.0,\n",
       " 20453.0,\n",
       " 20454.0,\n",
       " 20455.0,\n",
       " 20456.0,\n",
       " 20457.0,\n",
       " 20458.0,\n",
       " 20459.0,\n",
       " 20460.0,\n",
       " 20461.0,\n",
       " 20462.0,\n",
       " 20463.0,\n",
       " 20464.0,\n",
       " 20465.0,\n",
       " 20466.0,\n",
       " 20467.0,\n",
       " 20468.0,\n",
       " 20469.0,\n",
       " 20470.0,\n",
       " 20471.0,\n",
       " 20472.0,\n",
       " 20473.0,\n",
       " 20474.0,\n",
       " 20475.0,\n",
       " 20476.0,\n",
       " 20477.0,\n",
       " 20478.0,\n",
       " 20479.0,\n",
       " 20480.0,\n",
       " 20481.0,\n",
       " 20482.0,\n",
       " 20483.0,\n",
       " 20484.0,\n",
       " 20485.0,\n",
       " 20486.0,\n",
       " 20487.0,\n",
       " 20488.0,\n",
       " 20489.0,\n",
       " 20490.0,\n",
       " 20491.0,\n",
       " 20492.0,\n",
       " 20493.0,\n",
       " 20494.0,\n",
       " 20495.0,\n",
       " 20496.0,\n",
       " 20497.0,\n",
       " 20498.0,\n",
       " 20499.0,\n",
       " 20500.0,\n",
       " 20501.0,\n",
       " 20502.0,\n",
       " 20503.0,\n",
       " 20504.0,\n",
       " 20505.0,\n",
       " 20506.0,\n",
       " 20507.0,\n",
       " 20508.0,\n",
       " 20509.0,\n",
       " 20510.0,\n",
       " 20511.0,\n",
       " 20512.0,\n",
       " 20513.0,\n",
       " 20514.0,\n",
       " 20515.0,\n",
       " 20516.0,\n",
       " 20517.0,\n",
       " 20518.0,\n",
       " 20519.0,\n",
       " 20520.0,\n",
       " 20521.0,\n",
       " 20522.0,\n",
       " 20523.0,\n",
       " 20524.0,\n",
       " 20525.0,\n",
       " 20526.0,\n",
       " 20527.0,\n",
       " 20528.0,\n",
       " 20529.0,\n",
       " 20530.0,\n",
       " 20531.0,\n",
       " 20532.0,\n",
       " 20533.0,\n",
       " 20534.0,\n",
       " 20535.0,\n",
       " 20536.0,\n",
       " 20537.0,\n",
       " 20538.0,\n",
       " 20539.0,\n",
       " 20540.0,\n",
       " 20541.0,\n",
       " 20542.0,\n",
       " 20543.0,\n",
       " 20544.0,\n",
       " 20545.0,\n",
       " 20546.0,\n",
       " 20547.0,\n",
       " 20548.0,\n",
       " 20549.0,\n",
       " 20550.0,\n",
       " 20551.0,\n",
       " 20552.0,\n",
       " 20553.0,\n",
       " 20554.0,\n",
       " 20555.0,\n",
       " 20556.0,\n",
       " 20557.0,\n",
       " 20558.0,\n",
       " 20559.0,\n",
       " 20560.0,\n",
       " 20561.0,\n",
       " 20562.0,\n",
       " 20563.0,\n",
       " 20564.0,\n",
       " 20565.0,\n",
       " 20566.0,\n",
       " 20567.0,\n",
       " 20568.0,\n",
       " 20569.0,\n",
       " 20570.0,\n",
       " 20571.0,\n",
       " 20572.0,\n",
       " 20573.0,\n",
       " 20574.0,\n",
       " 20575.0,\n",
       " 20576.0,\n",
       " 20577.0,\n",
       " 20578.0,\n",
       " 20579.0,\n",
       " 20580.0,\n",
       " 20581.0,\n",
       " 20582.0,\n",
       " 20583.0,\n",
       " 20584.0,\n",
       " 20585.0,\n",
       " 20586.0,\n",
       " 20587.0,\n",
       " 20588.0,\n",
       " 20589.0,\n",
       " 20590.0,\n",
       " 20591.0,\n",
       " 20592.0,\n",
       " 20593.0,\n",
       " 20594.0,\n",
       " 20595.0,\n",
       " 20596.0,\n",
       " 20597.0,\n",
       " 20598.0,\n",
       " 20599.0,\n",
       " 20600.0,\n",
       " 20601.0,\n",
       " 20602.0,\n",
       " 20603.0,\n",
       " 20604.0,\n",
       " 20605.0,\n",
       " 20606.0,\n",
       " 20607.0,\n",
       " 20608.0,\n",
       " 20609.0,\n",
       " 20610.0,\n",
       " 20611.0,\n",
       " 20612.0,\n",
       " 20613.0,\n",
       " 20614.0,\n",
       " 20615.0,\n",
       " 20616.0,\n",
       " 20617.0,\n",
       " 20618.0,\n",
       " 20619.0,\n",
       " 20620.0,\n",
       " 20621.0,\n",
       " 20622.0,\n",
       " 20623.0,\n",
       " 20624.0,\n",
       " 20625.0,\n",
       " 20626.0,\n",
       " 20627.0,\n",
       " 20628.0,\n",
       " 20629.0,\n",
       " 20630.0,\n",
       " 20631.0,\n",
       " 20632.0,\n",
       " 20633.0,\n",
       " 20634.0,\n",
       " 20635.0,\n",
       " 20636.0,\n",
       " 20637.0,\n",
       " 20638.0,\n",
       " 20639.0,\n",
       " 20640.0,\n",
       " 20641.0,\n",
       " 20642.0,\n",
       " 20643.0,\n",
       " 20644.0,\n",
       " 20645.0,\n",
       " 20646.0,\n",
       " 20647.0,\n",
       " 20648.0,\n",
       " 20649.0,\n",
       " 20650.0,\n",
       " 20651.0,\n",
       " 20652.0,\n",
       " 20653.0,\n",
       " 20654.0,\n",
       " 20655.0,\n",
       " 20656.0,\n",
       " 20657.0,\n",
       " 20658.0,\n",
       " 20659.0,\n",
       " 20660.0,\n",
       " 20661.0,\n",
       " 20662.0,\n",
       " 20663.0,\n",
       " 20664.0,\n",
       " 20665.0,\n",
       " 20666.0,\n",
       " 20667.0,\n",
       " 20668.0,\n",
       " 20669.0,\n",
       " 20670.0,\n",
       " 20671.0,\n",
       " 20672.0,\n",
       " 20673.0,\n",
       " 20674.0,\n",
       " 20675.0,\n",
       " 20676.0,\n",
       " 20677.0,\n",
       " 20678.0,\n",
       " 20679.0,\n",
       " 20680.0,\n",
       " 20681.0,\n",
       " 20682.0,\n",
       " 20683.0,\n",
       " 20684.0,\n",
       " 20685.0,\n",
       " 20686.0,\n",
       " 20687.0,\n",
       " 20688.0,\n",
       " 20689.0,\n",
       " 20690.0,\n",
       " 20691.0,\n",
       " 20692.0,\n",
       " 20693.0,\n",
       " 20694.0,\n",
       " 20695.0,\n",
       " 20696.0,\n",
       " 20697.0,\n",
       " 20698.0,\n",
       " 20699.0,\n",
       " 20700.0,\n",
       " 20701.0,\n",
       " 20702.0,\n",
       " 20703.0,\n",
       " 20704.0,\n",
       " 20705.0,\n",
       " 20706.0,\n",
       " 20707.0,\n",
       " 20708.0,\n",
       " 20709.0,\n",
       " 20710.0,\n",
       " 20711.0,\n",
       " 20712.0,\n",
       " 20713.0,\n",
       " 20714.0,\n",
       " 20715.0,\n",
       " 20716.0,\n",
       " 20717.0,\n",
       " 20718.0,\n",
       " 20719.0,\n",
       " 20720.0,\n",
       " 20721.0,\n",
       " 20722.0,\n",
       " 20723.0,\n",
       " 20724.0,\n",
       " 20725.0,\n",
       " 20726.0,\n",
       " 20727.0,\n",
       " 20728.0,\n",
       " 20729.0,\n",
       " 20730.0,\n",
       " 20731.0,\n",
       " 20732.0,\n",
       " 20733.0,\n",
       " 20734.0,\n",
       " 20735.0,\n",
       " 20736.0,\n",
       " 20737.0,\n",
       " 20738.0,\n",
       " 20739.0,\n",
       " 20740.0,\n",
       " 20741.0,\n",
       " 20742.0,\n",
       " 20743.0,\n",
       " 20744.0,\n",
       " 20745.0,\n",
       " 20746.0,\n",
       " 20747.0,\n",
       " 20748.0,\n",
       " 20749.0,\n",
       " 20750.0,\n",
       " 20751.0,\n",
       " 20752.0,\n",
       " 20753.0,\n",
       " 20754.0,\n",
       " 20755.0,\n",
       " 20756.0,\n",
       " 20757.0,\n",
       " 20758.0,\n",
       " 20759.0,\n",
       " 20760.0,\n",
       " 20761.0,\n",
       " 20762.0,\n",
       " 20763.0,\n",
       " 20764.0,\n",
       " 20765.0,\n",
       " 20766.0,\n",
       " 20767.0,\n",
       " 20768.0,\n",
       " 20769.0,\n",
       " 20770.0,\n",
       " 20771.0,\n",
       " 20772.0,\n",
       " 20773.0,\n",
       " 20774.0,\n",
       " 20775.0,\n",
       " 20776.0,\n",
       " 20777.0,\n",
       " 20778.0,\n",
       " 20779.0,\n",
       " 20780.0,\n",
       " 20781.0,\n",
       " 20782.0,\n",
       " 20783.0,\n",
       " 20784.0,\n",
       " 20785.0,\n",
       " 20786.0,\n",
       " 20787.0,\n",
       " 20788.0,\n",
       " 20789.0,\n",
       " 20790.0,\n",
       " 20791.0,\n",
       " 20792.0,\n",
       " 20793.0,\n",
       " 20794.0,\n",
       " 20795.0,\n",
       " 20796.0,\n",
       " 20797.0,\n",
       " 20798.0,\n",
       " 20799.0,\n",
       " 20800.0,\n",
       " 20801.0,\n",
       " 20802.0,\n",
       " 20803.0,\n",
       " 20804.0,\n",
       " 20805.0,\n",
       " 20806.0,\n",
       " 20807.0,\n",
       " 20808.0,\n",
       " 20809.0,\n",
       " 20810.0,\n",
       " 20811.0,\n",
       " 20812.0,\n",
       " 20813.0,\n",
       " 20814.0,\n",
       " 20815.0,\n",
       " 20816.0,\n",
       " 20817.0,\n",
       " 20818.0,\n",
       " 20819.0,\n",
       " 20820.0,\n",
       " 20821.0,\n",
       " 20822.0,\n",
       " 20823.0,\n",
       " 20824.0,\n",
       " 20825.0,\n",
       " 20826.0,\n",
       " 20827.0,\n",
       " 20828.0,\n",
       " 20829.0,\n",
       " 20830.0,\n",
       " 20831.0,\n",
       " 20832.0,\n",
       " 20833.0,\n",
       " 20834.0,\n",
       " 20835.0,\n",
       " 20836.0,\n",
       " 20837.0,\n",
       " 20838.0,\n",
       " 20839.0,\n",
       " 20840.0,\n",
       " 20841.0,\n",
       " 20842.0,\n",
       " 20843.0,\n",
       " 20844.0,\n",
       " 20845.0,\n",
       " 20846.0,\n",
       " 20847.0,\n",
       " 20848.0,\n",
       " 20849.0,\n",
       " 20850.0,\n",
       " 20851.0,\n",
       " 20852.0,\n",
       " 20853.0,\n",
       " 20854.0,\n",
       " 20855.0,\n",
       " 20856.0,\n",
       " 20857.0,\n",
       " 20858.0,\n",
       " 20859.0,\n",
       " 20860.0,\n",
       " 20861.0,\n",
       " 20862.0,\n",
       " 20863.0,\n",
       " 20864.0,\n",
       " 20865.0,\n",
       " 20866.0,\n",
       " 20867.0,\n",
       " 20868.0,\n",
       " 20869.0,\n",
       " 20870.0,\n",
       " 20871.0,\n",
       " 20872.0,\n",
       " 20873.0,\n",
       " 20874.0,\n",
       " 20875.0,\n",
       " 20876.0,\n",
       " 20877.0,\n",
       " 20878.0,\n",
       " 20879.0,\n",
       " 20880.0,\n",
       " 20881.0,\n",
       " 20882.0,\n",
       " 20883.0,\n",
       " 20884.0,\n",
       " 20885.0,\n",
       " 20886.0,\n",
       " 20887.0,\n",
       " 20888.0,\n",
       " 20889.0,\n",
       " 20890.0,\n",
       " 20891.0,\n",
       " 20892.0,\n",
       " 20893.0,\n",
       " 20894.0,\n",
       " 20895.0,\n",
       " 20896.0,\n",
       " 20897.0,\n",
       " 20898.0,\n",
       " 20899.0,\n",
       " 20900.0,\n",
       " 20901.0,\n",
       " 20902.0,\n",
       " 20903.0,\n",
       " 20904.0,\n",
       " 20905.0,\n",
       " 20906.0,\n",
       " 20907.0,\n",
       " 20908.0,\n",
       " 20909.0,\n",
       " 20910.0,\n",
       " 20911.0,\n",
       " 20912.0,\n",
       " 20913.0,\n",
       " 20914.0,\n",
       " 20915.0,\n",
       " 20916.0,\n",
       " 20917.0,\n",
       " 20918.0,\n",
       " 20919.0,\n",
       " 20920.0,\n",
       " 20921.0,\n",
       " 20922.0,\n",
       " 20923.0,\n",
       " 20924.0,\n",
       " 20925.0,\n",
       " 20926.0,\n",
       " 20927.0,\n",
       " 20928.0,\n",
       " 20929.0,\n",
       " 20930.0,\n",
       " 20931.0,\n",
       " 20932.0,\n",
       " 20933.0,\n",
       " 20934.0,\n",
       " 20935.0,\n",
       " 20936.0,\n",
       " 20937.0,\n",
       " 20938.0,\n",
       " 20939.0,\n",
       " 20940.0,\n",
       " 20941.0,\n",
       " 20942.0,\n",
       " 20943.0,\n",
       " 20944.0,\n",
       " 20945.0,\n",
       " 20946.0,\n",
       " 20947.0,\n",
       " 20948.0,\n",
       " 20949.0,\n",
       " 20950.0,\n",
       " 20951.0,\n",
       " 20952.0,\n",
       " 20953.0,\n",
       " 20954.0,\n",
       " 20955.0,\n",
       " 20956.0,\n",
       " 20957.0,\n",
       " 20958.0,\n",
       " 20959.0,\n",
       " 20960.0,\n",
       " 20961.0,\n",
       " 20962.0,\n",
       " 20963.0,\n",
       " 20964.0,\n",
       " 20965.0,\n",
       " 20966.0,\n",
       " 20967.0,\n",
       " 20968.0,\n",
       " 20969.0,\n",
       " 20970.0,\n",
       " 20971.0,\n",
       " 20972.0,\n",
       " 20973.0,\n",
       " 20974.0,\n",
       " 20975.0,\n",
       " 20976.0,\n",
       " 20977.0,\n",
       " 20978.0,\n",
       " 20979.0,\n",
       " 20980.0,\n",
       " 20981.0,\n",
       " 20982.0,\n",
       " 20983.0,\n",
       " 20984.0,\n",
       " 20985.0,\n",
       " 20986.0,\n",
       " 20987.0,\n",
       " 20988.0,\n",
       " 20989.0,\n",
       " 20990.0,\n",
       " 20991.0,\n",
       " 20992.0,\n",
       " 20993.0,\n",
       " 20994.0,\n",
       " 20995.0,\n",
       " 20996.0,\n",
       " 20997.0,\n",
       " 20998.0,\n",
       " 20999.0,\n",
       " 21000.0,\n",
       " ...]"
      ]
     },
     "execution_count": 44,
     "metadata": {},
     "output_type": "execute_result"
    }
   ],
   "source": [
    "keys_of_data_Games"
   ]
  },
  {
   "cell_type": "code",
   "execution_count": 45,
   "metadata": {
    "collapsed": false
   },
   "outputs": [],
   "source": [
    "data2013_2014_useful_grouped_Games = data2013_2014_useful.groupby(['Game.ID']).max()\n",
    "data2013_2014_useful_grouped_Games_sum = data2013_2014_useful.groupby(['Game.ID']).sum()\n",
    "data2013_2014_useful_grouped_Games_mean = data2013_2014_useful.groupby(['Game.ID']).mean()"
   ]
  },
  {
   "cell_type": "code",
   "execution_count": 46,
   "metadata": {
    "collapsed": false
   },
   "outputs": [],
   "source": [
    "data2013_2014_useful_grouped_Games[\"Away.Penalty\"] = data2013_2014_useful_grouped_Games_sum[\"Away.Penalty\"]\n",
    "data2013_2014_useful_grouped_Games[\"Home.Penalty\"] = data2013_2014_useful_grouped_Games_sum[\"Home.Penalty\"]"
   ]
  },
  {
   "cell_type": "code",
   "execution_count": 49,
   "metadata": {
    "collapsed": false
   },
   "outputs": [
    {
     "data": {
      "text/html": [
       "<div>\n",
       "<table border=\"1\" class=\"dataframe\">\n",
       "  <thead>\n",
       "    <tr style=\"text-align: right;\">\n",
       "      <th></th>\n",
       "      <th>Period</th>\n",
       "      <th>Away.Team</th>\n",
       "      <th>Home.Team</th>\n",
       "      <th>Home.Score</th>\n",
       "      <th>Away.Score</th>\n",
       "      <th>isRegular</th>\n",
       "      <th>isPlayoff</th>\n",
       "      <th>Away.Team.Strength</th>\n",
       "      <th>Home.Team.Strength</th>\n",
       "      <th>Away.Penalty</th>\n",
       "      <th>Home.Penalty</th>\n",
       "    </tr>\n",
       "    <tr>\n",
       "      <th>Game.ID</th>\n",
       "      <th></th>\n",
       "      <th></th>\n",
       "      <th></th>\n",
       "      <th></th>\n",
       "      <th></th>\n",
       "      <th></th>\n",
       "      <th></th>\n",
       "      <th></th>\n",
       "      <th></th>\n",
       "      <th></th>\n",
       "      <th></th>\n",
       "    </tr>\n",
       "  </thead>\n",
       "  <tbody>\n",
       "    <tr>\n",
       "      <th>20001.0</th>\n",
       "      <td>3</td>\n",
       "      <td>TOR</td>\n",
       "      <td>MTL</td>\n",
       "      <td>3</td>\n",
       "      <td>4</td>\n",
       "      <td>1</td>\n",
       "      <td>0</td>\n",
       "      <td>5.0</td>\n",
       "      <td>5.0</td>\n",
       "      <td>27.0</td>\n",
       "      <td>23.0</td>\n",
       "    </tr>\n",
       "    <tr>\n",
       "      <th>20002.0</th>\n",
       "      <td>3</td>\n",
       "      <td>WSH</td>\n",
       "      <td>CHI</td>\n",
       "      <td>6</td>\n",
       "      <td>4</td>\n",
       "      <td>1</td>\n",
       "      <td>0</td>\n",
       "      <td>5.0</td>\n",
       "      <td>5.0</td>\n",
       "      <td>16.0</td>\n",
       "      <td>18.0</td>\n",
       "    </tr>\n",
       "    <tr>\n",
       "      <th>20003.0</th>\n",
       "      <td>3</td>\n",
       "      <td>WPG</td>\n",
       "      <td>EDM</td>\n",
       "      <td>4</td>\n",
       "      <td>5</td>\n",
       "      <td>1</td>\n",
       "      <td>0</td>\n",
       "      <td>5.0</td>\n",
       "      <td>5.0</td>\n",
       "      <td>19.0</td>\n",
       "      <td>14.0</td>\n",
       "    </tr>\n",
       "    <tr>\n",
       "      <th>20004.0</th>\n",
       "      <td>3</td>\n",
       "      <td>TOR</td>\n",
       "      <td>PHI</td>\n",
       "      <td>1</td>\n",
       "      <td>3</td>\n",
       "      <td>1</td>\n",
       "      <td>0</td>\n",
       "      <td>5.0</td>\n",
       "      <td>5.0</td>\n",
       "      <td>17.0</td>\n",
       "      <td>23.0</td>\n",
       "    </tr>\n",
       "    <tr>\n",
       "      <th>20005.0</th>\n",
       "      <td>3</td>\n",
       "      <td>BUF</td>\n",
       "      <td>DET</td>\n",
       "      <td>2</td>\n",
       "      <td>1</td>\n",
       "      <td>1</td>\n",
       "      <td>0</td>\n",
       "      <td>5.0</td>\n",
       "      <td>5.0</td>\n",
       "      <td>29.0</td>\n",
       "      <td>9.0</td>\n",
       "    </tr>\n",
       "  </tbody>\n",
       "</table>\n",
       "</div>"
      ],
      "text/plain": [
       "         Period Away.Team Home.Team  Home.Score  Away.Score  isRegular  \\\n",
       "Game.ID                                                                  \n",
       "20001.0       3       TOR       MTL           3           4          1   \n",
       "20002.0       3       WSH       CHI           6           4          1   \n",
       "20003.0       3       WPG       EDM           4           5          1   \n",
       "20004.0       3       TOR       PHI           1           3          1   \n",
       "20005.0       3       BUF       DET           2           1          1   \n",
       "\n",
       "         isPlayoff  Away.Team.Strength  Home.Team.Strength  Away.Penalty  \\\n",
       "Game.ID                                                                    \n",
       "20001.0          0                 5.0                 5.0          27.0   \n",
       "20002.0          0                 5.0                 5.0          16.0   \n",
       "20003.0          0                 5.0                 5.0          19.0   \n",
       "20004.0          0                 5.0                 5.0          17.0   \n",
       "20005.0          0                 5.0                 5.0          29.0   \n",
       "\n",
       "         Home.Penalty  \n",
       "Game.ID                \n",
       "20001.0          23.0  \n",
       "20002.0          18.0  \n",
       "20003.0          14.0  \n",
       "20004.0          23.0  \n",
       "20005.0           9.0  "
      ]
     },
     "execution_count": 49,
     "metadata": {},
     "output_type": "execute_result"
    }
   ],
   "source": [
    "data2013_2014_useful_grouped_Games.head()"
   ]
  },
  {
   "cell_type": "markdown",
   "metadata": {},
   "source": [
    "### Вот тут мне бы хотелось иметь столбцы Away.Team.Strength и Home.Team.Strength, усреднённые по игре, но их нет("
   ]
  },
  {
   "cell_type": "code",
   "execution_count": 50,
   "metadata": {
    "collapsed": false
   },
   "outputs": [
    {
     "data": {
      "text/html": [
       "<div>\n",
       "<table border=\"1\" class=\"dataframe\">\n",
       "  <thead>\n",
       "    <tr style=\"text-align: right;\">\n",
       "      <th></th>\n",
       "      <th>Period</th>\n",
       "      <th>Home.Score</th>\n",
       "      <th>Away.Score</th>\n",
       "      <th>isRegular</th>\n",
       "      <th>isPlayoff</th>\n",
       "      <th>Away.Penalty</th>\n",
       "      <th>Home.Penalty</th>\n",
       "    </tr>\n",
       "    <tr>\n",
       "      <th>Game.ID</th>\n",
       "      <th></th>\n",
       "      <th></th>\n",
       "      <th></th>\n",
       "      <th></th>\n",
       "      <th></th>\n",
       "      <th></th>\n",
       "      <th></th>\n",
       "    </tr>\n",
       "  </thead>\n",
       "  <tbody>\n",
       "    <tr>\n",
       "      <th>20001.0</th>\n",
       "      <td>1.928302</td>\n",
       "      <td>1.538005</td>\n",
       "      <td>1.876550</td>\n",
       "      <td>1.0</td>\n",
       "      <td>0.0</td>\n",
       "      <td>0.014555</td>\n",
       "      <td>0.012399</td>\n",
       "    </tr>\n",
       "    <tr>\n",
       "      <th>20002.0</th>\n",
       "      <td>1.953065</td>\n",
       "      <td>2.431806</td>\n",
       "      <td>1.819437</td>\n",
       "      <td>1.0</td>\n",
       "      <td>0.0</td>\n",
       "      <td>0.008835</td>\n",
       "      <td>0.009939</td>\n",
       "    </tr>\n",
       "    <tr>\n",
       "      <th>20003.0</th>\n",
       "      <td>1.943135</td>\n",
       "      <td>2.741291</td>\n",
       "      <td>2.187500</td>\n",
       "      <td>1.0</td>\n",
       "      <td>0.0</td>\n",
       "      <td>0.009734</td>\n",
       "      <td>0.007172</td>\n",
       "    </tr>\n",
       "    <tr>\n",
       "      <th>20004.0</th>\n",
       "      <td>1.978355</td>\n",
       "      <td>0.653139</td>\n",
       "      <td>0.701299</td>\n",
       "      <td>1.0</td>\n",
       "      <td>0.0</td>\n",
       "      <td>0.009199</td>\n",
       "      <td>0.012446</td>\n",
       "    </tr>\n",
       "    <tr>\n",
       "      <th>20005.0</th>\n",
       "      <td>1.979708</td>\n",
       "      <td>1.570704</td>\n",
       "      <td>0.121750</td>\n",
       "      <td>1.0</td>\n",
       "      <td>0.0</td>\n",
       "      <td>0.018389</td>\n",
       "      <td>0.005707</td>\n",
       "    </tr>\n",
       "  </tbody>\n",
       "</table>\n",
       "</div>"
      ],
      "text/plain": [
       "           Period  Home.Score  Away.Score  isRegular  isPlayoff  Away.Penalty  \\\n",
       "Game.ID                                                                         \n",
       "20001.0  1.928302    1.538005    1.876550        1.0        0.0      0.014555   \n",
       "20002.0  1.953065    2.431806    1.819437        1.0        0.0      0.008835   \n",
       "20003.0  1.943135    2.741291    2.187500        1.0        0.0      0.009734   \n",
       "20004.0  1.978355    0.653139    0.701299        1.0        0.0      0.009199   \n",
       "20005.0  1.979708    1.570704    0.121750        1.0        0.0      0.018389   \n",
       "\n",
       "         Home.Penalty  \n",
       "Game.ID                \n",
       "20001.0      0.012399  \n",
       "20002.0      0.009939  \n",
       "20003.0      0.007172  \n",
       "20004.0      0.012446  \n",
       "20005.0      0.005707  "
      ]
     },
     "execution_count": 50,
     "metadata": {},
     "output_type": "execute_result"
    }
   ],
   "source": [
    "data2013_2014_useful_grouped_Games_mean.head()"
   ]
  },
  {
   "cell_type": "code",
   "execution_count": 93,
   "metadata": {
    "collapsed": true
   },
   "outputs": [],
   "source": [
    "del data2013_2014_useful_grouped_Games[\"Away.Team.Strength\"]\n",
    "del data2013_2014_useful_grouped_Games[\"Home.Team.Strength\"]"
   ]
  },
  {
   "cell_type": "code",
   "execution_count": 96,
   "metadata": {
    "collapsed": false
   },
   "outputs": [
    {
     "name": "stdout",
     "output_type": "stream",
     "text": [
      "(1323, 9)\n"
     ]
    }
   ],
   "source": [
    "print data2013_2014_useful_grouped_Games.shape"
   ]
  },
  {
   "cell_type": "code",
   "execution_count": null,
   "metadata": {
    "collapsed": true
   },
   "outputs": [],
   "source": []
  }
 ],
 "metadata": {
  "anaconda-cloud": {},
  "kernelspec": {
   "display_name": "Python [conda root]",
   "language": "python",
   "name": "conda-root-py"
  },
  "language_info": {
   "codemirror_mode": {
    "name": "ipython",
    "version": 2
   },
   "file_extension": ".py",
   "mimetype": "text/x-python",
   "name": "python",
   "nbconvert_exporter": "python",
   "pygments_lexer": "ipython2",
   "version": "2.7.12"
  }
 },
 "nbformat": 4,
 "nbformat_minor": 1
}
